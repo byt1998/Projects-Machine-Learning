{
 "cells": [
  {
   "cell_type": "code",
   "execution_count": 26,
   "metadata": {},
   "outputs": [],
   "source": [
    "import pickle\n",
    "import joblib\n",
    "import pandas as pd\n",
    "import numpy as np\n",
    "import requests"
   ]
  },
  {
   "cell_type": "code",
   "execution_count": 31,
   "metadata": {},
   "outputs": [
    {
     "name": "stdout",
     "output_type": "stream",
     "text": [
      "Neutral\n"
     ]
    }
   ],
   "source": [
    "import requests\n",
    "import json\n",
    "URL = \"http://localhost:8501/v1/models/auto_reply:predict\"\n",
    "new_data = [[\"banknya jelek banget sih\"]]\n",
    "\n",
    "input_data_json = json.dumps({\n",
    "    'signature_name':'serving_default',\n",
    "    'instances':new_data\n",
    "})\n",
    "r = requests.post(URL, data = input_data_json)\n",
    "# data = input_data_json\n",
    "if(np.argmax(r) == 0):\n",
    "    print(\"Neutral\")\n",
    "elif(np.argmax(r) == 1):\n",
    "    print(\"Negative\")\n",
    "elif(np.argmax(r) == 2):\n",
    "    print(\"Positive\")"
   ]
  },
  {
   "cell_type": "code",
   "execution_count": 30,
   "metadata": {},
   "outputs": [
    {
     "data": {
      "text/plain": [
       "'{\"signature_name\": \"serving_default\", \"instances\": [[\"bagus\"]]}'"
      ]
     },
     "execution_count": 30,
     "metadata": {},
     "output_type": "execute_result"
    }
   ],
   "source": [
    "input_data_json"
   ]
  },
  {
   "cell_type": "code",
   "execution_count": 22,
   "metadata": {},
   "outputs": [
    {
     "data": {
      "text/plain": [
       "<Response [200]>"
      ]
     },
     "execution_count": 22,
     "metadata": {},
     "output_type": "execute_result"
    }
   ],
   "source": [
    "r"
   ]
  },
  {
   "cell_type": "code",
   "execution_count": 34,
   "metadata": {},
   "outputs": [
    {
     "name": "stdout",
     "output_type": "stream",
     "text": [
      "Negative\n"
     ]
    }
   ],
   "source": [
    "import requests\n",
    "import json\n",
    "URL = \"http://backend-auto-reply-fp.herokuapp.com/v1/models/auto_reply:predict\"\n",
    "new_data = [[\"banknya jelek banget sih\"]]\n",
    "\n",
    "input_data_json = json.dumps({\n",
    "    'signature_name':'serving_default',\n",
    "    'instances':new_data\n",
    "})\n",
    "r = requests.post(URL, data = input_data_json)\n",
    "res = r.json()\n",
    "pred=np.array(res['predictions'][0])\n",
    "if(pred.argmax() == 0):\n",
    "    print(\"Neutral\")\n",
    "elif(pred.argmax() == 1):\n",
    "    print(\"Negative\")\n",
    "elif(pred.argmax() == 2):\n",
    "    print(\"Positive\")"
   ]
  },
  {
   "cell_type": "code",
   "execution_count": 93,
   "metadata": {},
   "outputs": [
    {
     "data": {
      "text/plain": [
       "'{\"signature_name\": \"serving_default\", \"instances\": [[\"Market is sucks\"]]}'"
      ]
     },
     "execution_count": 93,
     "metadata": {},
     "output_type": "execute_result"
    }
   ],
   "source": [
    "input_data_json"
   ]
  },
  {
   "cell_type": "code",
   "execution_count": 94,
   "metadata": {},
   "outputs": [
    {
     "data": {
      "text/plain": [
       "array([0.002447  , 0.99600142, 0.00155154])"
      ]
     },
     "execution_count": 94,
     "metadata": {},
     "output_type": "execute_result"
    }
   ],
   "source": [
    "pred"
   ]
  }
 ],
 "metadata": {
  "interpreter": {
   "hash": "3313081f939a1cd2fc9e524e93ad175a39774b1d821a5d0f007e3e4c61533bad"
  },
  "kernelspec": {
   "display_name": "Python 3.8.5 ('base')",
   "language": "python",
   "name": "python3"
  },
  "language_info": {
   "codemirror_mode": {
    "name": "ipython",
    "version": 3
   },
   "file_extension": ".py",
   "mimetype": "text/x-python",
   "name": "python",
   "nbconvert_exporter": "python",
   "pygments_lexer": "ipython3",
   "version": "3.8.5"
  },
  "orig_nbformat": 4
 },
 "nbformat": 4,
 "nbformat_minor": 2
}
