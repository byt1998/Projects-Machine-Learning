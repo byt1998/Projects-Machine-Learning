{
 "cells": [
  {
   "cell_type": "markdown",
   "metadata": {},
   "source": [
    "# Import Library"
   ]
  },
  {
   "cell_type": "code",
   "execution_count": 16,
   "metadata": {},
   "outputs": [],
   "source": [
    "from twython import Twython\n",
    "import sqlite3\n",
    "from time import sleep\n",
    "import numpy as np\n",
    "import pandas as pd\n",
    "import pickle\n",
    "import warnings\n",
    "from util import JSONParser\n",
    "from Sastrawi.Stemmer.StemmerFactory import StemmerFactory\n",
    "import re\n",
    "import string\n",
    "import math\n",
    "import random\n",
    "warnings.simplefilter(action='ignore', category=FutureWarning)\n",
    "from pandas.core.common import SettingWithCopyWarning\n",
    "warnings.simplefilter(action=\"ignore\", category=SettingWithCopyWarning)\n",
    "import warnings\n",
    "warnings.filterwarnings('ignore') "
   ]
  },
  {
   "cell_type": "markdown",
   "metadata": {},
   "source": [
    "# Access API"
   ]
  },
  {
   "cell_type": "code",
   "execution_count": 15,
   "metadata": {},
   "outputs": [
    {
     "name": "stdout",
     "output_type": "stream",
     "text": [
      "Authentication OK\n"
     ]
    }
   ],
   "source": [
    "import tweepy\n",
    "\n",
    "# Authenticate to Twitter\n",
    "auth = tweepy.OAuthHandler(\"CkhGa0z1CKMlK7GY56Zxh0250\", \n",
    "    \"Iq1o1IwRzuFw6xCandQbGUX1gzx6GezPD7ek1ptbcw46eni3LB\")\n",
    "auth.set_access_token(\"492948056-n4H0mlG3efeuJnDKkkoyeW9BWbl7kBrI95Dmlup1\", \n",
    "    \"jMSNiTz1mo764Xnz1x8cEAuu2CQRIhRbstAgRiD5WY7cP\")\n",
    "\n",
    "api = tweepy.API(auth)\n",
    "\n",
    "try:\n",
    "    api.verify_credentials()\n",
    "    print(\"Authentication OK\")\n",
    "except:\n",
    "    print(\"Error during authentication\")"
   ]
  },
  {
   "cell_type": "markdown",
   "metadata": {},
   "source": [
    "## Connection Database"
   ]
  },
  {
   "cell_type": "code",
   "execution_count": 3,
   "metadata": {},
   "outputs": [],
   "source": [
    "def create_connection(db_file):\n",
    "    conn = None\n",
    "    try:\n",
    "        conn = sqlite3.connect(db_file)\n",
    "    except Exception as e:\n",
    "        print(e)\n",
    "    return conn"
   ]
  },
  {
   "cell_type": "code",
   "execution_count": 4,
   "metadata": {},
   "outputs": [],
   "source": [
    "con = create_connection(\"twit copy.db\")\n",
    "cursor=con.cursor()"
   ]
  },
  {
   "cell_type": "markdown",
   "metadata": {},
   "source": [
    "# import json parser"
   ]
  },
  {
   "cell_type": "code",
   "execution_count": 5,
   "metadata": {},
   "outputs": [],
   "source": [
    "jp=JSONParser()\n",
    "jp.parse(\"data/intents.json\")"
   ]
  },
  {
   "cell_type": "markdown",
   "metadata": {},
   "source": [
    "# Important Function"
   ]
  },
  {
   "cell_type": "markdown",
   "metadata": {},
   "source": [
    "## open model pkl"
   ]
  },
  {
   "cell_type": "code",
   "execution_count": 17,
   "metadata": {},
   "outputs": [],
   "source": [
    "def open_model(model_path):\n",
    "    with open (model_path, 'rb') as f:\n",
    "        model = pickle.load(f)\n",
    "    return model\n",
    "model=open_model(\"model/model_2.pkl\")"
   ]
  },
  {
   "cell_type": "markdown",
   "metadata": {},
   "source": [
    "## Document Preprocessing"
   ]
  },
  {
   "cell_type": "code",
   "execution_count": 7,
   "metadata": {},
   "outputs": [],
   "source": [
    "def document_processing(document):\n",
    "    document = document.lower()\n",
    "    document = document.translate(str.maketrans(\"\",\"\",string.punctuation))\n",
    "    document = re.sub(\"[^A-Za-z\\s']\",\" \", document)\n",
    "    document = re.sub(r'http\\S+', '', document) # remove links\n",
    "    document = re.sub(r\"www.\\S+\", \" \", document) # remove link\n",
    "    document = document.strip()\n",
    "    stemmer = StemmerFactory().create_stemmer()\n",
    "    document = stemmer.stem(document)\n",
    "    return document"
   ]
  },
  {
   "cell_type": "markdown",
   "metadata": {},
   "source": [
    "## get response"
   ]
  },
  {
   "cell_type": "code",
   "execution_count": 8,
   "metadata": {},
   "outputs": [],
   "source": [
    "def generateOTP() :\n",
    "    digits = \"0123456789\"\n",
    "    OTP = \"\"\n",
    "    for i in range(5) :\n",
    "        OTP += digits[math.floor(random.random() * 10)]\n",
    "    return OTP"
   ]
  },
  {
   "cell_type": "code",
   "execution_count": 9,
   "metadata": {},
   "outputs": [],
   "source": [
    "def response_trouble(teks, phase):\n",
    "    print(phase)\n",
    "    if phase==0:\n",
    "        if teks == '#gantiATM':\n",
    "            response= \"\"\"Baik kak aku bantu proses pergantian ATM ya, Sebelumnya ada beberapa syarat yang harus dilengkapi yaitu dengan isi data diri. Pertama silahkan ketikkan data dengan format *Nama, Nomor Rekening, No Handphone, Email*\n",
    "            \"\"\"\n",
    "            return 1, response, 1\n",
    "        else:\n",
    "            proba=model.predict_proba([teks])[0]\n",
    "            if proba.max()<0.25: response=\"Maaf Kak Saya Tidak Mengerti(from response trouble)\"\n",
    "            else:\n",
    "                tag=model.predict([teks])[0]\n",
    "                response=jp.get_response(tag)\n",
    "                return 0, response, None\n",
    "    elif phase==1:\n",
    "        data_nasabah=teks.split(',')\n",
    "        data_nasabah=[dt.strip() for dt in data_nasabah]\n",
    "        try:\n",
    "            print(data_nasabah)\n",
    "            query=f\"select * from nasabah where no_rekening='{data_nasabah[1]}' and nama= '{data_nasabah[0]}' and no_hp='{data_nasabah[2]}' and email='{data_nasabah[3]}'\"\n",
    "            print(query)\n",
    "            data_f_sql=cursor.execute(query).fetchall()[0]\n",
    "            otp=generateOTP()\n",
    "            query_2=f\"UPDATE nasabah set otp={otp} WHERE no_rekening='{data_nasabah[1]}'\"\n",
    "            cursor.execute(query_2)\n",
    "            con.commit()\n",
    "            response=\"Kami telah mengirim kode OTP melalui no HP Anda. Silakan balas pesan ini dengan format *no rekening, otp*\"\n",
    "            return 1, response, 2\n",
    "        except Exception as error:\n",
    "            print(error, 'response_trouble')\n",
    "            response='data yang anda masukkan salah, silahkan masukkaan kembali data anda'\n",
    "            return 1, response, 1\n",
    "    elif phase==2:\n",
    "        data_nasabah=teks.split(',')\n",
    "        data_nasabah=[dt.strip() for dt in data_nasabah]\n",
    "        try:\n",
    "            query=f\"SELECT * FROM nasabah WHERE no_rekening = '{data_nasabah[0]}' AND otp={data_nasabah[1]}\"\n",
    "            data_f_sql=cursor.execute(query).fetchall()[0]\n",
    "            response=\"Selamat kakak akan menerima kartu ATM baru! Tunggu kami ya kak maksimal 3x24 jam kartu ATM baru kakak sampai rumah\"\n",
    "            query_2=f\"UPDATE nasabah set otp=null WHERE no_rekening='{data_nasabah[0]}'\"\n",
    "            cursor.execute(query_2)\n",
    "            con.commit()\n",
    "            return 0, response, None\n",
    "        except Exception as error:\n",
    "            print(error,  'response_trouble')\n",
    "            response='data yang anda masukkan salah(from response trouble)'\n",
    "            return 1, response, 2\n",
    "\n",
    "        "
   ]
  },
  {
   "cell_type": "code",
   "execution_count": 10,
   "metadata": {},
   "outputs": [],
   "source": [
    "def response(data):\n",
    "    data.iloc[:]['text']=data['text'].apply(document_processing)\n",
    "    resp=[]\n",
    "    for d in data.values:\n",
    "        try:\n",
    "            query=f\"\"\"SELECT is_trouble, phase FROM direct_massage \n",
    "                                        WHERE \n",
    "                                            sender={d[1]} AND\n",
    "                                            is_trouble=1 AND\n",
    "                                            ID=(SELECT MAX(ID) FROM direct_massage WHERE sender={d[1]})\"\"\"\n",
    "            q_result=cursor.execute(query).fetchall()[0]\n",
    "            t, r, phase=response_trouble(d[0],q_result[1])\n",
    "            resp.append([r, t, phase])\n",
    "        except Exception as error:\n",
    "            print(error, '-response')\n",
    "            proba=model.predict_proba([d[0]])[0]\n",
    "            if proba.max()<0.25: resp.append([\"Maaf Kak Saya Tidak Mengerti(from respons)\", False, None])\n",
    "            else:\n",
    "                tag=model.predict([d[0]])[0]\n",
    "                if tag=='ganti ATM':t=1\n",
    "                else: t= 0\n",
    "                r=jp.get_response(tag)\n",
    "                resp.append([r, t, 0])\n",
    "    print(resp)\n",
    "    return resp"
   ]
  },
  {
   "cell_type": "markdown",
   "metadata": {},
   "source": [
    "## grab massage"
   ]
  },
  {
   "cell_type": "code",
   "execution_count": 11,
   "metadata": {},
   "outputs": [],
   "source": [
    "def get_massage(api):\n",
    "    pesan=api.get_direct_messages()\n",
    "    df= pd.DataFrame([[int(s.id), s.created_timestamp, s.message_create['message_data']['text'], s.message_create['target']['recipient_id'], s.message_create['sender_id']] for s in pesan], columns=('ID', 'created at', 'text', 'recipient', 'sender' ))\n",
    "    return df[df.sender!='492948056']"
   ]
  },
  {
   "cell_type": "markdown",
   "metadata": {},
   "source": [
    "## check new massage"
   ]
  },
  {
   "cell_type": "code",
   "execution_count": 12,
   "metadata": {},
   "outputs": [],
   "source": [
    "def cek_response(api, cursor):\n",
    "    max_id=cursor.execute('SELECT MAX(ID) FROM direct_massage').fetchall()[0][0]\n",
    "    if max_id==None:max_id=0\n",
    "    new_massage=get_massage(api)\n",
    "    if new_massage.ID.max()>max_id:\n",
    "        massage=new_massage[new_massage.ID>max_id]\n",
    "        massage[['response','is_trouble', 'phase']]=response(massage[['text','sender']])\n",
    "        for mas in massage['ID'].values:\n",
    "            # print(massage[massage.ID==mas].response.values[0])\n",
    "            try:\n",
    "                api.send_direct_message(massage[massage.ID==mas].sender.values[0], massage[massage.ID==mas].response.values[0])\n",
    "            except Exception as error:\n",
    "                print(error, '->cek response')\n",
    "        return True, massage\n",
    "    else:\n",
    "        return False, None"
   ]
  },
  {
   "cell_type": "markdown",
   "metadata": {},
   "source": [
    "# Main Menu"
   ]
  },
  {
   "cell_type": "markdown",
   "metadata": {},
   "source": [
    "## run bot"
   ]
  },
  {
   "cell_type": "code",
   "execution_count": 13,
   "metadata": {},
   "outputs": [
    {
     "name": "stdout",
     "output_type": "stream",
     "text": [
      "No Massage\n",
      "No Massage\n",
      "list index out of range -response\n",
      "list index out of range -response\n",
      "[['Hai kakak, panggil aku Chass, apakah ada yang bisa saya bantu?', 0, 0], ['Maaf Kak Saya Tidak Mengerti(from respons)', False, None]]\n",
      "Data baru sejumlah 2\n",
      "list index out of range -response\n",
      "[['Hai kakak!', 0, 0]]\n",
      "Data baru sejumlah 1\n",
      "list index out of range -response\n",
      "[['Halo kak! mau ganti ATM yaaa, boleh banget sini Chass bantu hehehe. Oke kaka bisa banget ganti kartu untuk kartu ATM rusak, kartu ATM tertelan, dan kartu ATM hilang dengan mengujungi lokasi kantor cabang terdekat atau sama aku nanti aku bantu sepenuhnya, namun akan dikenakan biaya tambahan untuk materai 10000 sebesar Rp10.000 pembayarannya akan otomatis dipotong melalui kartu bank untuk penggantian kartu lama dengan kartu yang baru, kakak cukup ketik #gantiATM untuk melanjutkan proses penggantiannya.', 1, 0]]\n",
      "Data baru sejumlah 1\n",
      "No Massage\n",
      "list index out of range -response\n",
      "[['Silahkan kunjungi website resmi kami di www.bankhacktiv.com', 0, 0]]\n",
      "Data baru sejumlah 1\n",
      "No Massage\n",
      "list index out of range -response\n",
      "[['Halo kak! mau ganti ATM yaaa, boleh banget sini Chass bantu hehehe. Oke kaka bisa banget ganti kartu untuk kartu ATM rusak, kartu ATM tertelan, dan kartu ATM hilang dengan mengujungi lokasi kantor cabang terdekat atau sama aku nanti aku bantu sepenuhnya, namun akan dikenakan biaya tambahan untuk materai 10000 sebesar Rp10.000 pembayarannya akan otomatis dipotong melalui kartu bank untuk penggantian kartu lama dengan kartu yang baru, kakak cukup ketik #gantiATM untuk melanjutkan proses penggantiannya.', 1, 0]]\n",
      "Data baru sejumlah 1\n",
      "No Massage\n",
      "0\n",
      "cannot unpack non-iterable NoneType object -response\n",
      "[['Maaf Kak Saya Tidak Mengerti(from respons)', False, None]]\n",
      "Data baru sejumlah 1\n",
      "0\n",
      "list index out of range -response\n",
      "[['Baik kak aku bantu proses pergantian ATM ya, Sebelumnya ada beberapa syarat yang harus dilengkapi yaitu dengan isi data diri. Pertama silahkan ketikkan data dengan format *Nama, Nomor Rekening, No Handphone, Email*\\n            ', 1, 1], ['Maaf Kak Saya Tidak Mengerti(from respons)', False, None]]\n",
      "Data baru sejumlah 2\n",
      "No Massage\n",
      "No Massage\n",
      "1\n",
      "['Wahyudi', '001002003', '081273230070', 'wahyudi@hactive8.com']\n",
      "select * from nasabah where no_rekening='001002003' and nama= 'Wahyudi' and no_hp='081273230070' and email='wahyudi@hactive8.com'\n",
      "list index out of range response_trouble\n",
      "[['data yang anda masukkan salah, silahkan masukkaan kembali data anda', 1, 1]]\n",
      "Data baru sejumlah 1\n",
      "No Massage\n",
      "No Massage\n",
      "No Massage\n",
      "list index out of range -response\n",
      "1\n",
      "['Wahyudi', '001002003', '081273230070', 'wahyudi@hacktive8.com']\n",
      "select * from nasabah where no_rekening='001002003' and nama= 'Wahyudi' and no_hp='081273230070' and email='wahyudi@hacktive8.com'\n",
      "[['Maaf Kak Saya Tidak Mengerti(from respons)', False, None], ['Kami telah mengirim kode OTP melalui no HP Anda. Silakan balas pesan ini dengan format *no rekening, otp*', 1, 2]]\n",
      "Data baru sejumlah 2\n",
      "No Massage\n",
      "2\n",
      "[['Selamat kakak akan menerima kartu ATM baru! Tunggu kami ya kak maksimal 3x24 jam kartu ATM baru kakak sampai rumah', 0, None]]\n",
      "Data baru sejumlah 1\n",
      "No Massage\n",
      "No Massage\n",
      "No Massage\n"
     ]
    },
    {
     "ename": "TweepyException",
     "evalue": "Failed to send request: HTTPSConnectionPool(host='api.twitter.com', port=443): Max retries exceeded with url: /1.1/direct_messages/events/list.json (Caused by NewConnectionError('<urllib3.connection.HTTPSConnection object at 0x000001814B804070>: Failed to establish a new connection: [Errno 11001] getaddrinfo failed'))",
     "output_type": "error",
     "traceback": [
      "\u001b[1;31m---------------------------------------------------------------------------\u001b[0m",
      "\u001b[1;31mgaierror\u001b[0m                                  Traceback (most recent call last)",
      "File \u001b[1;32mc:\\Users\\wahyu\\anaconda3\\lib\\site-packages\\urllib3\\connection.py:174\u001b[0m, in \u001b[0;36mHTTPConnection._new_conn\u001b[1;34m(self)\u001b[0m\n\u001b[0;32m    173\u001b[0m \u001b[39mtry\u001b[39;00m:\n\u001b[1;32m--> 174\u001b[0m     conn \u001b[39m=\u001b[39m connection\u001b[39m.\u001b[39mcreate_connection(\n\u001b[0;32m    175\u001b[0m         (\u001b[39mself\u001b[39m\u001b[39m.\u001b[39m_dns_host, \u001b[39mself\u001b[39m\u001b[39m.\u001b[39mport), \u001b[39mself\u001b[39m\u001b[39m.\u001b[39mtimeout, \u001b[39m*\u001b[39m\u001b[39m*\u001b[39mextra_kw\n\u001b[0;32m    176\u001b[0m     )\n\u001b[0;32m    178\u001b[0m \u001b[39mexcept\u001b[39;00m SocketTimeout:\n",
      "File \u001b[1;32mc:\\Users\\wahyu\\anaconda3\\lib\\site-packages\\urllib3\\util\\connection.py:72\u001b[0m, in \u001b[0;36mcreate_connection\u001b[1;34m(address, timeout, source_address, socket_options)\u001b[0m\n\u001b[0;32m     68\u001b[0m     \u001b[39mreturn\u001b[39;00m six\u001b[39m.\u001b[39mraise_from(\n\u001b[0;32m     69\u001b[0m         LocationParseError(\u001b[39mu\u001b[39m\u001b[39m\"\u001b[39m\u001b[39m'\u001b[39m\u001b[39m%s\u001b[39;00m\u001b[39m'\u001b[39m\u001b[39m, label empty or too long\u001b[39m\u001b[39m\"\u001b[39m \u001b[39m%\u001b[39m host), \u001b[39mNone\u001b[39;00m\n\u001b[0;32m     70\u001b[0m     )\n\u001b[1;32m---> 72\u001b[0m \u001b[39mfor\u001b[39;00m res \u001b[39min\u001b[39;00m socket\u001b[39m.\u001b[39;49mgetaddrinfo(host, port, family, socket\u001b[39m.\u001b[39;49mSOCK_STREAM):\n\u001b[0;32m     73\u001b[0m     af, socktype, proto, canonname, sa \u001b[39m=\u001b[39m res\n",
      "File \u001b[1;32mc:\\Users\\wahyu\\anaconda3\\lib\\socket.py:954\u001b[0m, in \u001b[0;36mgetaddrinfo\u001b[1;34m(host, port, family, type, proto, flags)\u001b[0m\n\u001b[0;32m    953\u001b[0m addrlist \u001b[39m=\u001b[39m []\n\u001b[1;32m--> 954\u001b[0m \u001b[39mfor\u001b[39;00m res \u001b[39min\u001b[39;00m _socket\u001b[39m.\u001b[39;49mgetaddrinfo(host, port, family, \u001b[39mtype\u001b[39;49m, proto, flags):\n\u001b[0;32m    955\u001b[0m     af, socktype, proto, canonname, sa \u001b[39m=\u001b[39m res\n",
      "\u001b[1;31mgaierror\u001b[0m: [Errno 11001] getaddrinfo failed",
      "\nDuring handling of the above exception, another exception occurred:\n",
      "\u001b[1;31mNewConnectionError\u001b[0m                        Traceback (most recent call last)",
      "File \u001b[1;32mc:\\Users\\wahyu\\anaconda3\\lib\\site-packages\\urllib3\\connectionpool.py:703\u001b[0m, in \u001b[0;36mHTTPConnectionPool.urlopen\u001b[1;34m(self, method, url, body, headers, retries, redirect, assert_same_host, timeout, pool_timeout, release_conn, chunked, body_pos, **response_kw)\u001b[0m\n\u001b[0;32m    702\u001b[0m \u001b[39m# Make the request on the httplib connection object.\u001b[39;00m\n\u001b[1;32m--> 703\u001b[0m httplib_response \u001b[39m=\u001b[39m \u001b[39mself\u001b[39;49m\u001b[39m.\u001b[39;49m_make_request(\n\u001b[0;32m    704\u001b[0m     conn,\n\u001b[0;32m    705\u001b[0m     method,\n\u001b[0;32m    706\u001b[0m     url,\n\u001b[0;32m    707\u001b[0m     timeout\u001b[39m=\u001b[39;49mtimeout_obj,\n\u001b[0;32m    708\u001b[0m     body\u001b[39m=\u001b[39;49mbody,\n\u001b[0;32m    709\u001b[0m     headers\u001b[39m=\u001b[39;49mheaders,\n\u001b[0;32m    710\u001b[0m     chunked\u001b[39m=\u001b[39;49mchunked,\n\u001b[0;32m    711\u001b[0m )\n\u001b[0;32m    713\u001b[0m \u001b[39m# If we're going to release the connection in ``finally:``, then\u001b[39;00m\n\u001b[0;32m    714\u001b[0m \u001b[39m# the response doesn't need to know about the connection. Otherwise\u001b[39;00m\n\u001b[0;32m    715\u001b[0m \u001b[39m# it will also try to release it and we'll have a double-release\u001b[39;00m\n\u001b[0;32m    716\u001b[0m \u001b[39m# mess.\u001b[39;00m\n",
      "File \u001b[1;32mc:\\Users\\wahyu\\anaconda3\\lib\\site-packages\\urllib3\\connectionpool.py:386\u001b[0m, in \u001b[0;36mHTTPConnectionPool._make_request\u001b[1;34m(self, conn, method, url, timeout, chunked, **httplib_request_kw)\u001b[0m\n\u001b[0;32m    385\u001b[0m \u001b[39mtry\u001b[39;00m:\n\u001b[1;32m--> 386\u001b[0m     \u001b[39mself\u001b[39;49m\u001b[39m.\u001b[39;49m_validate_conn(conn)\n\u001b[0;32m    387\u001b[0m \u001b[39mexcept\u001b[39;00m (SocketTimeout, BaseSSLError) \u001b[39mas\u001b[39;00m e:\n\u001b[0;32m    388\u001b[0m     \u001b[39m# Py2 raises this as a BaseSSLError, Py3 raises it as socket timeout.\u001b[39;00m\n",
      "File \u001b[1;32mc:\\Users\\wahyu\\anaconda3\\lib\\site-packages\\urllib3\\connectionpool.py:1040\u001b[0m, in \u001b[0;36mHTTPSConnectionPool._validate_conn\u001b[1;34m(self, conn)\u001b[0m\n\u001b[0;32m   1039\u001b[0m \u001b[39mif\u001b[39;00m \u001b[39mnot\u001b[39;00m \u001b[39mgetattr\u001b[39m(conn, \u001b[39m\"\u001b[39m\u001b[39msock\u001b[39m\u001b[39m\"\u001b[39m, \u001b[39mNone\u001b[39;00m):  \u001b[39m# AppEngine might not have  `.sock`\u001b[39;00m\n\u001b[1;32m-> 1040\u001b[0m     conn\u001b[39m.\u001b[39;49mconnect()\n\u001b[0;32m   1042\u001b[0m \u001b[39mif\u001b[39;00m \u001b[39mnot\u001b[39;00m conn\u001b[39m.\u001b[39mis_verified:\n",
      "File \u001b[1;32mc:\\Users\\wahyu\\anaconda3\\lib\\site-packages\\urllib3\\connection.py:358\u001b[0m, in \u001b[0;36mHTTPSConnection.connect\u001b[1;34m(self)\u001b[0m\n\u001b[0;32m    356\u001b[0m \u001b[39mdef\u001b[39;00m \u001b[39mconnect\u001b[39m(\u001b[39mself\u001b[39m):\n\u001b[0;32m    357\u001b[0m     \u001b[39m# Add certificate verification\u001b[39;00m\n\u001b[1;32m--> 358\u001b[0m     \u001b[39mself\u001b[39m\u001b[39m.\u001b[39msock \u001b[39m=\u001b[39m conn \u001b[39m=\u001b[39m \u001b[39mself\u001b[39;49m\u001b[39m.\u001b[39;49m_new_conn()\n\u001b[0;32m    359\u001b[0m     hostname \u001b[39m=\u001b[39m \u001b[39mself\u001b[39m\u001b[39m.\u001b[39mhost\n",
      "File \u001b[1;32mc:\\Users\\wahyu\\anaconda3\\lib\\site-packages\\urllib3\\connection.py:186\u001b[0m, in \u001b[0;36mHTTPConnection._new_conn\u001b[1;34m(self)\u001b[0m\n\u001b[0;32m    185\u001b[0m \u001b[39mexcept\u001b[39;00m SocketError \u001b[39mas\u001b[39;00m e:\n\u001b[1;32m--> 186\u001b[0m     \u001b[39mraise\u001b[39;00m NewConnectionError(\n\u001b[0;32m    187\u001b[0m         \u001b[39mself\u001b[39m, \u001b[39m\"\u001b[39m\u001b[39mFailed to establish a new connection: \u001b[39m\u001b[39m%s\u001b[39;00m\u001b[39m\"\u001b[39m \u001b[39m%\u001b[39m e\n\u001b[0;32m    188\u001b[0m     )\n\u001b[0;32m    190\u001b[0m \u001b[39mreturn\u001b[39;00m conn\n",
      "\u001b[1;31mNewConnectionError\u001b[0m: <urllib3.connection.HTTPSConnection object at 0x000001814B804070>: Failed to establish a new connection: [Errno 11001] getaddrinfo failed",
      "\nDuring handling of the above exception, another exception occurred:\n",
      "\u001b[1;31mMaxRetryError\u001b[0m                             Traceback (most recent call last)",
      "File \u001b[1;32mc:\\Users\\wahyu\\anaconda3\\lib\\site-packages\\requests\\adapters.py:440\u001b[0m, in \u001b[0;36mHTTPAdapter.send\u001b[1;34m(self, request, stream, timeout, verify, cert, proxies)\u001b[0m\n\u001b[0;32m    439\u001b[0m \u001b[39mif\u001b[39;00m \u001b[39mnot\u001b[39;00m chunked:\n\u001b[1;32m--> 440\u001b[0m     resp \u001b[39m=\u001b[39m conn\u001b[39m.\u001b[39;49murlopen(\n\u001b[0;32m    441\u001b[0m         method\u001b[39m=\u001b[39;49mrequest\u001b[39m.\u001b[39;49mmethod,\n\u001b[0;32m    442\u001b[0m         url\u001b[39m=\u001b[39;49murl,\n\u001b[0;32m    443\u001b[0m         body\u001b[39m=\u001b[39;49mrequest\u001b[39m.\u001b[39;49mbody,\n\u001b[0;32m    444\u001b[0m         headers\u001b[39m=\u001b[39;49mrequest\u001b[39m.\u001b[39;49mheaders,\n\u001b[0;32m    445\u001b[0m         redirect\u001b[39m=\u001b[39;49m\u001b[39mFalse\u001b[39;49;00m,\n\u001b[0;32m    446\u001b[0m         assert_same_host\u001b[39m=\u001b[39;49m\u001b[39mFalse\u001b[39;49;00m,\n\u001b[0;32m    447\u001b[0m         preload_content\u001b[39m=\u001b[39;49m\u001b[39mFalse\u001b[39;49;00m,\n\u001b[0;32m    448\u001b[0m         decode_content\u001b[39m=\u001b[39;49m\u001b[39mFalse\u001b[39;49;00m,\n\u001b[0;32m    449\u001b[0m         retries\u001b[39m=\u001b[39;49m\u001b[39mself\u001b[39;49m\u001b[39m.\u001b[39;49mmax_retries,\n\u001b[0;32m    450\u001b[0m         timeout\u001b[39m=\u001b[39;49mtimeout\n\u001b[0;32m    451\u001b[0m     )\n\u001b[0;32m    453\u001b[0m \u001b[39m# Send the request.\u001b[39;00m\n\u001b[0;32m    454\u001b[0m \u001b[39melse\u001b[39;00m:\n",
      "File \u001b[1;32mc:\\Users\\wahyu\\anaconda3\\lib\\site-packages\\urllib3\\connectionpool.py:785\u001b[0m, in \u001b[0;36mHTTPConnectionPool.urlopen\u001b[1;34m(self, method, url, body, headers, retries, redirect, assert_same_host, timeout, pool_timeout, release_conn, chunked, body_pos, **response_kw)\u001b[0m\n\u001b[0;32m    783\u001b[0m     e \u001b[39m=\u001b[39m ProtocolError(\u001b[39m\"\u001b[39m\u001b[39mConnection aborted.\u001b[39m\u001b[39m\"\u001b[39m, e)\n\u001b[1;32m--> 785\u001b[0m retries \u001b[39m=\u001b[39m retries\u001b[39m.\u001b[39;49mincrement(\n\u001b[0;32m    786\u001b[0m     method, url, error\u001b[39m=\u001b[39;49me, _pool\u001b[39m=\u001b[39;49m\u001b[39mself\u001b[39;49m, _stacktrace\u001b[39m=\u001b[39;49msys\u001b[39m.\u001b[39;49mexc_info()[\u001b[39m2\u001b[39;49m]\n\u001b[0;32m    787\u001b[0m )\n\u001b[0;32m    788\u001b[0m retries\u001b[39m.\u001b[39msleep()\n",
      "File \u001b[1;32mc:\\Users\\wahyu\\anaconda3\\lib\\site-packages\\urllib3\\util\\retry.py:592\u001b[0m, in \u001b[0;36mRetry.increment\u001b[1;34m(self, method, url, response, error, _pool, _stacktrace)\u001b[0m\n\u001b[0;32m    591\u001b[0m \u001b[39mif\u001b[39;00m new_retry\u001b[39m.\u001b[39mis_exhausted():\n\u001b[1;32m--> 592\u001b[0m     \u001b[39mraise\u001b[39;00m MaxRetryError(_pool, url, error \u001b[39mor\u001b[39;00m ResponseError(cause))\n\u001b[0;32m    594\u001b[0m log\u001b[39m.\u001b[39mdebug(\u001b[39m\"\u001b[39m\u001b[39mIncremented Retry for (url=\u001b[39m\u001b[39m'\u001b[39m\u001b[39m%s\u001b[39;00m\u001b[39m'\u001b[39m\u001b[39m): \u001b[39m\u001b[39m%r\u001b[39;00m\u001b[39m\"\u001b[39m, url, new_retry)\n",
      "\u001b[1;31mMaxRetryError\u001b[0m: HTTPSConnectionPool(host='api.twitter.com', port=443): Max retries exceeded with url: /1.1/direct_messages/events/list.json (Caused by NewConnectionError('<urllib3.connection.HTTPSConnection object at 0x000001814B804070>: Failed to establish a new connection: [Errno 11001] getaddrinfo failed'))",
      "\nDuring handling of the above exception, another exception occurred:\n",
      "\u001b[1;31mConnectionError\u001b[0m                           Traceback (most recent call last)",
      "File \u001b[1;32mc:\\Users\\wahyu\\anaconda3\\lib\\site-packages\\tweepy\\api.py:216\u001b[0m, in \u001b[0;36mAPI.request\u001b[1;34m(self, method, endpoint, endpoint_parameters, params, headers, json_payload, parser, payload_list, payload_type, post_data, files, require_auth, return_cursors, upload_api, use_cache, **kwargs)\u001b[0m\n\u001b[0;32m    215\u001b[0m \u001b[39mtry\u001b[39;00m:\n\u001b[1;32m--> 216\u001b[0m     resp \u001b[39m=\u001b[39m \u001b[39mself\u001b[39;49m\u001b[39m.\u001b[39;49msession\u001b[39m.\u001b[39;49mrequest(\n\u001b[0;32m    217\u001b[0m         method, url, params\u001b[39m=\u001b[39;49mparams, headers\u001b[39m=\u001b[39;49mheaders,\n\u001b[0;32m    218\u001b[0m         data\u001b[39m=\u001b[39;49mpost_data, files\u001b[39m=\u001b[39;49mfiles, json\u001b[39m=\u001b[39;49mjson_payload,\n\u001b[0;32m    219\u001b[0m         timeout\u001b[39m=\u001b[39;49m\u001b[39mself\u001b[39;49m\u001b[39m.\u001b[39;49mtimeout, auth\u001b[39m=\u001b[39;49mauth, proxies\u001b[39m=\u001b[39;49m\u001b[39mself\u001b[39;49m\u001b[39m.\u001b[39;49mproxy\n\u001b[0;32m    220\u001b[0m     )\n\u001b[0;32m    221\u001b[0m \u001b[39mexcept\u001b[39;00m \u001b[39mException\u001b[39;00m \u001b[39mas\u001b[39;00m e:\n",
      "File \u001b[1;32mc:\\Users\\wahyu\\anaconda3\\lib\\site-packages\\requests\\sessions.py:529\u001b[0m, in \u001b[0;36mSession.request\u001b[1;34m(self, method, url, params, data, headers, cookies, files, auth, timeout, allow_redirects, proxies, hooks, stream, verify, cert, json)\u001b[0m\n\u001b[0;32m    528\u001b[0m send_kwargs\u001b[39m.\u001b[39mupdate(settings)\n\u001b[1;32m--> 529\u001b[0m resp \u001b[39m=\u001b[39m \u001b[39mself\u001b[39m\u001b[39m.\u001b[39msend(prep, \u001b[39m*\u001b[39m\u001b[39m*\u001b[39msend_kwargs)\n\u001b[0;32m    531\u001b[0m \u001b[39mreturn\u001b[39;00m resp\n",
      "File \u001b[1;32mc:\\Users\\wahyu\\anaconda3\\lib\\site-packages\\requests\\sessions.py:645\u001b[0m, in \u001b[0;36mSession.send\u001b[1;34m(self, request, **kwargs)\u001b[0m\n\u001b[0;32m    644\u001b[0m \u001b[39m# Send the request\u001b[39;00m\n\u001b[1;32m--> 645\u001b[0m r \u001b[39m=\u001b[39m adapter\u001b[39m.\u001b[39msend(request, \u001b[39m*\u001b[39m\u001b[39m*\u001b[39mkwargs)\n\u001b[0;32m    647\u001b[0m \u001b[39m# Total elapsed time of the request (approximately)\u001b[39;00m\n",
      "File \u001b[1;32mc:\\Users\\wahyu\\anaconda3\\lib\\site-packages\\requests\\adapters.py:519\u001b[0m, in \u001b[0;36mHTTPAdapter.send\u001b[1;34m(self, request, stream, timeout, verify, cert, proxies)\u001b[0m\n\u001b[0;32m    517\u001b[0m         \u001b[39mraise\u001b[39;00m SSLError(e, request\u001b[39m=\u001b[39mrequest)\n\u001b[1;32m--> 519\u001b[0m     \u001b[39mraise\u001b[39;00m \u001b[39mConnectionError\u001b[39;00m(e, request\u001b[39m=\u001b[39mrequest)\n\u001b[0;32m    521\u001b[0m \u001b[39mexcept\u001b[39;00m ClosedPoolError \u001b[39mas\u001b[39;00m e:\n",
      "\u001b[1;31mConnectionError\u001b[0m: HTTPSConnectionPool(host='api.twitter.com', port=443): Max retries exceeded with url: /1.1/direct_messages/events/list.json (Caused by NewConnectionError('<urllib3.connection.HTTPSConnection object at 0x000001814B804070>: Failed to establish a new connection: [Errno 11001] getaddrinfo failed'))",
      "\nDuring handling of the above exception, another exception occurred:\n",
      "\u001b[1;31mTweepyException\u001b[0m                           Traceback (most recent call last)",
      "\u001b[1;32mc:\\Users\\wahyu\\github-classroom\\H8-Assignments-Bay\\final\\p2---final-project-ftds-012-group-003\\jupyter_notebook\\complain assistance dm 2.ipynb Cell 25\u001b[0m in \u001b[0;36m<cell line: 2>\u001b[1;34m()\u001b[0m\n\u001b[0;32m      <a href='vscode-notebook-cell:/c%3A/Users/wahyu/github-classroom/H8-Assignments-Bay/final/p2---final-project-ftds-012-group-003/jupyter_notebook/complain%20assistance%20dm%202.ipynb#ch0000024?line=0'>1</a>\u001b[0m \u001b[39mwhile\u001b[39;00m \u001b[39mTrue\u001b[39;00m:    \n\u001b[1;32m----> <a href='vscode-notebook-cell:/c%3A/Users/wahyu/github-classroom/H8-Assignments-Bay/final/p2---final-project-ftds-012-group-003/jupyter_notebook/complain%20assistance%20dm%202.ipynb#ch0000024?line=1'>2</a>\u001b[0m     got, data\u001b[39m=\u001b[39mcek_response(api, cursor)\n\u001b[0;32m      <a href='vscode-notebook-cell:/c%3A/Users/wahyu/github-classroom/H8-Assignments-Bay/final/p2---final-project-ftds-012-group-003/jupyter_notebook/complain%20assistance%20dm%202.ipynb#ch0000024?line=2'>3</a>\u001b[0m     \u001b[39mif\u001b[39;00m got: \n\u001b[0;32m      <a href='vscode-notebook-cell:/c%3A/Users/wahyu/github-classroom/H8-Assignments-Bay/final/p2---final-project-ftds-012-group-003/jupyter_notebook/complain%20assistance%20dm%202.ipynb#ch0000024?line=3'>4</a>\u001b[0m         data\u001b[39m.\u001b[39mto_sql(\u001b[39m'\u001b[39m\u001b[39mdirect_massage\u001b[39m\u001b[39m'\u001b[39m, con\u001b[39m=\u001b[39mcon, method\u001b[39m=\u001b[39m\u001b[39m'\u001b[39m\u001b[39mmulti\u001b[39m\u001b[39m'\u001b[39m, if_exists\u001b[39m=\u001b[39m\u001b[39m'\u001b[39m\u001b[39mappend\u001b[39m\u001b[39m'\u001b[39m, index\u001b[39m=\u001b[39m\u001b[39mFalse\u001b[39;00m)\n",
      "\u001b[1;32mc:\\Users\\wahyu\\github-classroom\\H8-Assignments-Bay\\final\\p2---final-project-ftds-012-group-003\\jupyter_notebook\\complain assistance dm 2.ipynb Cell 25\u001b[0m in \u001b[0;36mcek_response\u001b[1;34m(api, cursor)\u001b[0m\n\u001b[0;32m      <a href='vscode-notebook-cell:/c%3A/Users/wahyu/github-classroom/H8-Assignments-Bay/final/p2---final-project-ftds-012-group-003/jupyter_notebook/complain%20assistance%20dm%202.ipynb#ch0000024?line=1'>2</a>\u001b[0m max_id\u001b[39m=\u001b[39mcursor\u001b[39m.\u001b[39mexecute(\u001b[39m'\u001b[39m\u001b[39mSELECT MAX(ID) FROM direct_massage\u001b[39m\u001b[39m'\u001b[39m)\u001b[39m.\u001b[39mfetchall()[\u001b[39m0\u001b[39m][\u001b[39m0\u001b[39m]\n\u001b[0;32m      <a href='vscode-notebook-cell:/c%3A/Users/wahyu/github-classroom/H8-Assignments-Bay/final/p2---final-project-ftds-012-group-003/jupyter_notebook/complain%20assistance%20dm%202.ipynb#ch0000024?line=2'>3</a>\u001b[0m \u001b[39mif\u001b[39;00m max_id\u001b[39m==\u001b[39m\u001b[39mNone\u001b[39;00m:max_id\u001b[39m=\u001b[39m\u001b[39m0\u001b[39m\n\u001b[1;32m----> <a href='vscode-notebook-cell:/c%3A/Users/wahyu/github-classroom/H8-Assignments-Bay/final/p2---final-project-ftds-012-group-003/jupyter_notebook/complain%20assistance%20dm%202.ipynb#ch0000024?line=3'>4</a>\u001b[0m new_massage\u001b[39m=\u001b[39mget_massage(api)\n\u001b[0;32m      <a href='vscode-notebook-cell:/c%3A/Users/wahyu/github-classroom/H8-Assignments-Bay/final/p2---final-project-ftds-012-group-003/jupyter_notebook/complain%20assistance%20dm%202.ipynb#ch0000024?line=4'>5</a>\u001b[0m \u001b[39mif\u001b[39;00m new_massage\u001b[39m.\u001b[39mID\u001b[39m.\u001b[39mmax()\u001b[39m>\u001b[39mmax_id:\n\u001b[0;32m      <a href='vscode-notebook-cell:/c%3A/Users/wahyu/github-classroom/H8-Assignments-Bay/final/p2---final-project-ftds-012-group-003/jupyter_notebook/complain%20assistance%20dm%202.ipynb#ch0000024?line=5'>6</a>\u001b[0m     massage\u001b[39m=\u001b[39mnew_massage[new_massage\u001b[39m.\u001b[39mID\u001b[39m>\u001b[39mmax_id]\n",
      "\u001b[1;32mc:\\Users\\wahyu\\github-classroom\\H8-Assignments-Bay\\final\\p2---final-project-ftds-012-group-003\\jupyter_notebook\\complain assistance dm 2.ipynb Cell 25\u001b[0m in \u001b[0;36mget_massage\u001b[1;34m(api)\u001b[0m\n\u001b[0;32m      <a href='vscode-notebook-cell:/c%3A/Users/wahyu/github-classroom/H8-Assignments-Bay/final/p2---final-project-ftds-012-group-003/jupyter_notebook/complain%20assistance%20dm%202.ipynb#ch0000024?line=0'>1</a>\u001b[0m \u001b[39mdef\u001b[39;00m \u001b[39mget_massage\u001b[39m(api):\n\u001b[1;32m----> <a href='vscode-notebook-cell:/c%3A/Users/wahyu/github-classroom/H8-Assignments-Bay/final/p2---final-project-ftds-012-group-003/jupyter_notebook/complain%20assistance%20dm%202.ipynb#ch0000024?line=1'>2</a>\u001b[0m     pesan\u001b[39m=\u001b[39mapi\u001b[39m.\u001b[39;49mget_direct_messages()\n\u001b[0;32m      <a href='vscode-notebook-cell:/c%3A/Users/wahyu/github-classroom/H8-Assignments-Bay/final/p2---final-project-ftds-012-group-003/jupyter_notebook/complain%20assistance%20dm%202.ipynb#ch0000024?line=2'>3</a>\u001b[0m     df\u001b[39m=\u001b[39m pd\u001b[39m.\u001b[39mDataFrame([[\u001b[39mint\u001b[39m(s\u001b[39m.\u001b[39mid), s\u001b[39m.\u001b[39mcreated_timestamp, s\u001b[39m.\u001b[39mmessage_create[\u001b[39m'\u001b[39m\u001b[39mmessage_data\u001b[39m\u001b[39m'\u001b[39m][\u001b[39m'\u001b[39m\u001b[39mtext\u001b[39m\u001b[39m'\u001b[39m], s\u001b[39m.\u001b[39mmessage_create[\u001b[39m'\u001b[39m\u001b[39mtarget\u001b[39m\u001b[39m'\u001b[39m][\u001b[39m'\u001b[39m\u001b[39mrecipient_id\u001b[39m\u001b[39m'\u001b[39m], s\u001b[39m.\u001b[39mmessage_create[\u001b[39m'\u001b[39m\u001b[39msender_id\u001b[39m\u001b[39m'\u001b[39m]] \u001b[39mfor\u001b[39;00m s \u001b[39min\u001b[39;00m pesan], columns\u001b[39m=\u001b[39m(\u001b[39m'\u001b[39m\u001b[39mID\u001b[39m\u001b[39m'\u001b[39m, \u001b[39m'\u001b[39m\u001b[39mcreated at\u001b[39m\u001b[39m'\u001b[39m, \u001b[39m'\u001b[39m\u001b[39mtext\u001b[39m\u001b[39m'\u001b[39m, \u001b[39m'\u001b[39m\u001b[39mrecipient\u001b[39m\u001b[39m'\u001b[39m, \u001b[39m'\u001b[39m\u001b[39msender\u001b[39m\u001b[39m'\u001b[39m ))\n\u001b[0;32m      <a href='vscode-notebook-cell:/c%3A/Users/wahyu/github-classroom/H8-Assignments-Bay/final/p2---final-project-ftds-012-group-003/jupyter_notebook/complain%20assistance%20dm%202.ipynb#ch0000024?line=3'>4</a>\u001b[0m     \u001b[39mreturn\u001b[39;00m df[df\u001b[39m.\u001b[39msender\u001b[39m!=\u001b[39m\u001b[39m'\u001b[39m\u001b[39m492948056\u001b[39m\u001b[39m'\u001b[39m]\n",
      "File \u001b[1;32mc:\\Users\\wahyu\\anaconda3\\lib\\site-packages\\tweepy\\api.py:33\u001b[0m, in \u001b[0;36mpagination.<locals>.decorator.<locals>.wrapper\u001b[1;34m(*args, **kwargs)\u001b[0m\n\u001b[0;32m     31\u001b[0m \u001b[39m@functools\u001b[39m\u001b[39m.\u001b[39mwraps(method)\n\u001b[0;32m     32\u001b[0m \u001b[39mdef\u001b[39;00m \u001b[39mwrapper\u001b[39m(\u001b[39m*\u001b[39margs, \u001b[39m*\u001b[39m\u001b[39m*\u001b[39mkwargs):\n\u001b[1;32m---> 33\u001b[0m     \u001b[39mreturn\u001b[39;00m method(\u001b[39m*\u001b[39margs, \u001b[39m*\u001b[39m\u001b[39m*\u001b[39mkwargs)\n",
      "File \u001b[1;32mc:\\Users\\wahyu\\anaconda3\\lib\\site-packages\\tweepy\\api.py:46\u001b[0m, in \u001b[0;36mpayload.<locals>.decorator.<locals>.wrapper\u001b[1;34m(*args, **kwargs)\u001b[0m\n\u001b[0;32m     44\u001b[0m kwargs[\u001b[39m'\u001b[39m\u001b[39mpayload_list\u001b[39m\u001b[39m'\u001b[39m] \u001b[39m=\u001b[39m payload_list\n\u001b[0;32m     45\u001b[0m kwargs[\u001b[39m'\u001b[39m\u001b[39mpayload_type\u001b[39m\u001b[39m'\u001b[39m] \u001b[39m=\u001b[39m payload_type\n\u001b[1;32m---> 46\u001b[0m \u001b[39mreturn\u001b[39;00m method(\u001b[39m*\u001b[39margs, \u001b[39m*\u001b[39m\u001b[39m*\u001b[39mkwargs)\n",
      "File \u001b[1;32mc:\\Users\\wahyu\\anaconda3\\lib\\site-packages\\tweepy\\api.py:3306\u001b[0m, in \u001b[0;36mAPI.get_direct_messages\u001b[1;34m(self, **kwargs)\u001b[0m\n\u001b[0;32m   3280\u001b[0m \u001b[39m@pagination\u001b[39m(mode\u001b[39m=\u001b[39m\u001b[39m'\u001b[39m\u001b[39mdm_cursor\u001b[39m\u001b[39m'\u001b[39m)\n\u001b[0;32m   3281\u001b[0m \u001b[39m@payload\u001b[39m(\u001b[39m'\u001b[39m\u001b[39mdirect_message\u001b[39m\u001b[39m'\u001b[39m, \u001b[39mlist\u001b[39m\u001b[39m=\u001b[39m\u001b[39mTrue\u001b[39;00m)\n\u001b[0;32m   3282\u001b[0m \u001b[39mdef\u001b[39;00m \u001b[39mget_direct_messages\u001b[39m(\u001b[39mself\u001b[39m, \u001b[39m*\u001b[39m\u001b[39m*\u001b[39mkwargs):\n\u001b[0;32m   3283\u001b[0m     \u001b[39m\"\"\"get_direct_messages(*, count, cursor)\u001b[39;00m\n\u001b[0;32m   3284\u001b[0m \n\u001b[0;32m   3285\u001b[0m \u001b[39m    Returns all Direct Message events (both sent and received) within the\u001b[39;00m\n\u001b[1;32m   (...)\u001b[0m\n\u001b[0;32m   3304\u001b[0m \u001b[39m    https://developer.twitter.com/en/docs/twitter-api/v1/direct-messages/sending-and-receiving/api-reference/list-events\u001b[39;00m\n\u001b[0;32m   3305\u001b[0m \u001b[39m    \"\"\"\u001b[39;00m\n\u001b[1;32m-> 3306\u001b[0m     \u001b[39mreturn\u001b[39;00m \u001b[39mself\u001b[39m\u001b[39m.\u001b[39mrequest(\n\u001b[0;32m   3307\u001b[0m         \u001b[39m'\u001b[39m\u001b[39mGET\u001b[39m\u001b[39m'\u001b[39m, \u001b[39m'\u001b[39m\u001b[39mdirect_messages/events/list\u001b[39m\u001b[39m'\u001b[39m, endpoint_parameters\u001b[39m=\u001b[39m(\n\u001b[0;32m   3308\u001b[0m             \u001b[39m'\u001b[39m\u001b[39mcount\u001b[39m\u001b[39m'\u001b[39m, \u001b[39m'\u001b[39m\u001b[39mcursor\u001b[39m\u001b[39m'\u001b[39m\n\u001b[0;32m   3309\u001b[0m         ), \u001b[39m*\u001b[39m\u001b[39m*\u001b[39mkwargs\n\u001b[0;32m   3310\u001b[0m     )\n",
      "File \u001b[1;32mc:\\Users\\wahyu\\anaconda3\\lib\\site-packages\\tweepy\\api.py:222\u001b[0m, in \u001b[0;36mAPI.request\u001b[1;34m(self, method, endpoint, endpoint_parameters, params, headers, json_payload, parser, payload_list, payload_type, post_data, files, require_auth, return_cursors, upload_api, use_cache, **kwargs)\u001b[0m\n\u001b[0;32m    216\u001b[0m     resp \u001b[39m=\u001b[39m \u001b[39mself\u001b[39m\u001b[39m.\u001b[39msession\u001b[39m.\u001b[39mrequest(\n\u001b[0;32m    217\u001b[0m         method, url, params\u001b[39m=\u001b[39mparams, headers\u001b[39m=\u001b[39mheaders,\n\u001b[0;32m    218\u001b[0m         data\u001b[39m=\u001b[39mpost_data, files\u001b[39m=\u001b[39mfiles, json\u001b[39m=\u001b[39mjson_payload,\n\u001b[0;32m    219\u001b[0m         timeout\u001b[39m=\u001b[39m\u001b[39mself\u001b[39m\u001b[39m.\u001b[39mtimeout, auth\u001b[39m=\u001b[39mauth, proxies\u001b[39m=\u001b[39m\u001b[39mself\u001b[39m\u001b[39m.\u001b[39mproxy\n\u001b[0;32m    220\u001b[0m     )\n\u001b[0;32m    221\u001b[0m \u001b[39mexcept\u001b[39;00m \u001b[39mException\u001b[39;00m \u001b[39mas\u001b[39;00m e:\n\u001b[1;32m--> 222\u001b[0m     \u001b[39mraise\u001b[39;00m TweepyException(\u001b[39mf\u001b[39m\u001b[39m'\u001b[39m\u001b[39mFailed to send request: \u001b[39m\u001b[39m{\u001b[39;00me\u001b[39m}\u001b[39;00m\u001b[39m'\u001b[39m)\u001b[39m.\u001b[39mwith_traceback(sys\u001b[39m.\u001b[39mexc_info()[\u001b[39m2\u001b[39m])\n\u001b[0;32m    224\u001b[0m \u001b[39mif\u001b[39;00m \u001b[39m200\u001b[39m \u001b[39m<\u001b[39m\u001b[39m=\u001b[39m resp\u001b[39m.\u001b[39mstatus_code \u001b[39m<\u001b[39m \u001b[39m300\u001b[39m:\n\u001b[0;32m    225\u001b[0m     \u001b[39mbreak\u001b[39;00m\n",
      "File \u001b[1;32mc:\\Users\\wahyu\\anaconda3\\lib\\site-packages\\tweepy\\api.py:216\u001b[0m, in \u001b[0;36mAPI.request\u001b[1;34m(self, method, endpoint, endpoint_parameters, params, headers, json_payload, parser, payload_list, payload_type, post_data, files, require_auth, return_cursors, upload_api, use_cache, **kwargs)\u001b[0m\n\u001b[0;32m    214\u001b[0m \u001b[39m# Execute request\u001b[39;00m\n\u001b[0;32m    215\u001b[0m \u001b[39mtry\u001b[39;00m:\n\u001b[1;32m--> 216\u001b[0m     resp \u001b[39m=\u001b[39m \u001b[39mself\u001b[39;49m\u001b[39m.\u001b[39;49msession\u001b[39m.\u001b[39;49mrequest(\n\u001b[0;32m    217\u001b[0m         method, url, params\u001b[39m=\u001b[39;49mparams, headers\u001b[39m=\u001b[39;49mheaders,\n\u001b[0;32m    218\u001b[0m         data\u001b[39m=\u001b[39;49mpost_data, files\u001b[39m=\u001b[39;49mfiles, json\u001b[39m=\u001b[39;49mjson_payload,\n\u001b[0;32m    219\u001b[0m         timeout\u001b[39m=\u001b[39;49m\u001b[39mself\u001b[39;49m\u001b[39m.\u001b[39;49mtimeout, auth\u001b[39m=\u001b[39;49mauth, proxies\u001b[39m=\u001b[39;49m\u001b[39mself\u001b[39;49m\u001b[39m.\u001b[39;49mproxy\n\u001b[0;32m    220\u001b[0m     )\n\u001b[0;32m    221\u001b[0m \u001b[39mexcept\u001b[39;00m \u001b[39mException\u001b[39;00m \u001b[39mas\u001b[39;00m e:\n\u001b[0;32m    222\u001b[0m     \u001b[39mraise\u001b[39;00m TweepyException(\u001b[39mf\u001b[39m\u001b[39m'\u001b[39m\u001b[39mFailed to send request: \u001b[39m\u001b[39m{\u001b[39;00me\u001b[39m}\u001b[39;00m\u001b[39m'\u001b[39m)\u001b[39m.\u001b[39mwith_traceback(sys\u001b[39m.\u001b[39mexc_info()[\u001b[39m2\u001b[39m])\n",
      "File \u001b[1;32mc:\\Users\\wahyu\\anaconda3\\lib\\site-packages\\requests\\sessions.py:529\u001b[0m, in \u001b[0;36mSession.request\u001b[1;34m(self, method, url, params, data, headers, cookies, files, auth, timeout, allow_redirects, proxies, hooks, stream, verify, cert, json)\u001b[0m\n\u001b[0;32m    524\u001b[0m send_kwargs \u001b[39m=\u001b[39m {\n\u001b[0;32m    525\u001b[0m     \u001b[39m'\u001b[39m\u001b[39mtimeout\u001b[39m\u001b[39m'\u001b[39m: timeout,\n\u001b[0;32m    526\u001b[0m     \u001b[39m'\u001b[39m\u001b[39mallow_redirects\u001b[39m\u001b[39m'\u001b[39m: allow_redirects,\n\u001b[0;32m    527\u001b[0m }\n\u001b[0;32m    528\u001b[0m send_kwargs\u001b[39m.\u001b[39mupdate(settings)\n\u001b[1;32m--> 529\u001b[0m resp \u001b[39m=\u001b[39m \u001b[39mself\u001b[39m\u001b[39m.\u001b[39msend(prep, \u001b[39m*\u001b[39m\u001b[39m*\u001b[39msend_kwargs)\n\u001b[0;32m    531\u001b[0m \u001b[39mreturn\u001b[39;00m resp\n",
      "File \u001b[1;32mc:\\Users\\wahyu\\anaconda3\\lib\\site-packages\\requests\\sessions.py:645\u001b[0m, in \u001b[0;36mSession.send\u001b[1;34m(self, request, **kwargs)\u001b[0m\n\u001b[0;32m    642\u001b[0m start \u001b[39m=\u001b[39m preferred_clock()\n\u001b[0;32m    644\u001b[0m \u001b[39m# Send the request\u001b[39;00m\n\u001b[1;32m--> 645\u001b[0m r \u001b[39m=\u001b[39m adapter\u001b[39m.\u001b[39msend(request, \u001b[39m*\u001b[39m\u001b[39m*\u001b[39mkwargs)\n\u001b[0;32m    647\u001b[0m \u001b[39m# Total elapsed time of the request (approximately)\u001b[39;00m\n\u001b[0;32m    648\u001b[0m elapsed \u001b[39m=\u001b[39m preferred_clock() \u001b[39m-\u001b[39m start\n",
      "File \u001b[1;32mc:\\Users\\wahyu\\anaconda3\\lib\\site-packages\\requests\\adapters.py:519\u001b[0m, in \u001b[0;36mHTTPAdapter.send\u001b[1;34m(self, request, stream, timeout, verify, cert, proxies)\u001b[0m\n\u001b[0;32m    515\u001b[0m     \u001b[39mif\u001b[39;00m \u001b[39misinstance\u001b[39m(e\u001b[39m.\u001b[39mreason, _SSLError):\n\u001b[0;32m    516\u001b[0m         \u001b[39m# This branch is for urllib3 v1.22 and later.\u001b[39;00m\n\u001b[0;32m    517\u001b[0m         \u001b[39mraise\u001b[39;00m SSLError(e, request\u001b[39m=\u001b[39mrequest)\n\u001b[1;32m--> 519\u001b[0m     \u001b[39mraise\u001b[39;00m \u001b[39mConnectionError\u001b[39;00m(e, request\u001b[39m=\u001b[39mrequest)\n\u001b[0;32m    521\u001b[0m \u001b[39mexcept\u001b[39;00m ClosedPoolError \u001b[39mas\u001b[39;00m e:\n\u001b[0;32m    522\u001b[0m     \u001b[39mraise\u001b[39;00m \u001b[39mConnectionError\u001b[39;00m(e, request\u001b[39m=\u001b[39mrequest)\n",
      "\u001b[1;31mTweepyException\u001b[0m: Failed to send request: HTTPSConnectionPool(host='api.twitter.com', port=443): Max retries exceeded with url: /1.1/direct_messages/events/list.json (Caused by NewConnectionError('<urllib3.connection.HTTPSConnection object at 0x000001814B804070>: Failed to establish a new connection: [Errno 11001] getaddrinfo failed'))"
     ]
    }
   ],
   "source": [
    "while True:    \n",
    "    got, data=cek_response(api, cursor)\n",
    "    if got: \n",
    "        data.to_sql('direct_massage', con=con, method='multi', if_exists='append', index=False)\n",
    "        print(f'Data baru sejumlah {data.shape[0]}')\n",
    "    else: print(\"No Massage\")\n",
    "    sleep(60)"
   ]
  }
 ],
 "metadata": {
  "kernelspec": {
   "display_name": "Python 3.9.12 ('base')",
   "language": "python",
   "name": "python3"
  },
  "language_info": {
   "codemirror_mode": {
    "name": "ipython",
    "version": 3
   },
   "file_extension": ".py",
   "mimetype": "text/x-python",
   "name": "python",
   "nbconvert_exporter": "python",
   "pygments_lexer": "ipython3",
   "version": "3.9.12"
  },
  "vscode": {
   "interpreter": {
    "hash": "9048cbf2aa5c5605910089358556f0bf71534cc3a4ea7c995cde1c5f16d23cd7"
   }
  }
 },
 "nbformat": 4,
 "nbformat_minor": 1
}
