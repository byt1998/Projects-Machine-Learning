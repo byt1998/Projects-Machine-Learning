{
  "cells": [
    {
      "cell_type": "markdown",
      "metadata": {
        "id": "U7OTn2sP6FBc"
      },
      "source": [
        "# 1 - Introduction\n",
        "\n",
        "**Credit by  :** \n",
        "  - Enggar Kristian \n",
        "  - Wahyudi\n",
        "\n",
        "**Batch : FTDS - 012** \n",
        "\n",
        "**Objective : Final project, to predict sentiment analysis Twitter**"
      ]
    },
    {
      "cell_type": "markdown",
      "metadata": {
        "id": "j-A4phR5Zasi"
      },
      "source": [
        "# 2 - Import Libraries"
      ]
    },
    {
      "cell_type": "code",
      "execution_count": 2,
      "metadata": {
        "colab": {
          "base_uri": "https://localhost:8080/"
        },
        "id": "G7uYCDQxZTul",
        "outputId": "0252f42e-5098-4777-c4db-d56ced1944c9"
      },
      "outputs": [
        {
          "name": "stdout",
          "output_type": "stream",
          "text": [
            "Mounted at /content/gdrive\n"
          ]
        }
      ],
      "source": [
        "from google.colab import drive\n",
        "\n",
        "drive.mount('/content/gdrive')"
      ]
    },
    {
      "cell_type": "code",
      "execution_count": 3,
      "metadata": {
        "colab": {
          "base_uri": "https://localhost:8080/"
        },
        "id": "tlq_fYsQZdlN",
        "outputId": "e7d57753-c27b-428e-c96e-bd292940b5a9"
      },
      "outputs": [
        {
          "name": "stdout",
          "output_type": "stream",
          "text": [
            "/content/gdrive/MyDrive/model_dl_ml\n"
          ]
        }
      ],
      "source": [
        "# masuk folder \"model_ml_dl\"\n",
        "% cd /content/gdrive/MyDrive/model_dl_ml"
      ]
    },
    {
      "cell_type": "code",
      "execution_count": 1,
      "metadata": {
        "colab": {
          "base_uri": "https://localhost:8080/"
        },
        "id": "0yt_-285ZetK",
        "outputId": "11207fc5-3901-4407-e35d-0b427c37da01"
      },
      "outputs": [
        {
          "name": "stdout",
          "output_type": "stream",
          "text": [
            "\u001b[?25l\r\u001b[K     |█▋                              | 10 kB 25.8 MB/s eta 0:00:01\r\u001b[K     |███▏                            | 20 kB 31.0 MB/s eta 0:00:01\r\u001b[K     |████▊                           | 30 kB 12.8 MB/s eta 0:00:01\r\u001b[K     |██████▎                         | 40 kB 4.6 MB/s eta 0:00:01\r\u001b[K     |███████▉                        | 51 kB 4.7 MB/s eta 0:00:01\r\u001b[K     |█████████▍                      | 61 kB 5.6 MB/s eta 0:00:01\r\u001b[K     |███████████                     | 71 kB 5.7 MB/s eta 0:00:01\r\u001b[K     |████████████▌                   | 81 kB 5.6 MB/s eta 0:00:01\r\u001b[K     |██████████████                  | 92 kB 6.3 MB/s eta 0:00:01\r\u001b[K     |███████████████▋                | 102 kB 5.2 MB/s eta 0:00:01\r\u001b[K     |█████████████████▏              | 112 kB 5.2 MB/s eta 0:00:01\r\u001b[K     |██████████████████▊             | 122 kB 5.2 MB/s eta 0:00:01\r\u001b[K     |████████████████████▎           | 133 kB 5.2 MB/s eta 0:00:01\r\u001b[K     |█████████████████████▉          | 143 kB 5.2 MB/s eta 0:00:01\r\u001b[K     |███████████████████████▍        | 153 kB 5.2 MB/s eta 0:00:01\r\u001b[K     |█████████████████████████       | 163 kB 5.2 MB/s eta 0:00:01\r\u001b[K     |██████████████████████████▌     | 174 kB 5.2 MB/s eta 0:00:01\r\u001b[K     |████████████████████████████    | 184 kB 5.2 MB/s eta 0:00:01\r\u001b[K     |█████████████████████████████▋  | 194 kB 5.2 MB/s eta 0:00:01\r\u001b[K     |███████████████████████████████▏| 204 kB 5.2 MB/s eta 0:00:01\r\u001b[K     |████████████████████████████████| 210 kB 5.2 MB/s \n",
            "\u001b[?25h"
          ]
        },
        {
          "name": "stderr",
          "output_type": "stream",
          "text": [
            "[nltk_data] Downloading package punkt to /root/nltk_data...\n",
            "[nltk_data]   Unzipping tokenizers/punkt.zip.\n",
            "[nltk_data] Downloading package stopwords to /root/nltk_data...\n",
            "[nltk_data]   Unzipping corpora/stopwords.zip.\n",
            "[nltk_data] Downloading package wordnet to /root/nltk_data...\n"
          ]
        },
        {
          "data": {
            "text/plain": [
              "True"
            ]
          },
          "execution_count": 1,
          "metadata": {},
          "output_type": "execute_result"
        }
      ],
      "source": [
        "\n",
        "import pandas as pd\n",
        "import numpy as np\n",
        "import seaborn as sns\n",
        "import matplotlib.pyplot as plt\n",
        "import sklearn\n",
        "from sklearn.model_selection import train_test_split\n",
        "from sklearn.model_selection import train_test_split, cross_validate\n",
        "import warnings\n",
        "warnings.filterwarnings('ignore')\n",
        "from imblearn.over_sampling import RandomOverSampler\n",
        "\n",
        "# Evaluate Classification Models\n",
        "from sklearn.metrics import classification_report, roc_auc_score, auc, RocCurveDisplay, roc_curve, accuracy_score\n",
        "from sklearn.metrics import accuracy_score,classification_report,ConfusionMatrixDisplay,confusion_matrix\n",
        "from sklearn.feature_extraction.text import CountVectorizer # to create Bag of words\n",
        "\n",
        "\n",
        "# import library Tensorflow\n",
        "import tensorflow as tf \n",
        "from tensorflow import keras\n",
        "import pathlib\n",
        "!pip install -q pysastrawi\n",
        "np.random.seed(15)\n",
        "tf.random.set_seed(15)\n",
        "import re # for preprocessing text\n",
        "import string # for preprocessing text\n",
        "import nltk # for processing texts\n",
        "from nltk.corpus import stopwords # list of stop words\n",
        "from wordcloud import WordCloud,STOPWORDS\n",
        "from Sastrawi.Stemmer.StemmerFactory import StemmerFactory\n",
        "from nltk.tokenize import word_tokenize\n",
        "from keras.preprocessing.text import Tokenizer\n",
        "from sklearn.feature_extraction.text import CountVectorizer, TfidfTransformer\n",
        "from tensorflow.keras.layers import TextVectorization, Embedding\n",
        "from tensorflow.keras.layers import Dense, Conv1D, GlobalAveragePooling1D, MaxPooling1D, Input, LSTM, GRU, SpatialDropout1D, Dense, Dropout, Masking, Embedding, Flatten, Input, BatchNormalization\n",
        "from tensorflow.keras.models import Model, Sequential\n",
        "from tensorflow.keras.utils import to_categorical\n",
        "\n",
        "!pip install -q pysastrawi\n",
        "nltk.download('punkt')\n",
        "nltk.download('stopwords')\n",
        "nltk.download('wordnet')"
      ]
    },
    {
      "cell_type": "code",
      "execution_count": 4,
      "metadata": {
        "colab": {
          "base_uri": "https://localhost:8080/",
          "height": 35
        },
        "id": "coEv72JqZ-UW",
        "outputId": "a7c193ae-5ecf-476f-874d-4bc9cd692d9c"
      },
      "outputs": [
        {
          "data": {
            "application/vnd.google.colaboratory.intrinsic+json": {
              "type": "string"
            },
            "text/plain": [
              "'2.8.2'"
            ]
          },
          "execution_count": 4,
          "metadata": {},
          "output_type": "execute_result"
        }
      ],
      "source": [
        "tf.__version__"
      ]
    },
    {
      "cell_type": "code",
      "execution_count": 5,
      "metadata": {
        "colab": {
          "base_uri": "https://localhost:8080/",
          "height": 35
        },
        "id": "lWl6lPA-Z-vP",
        "outputId": "a9ad1c9c-42ec-472d-c3b5-6fab00f035e9"
      },
      "outputs": [
        {
          "data": {
            "application/vnd.google.colaboratory.intrinsic+json": {
              "type": "string"
            },
            "text/plain": [
              "'1.0.2'"
            ]
          },
          "execution_count": 5,
          "metadata": {},
          "output_type": "execute_result"
        }
      ],
      "source": [
        "sklearn.__version__"
      ]
    },
    {
      "cell_type": "markdown",
      "metadata": {
        "id": "Nd5aG3X_aASn"
      },
      "source": [
        "# 3 - Data Loading"
      ]
    },
    {
      "cell_type": "code",
      "execution_count": 14,
      "metadata": {
        "colab": {
          "base_uri": "https://localhost:8080/",
          "height": 206
        },
        "id": "8I9yYXUKZ4-C",
        "outputId": "0e2cd2d8-f7bc-42c9-a31e-76ee67f0fa61"
      },
      "outputs": [
        {
          "data": {
            "text/html": [
              "\n",
              "  <div id=\"df-a6742b82-58c0-4e84-a09c-8a9210c92106\">\n",
              "    <div class=\"colab-df-container\">\n",
              "      <div>\n",
              "<style scoped>\n",
              "    .dataframe tbody tr th:only-of-type {\n",
              "        vertical-align: middle;\n",
              "    }\n",
              "\n",
              "    .dataframe tbody tr th {\n",
              "        vertical-align: top;\n",
              "    }\n",
              "\n",
              "    .dataframe thead th {\n",
              "        text-align: right;\n",
              "    }\n",
              "</style>\n",
              "<table border=\"1\" class=\"dataframe\">\n",
              "  <thead>\n",
              "    <tr style=\"text-align: right;\">\n",
              "      <th></th>\n",
              "      <th>Unnamed: 0</th>\n",
              "      <th>sentimen</th>\n",
              "      <th>text</th>\n",
              "    </tr>\n",
              "  </thead>\n",
              "  <tbody>\n",
              "    <tr>\n",
              "      <th>0</th>\n",
              "      <td>0.0</td>\n",
              "      <td>Positive</td>\n",
              "      <td>|@PrincessSuperC Hai Cici tersayang! Cuma mau ...</td>\n",
              "    </tr>\n",
              "    <tr>\n",
              "      <th>1</th>\n",
              "      <td>1.0</td>\n",
              "      <td>Positive</td>\n",
              "      <td>|@Msdebramaye Saya mendengar tentang kontes it...</td>\n",
              "    </tr>\n",
              "    <tr>\n",
              "      <th>2</th>\n",
              "      <td>2.0</td>\n",
              "      <td>Positive</td>\n",
              "      <td>|UNC!!! Pemenang NCAA!! Franklin St.: I ADA DI...</td>\n",
              "    </tr>\n",
              "    <tr>\n",
              "      <th>3</th>\n",
              "      <td>3.0</td>\n",
              "      <td>Positive</td>\n",
              "      <td>|@DivHumas_Polri: Hoax dan Ujaran Kebencian da...</td>\n",
              "    </tr>\n",
              "    <tr>\n",
              "      <th>4</th>\n",
              "      <td>4.0</td>\n",
              "      <td>Positive</td>\n",
              "      <td>|@DivHumas_Polri: Polri : Reuni 212 Berjalan K...</td>\n",
              "    </tr>\n",
              "  </tbody>\n",
              "</table>\n",
              "</div>\n",
              "      <button class=\"colab-df-convert\" onclick=\"convertToInteractive('df-a6742b82-58c0-4e84-a09c-8a9210c92106')\"\n",
              "              title=\"Convert this dataframe to an interactive table.\"\n",
              "              style=\"display:none;\">\n",
              "        \n",
              "  <svg xmlns=\"http://www.w3.org/2000/svg\" height=\"24px\"viewBox=\"0 0 24 24\"\n",
              "       width=\"24px\">\n",
              "    <path d=\"M0 0h24v24H0V0z\" fill=\"none\"/>\n",
              "    <path d=\"M18.56 5.44l.94 2.06.94-2.06 2.06-.94-2.06-.94-.94-2.06-.94 2.06-2.06.94zm-11 1L8.5 8.5l.94-2.06 2.06-.94-2.06-.94L8.5 2.5l-.94 2.06-2.06.94zm10 10l.94 2.06.94-2.06 2.06-.94-2.06-.94-.94-2.06-.94 2.06-2.06.94z\"/><path d=\"M17.41 7.96l-1.37-1.37c-.4-.4-.92-.59-1.43-.59-.52 0-1.04.2-1.43.59L10.3 9.45l-7.72 7.72c-.78.78-.78 2.05 0 2.83L4 21.41c.39.39.9.59 1.41.59.51 0 1.02-.2 1.41-.59l7.78-7.78 2.81-2.81c.8-.78.8-2.07 0-2.86zM5.41 20L4 18.59l7.72-7.72 1.47 1.35L5.41 20z\"/>\n",
              "  </svg>\n",
              "      </button>\n",
              "      \n",
              "  <style>\n",
              "    .colab-df-container {\n",
              "      display:flex;\n",
              "      flex-wrap:wrap;\n",
              "      gap: 12px;\n",
              "    }\n",
              "\n",
              "    .colab-df-convert {\n",
              "      background-color: #E8F0FE;\n",
              "      border: none;\n",
              "      border-radius: 50%;\n",
              "      cursor: pointer;\n",
              "      display: none;\n",
              "      fill: #1967D2;\n",
              "      height: 32px;\n",
              "      padding: 0 0 0 0;\n",
              "      width: 32px;\n",
              "    }\n",
              "\n",
              "    .colab-df-convert:hover {\n",
              "      background-color: #E2EBFA;\n",
              "      box-shadow: 0px 1px 2px rgba(60, 64, 67, 0.3), 0px 1px 3px 1px rgba(60, 64, 67, 0.15);\n",
              "      fill: #174EA6;\n",
              "    }\n",
              "\n",
              "    [theme=dark] .colab-df-convert {\n",
              "      background-color: #3B4455;\n",
              "      fill: #D2E3FC;\n",
              "    }\n",
              "\n",
              "    [theme=dark] .colab-df-convert:hover {\n",
              "      background-color: #434B5C;\n",
              "      box-shadow: 0px 1px 3px 1px rgba(0, 0, 0, 0.15);\n",
              "      filter: drop-shadow(0px 1px 2px rgba(0, 0, 0, 0.3));\n",
              "      fill: #FFFFFF;\n",
              "    }\n",
              "  </style>\n",
              "\n",
              "      <script>\n",
              "        const buttonEl =\n",
              "          document.querySelector('#df-a6742b82-58c0-4e84-a09c-8a9210c92106 button.colab-df-convert');\n",
              "        buttonEl.style.display =\n",
              "          google.colab.kernel.accessAllowed ? 'block' : 'none';\n",
              "\n",
              "        async function convertToInteractive(key) {\n",
              "          const element = document.querySelector('#df-a6742b82-58c0-4e84-a09c-8a9210c92106');\n",
              "          const dataTable =\n",
              "            await google.colab.kernel.invokeFunction('convertToInteractive',\n",
              "                                                     [key], {});\n",
              "          if (!dataTable) return;\n",
              "\n",
              "          const docLinkHtml = 'Like what you see? Visit the ' +\n",
              "            '<a target=\"_blank\" href=https://colab.research.google.com/notebooks/data_table.ipynb>data table notebook</a>'\n",
              "            + ' to learn more about interactive tables.';\n",
              "          element.innerHTML = '';\n",
              "          dataTable['output_type'] = 'display_data';\n",
              "          await google.colab.output.renderOutput(dataTable, element);\n",
              "          const docLink = document.createElement('div');\n",
              "          docLink.innerHTML = docLinkHtml;\n",
              "          element.appendChild(docLink);\n",
              "        }\n",
              "      </script>\n",
              "    </div>\n",
              "  </div>\n",
              "  "
            ],
            "text/plain": [
              "   Unnamed: 0  sentimen                                               text\n",
              "0         0.0  Positive  |@PrincessSuperC Hai Cici tersayang! Cuma mau ...\n",
              "1         1.0  Positive  |@Msdebramaye Saya mendengar tentang kontes it...\n",
              "2         2.0  Positive  |UNC!!! Pemenang NCAA!! Franklin St.: I ADA DI...\n",
              "3         3.0  Positive  |@DivHumas_Polri: Hoax dan Ujaran Kebencian da...\n",
              "4         4.0  Positive  |@DivHumas_Polri: Polri : Reuni 212 Berjalan K..."
            ]
          },
          "execution_count": 14,
          "metadata": {},
          "output_type": "execute_result"
        }
      ],
      "source": [
        "data = pd.read_csv(\"/content/gdrive/MyDrive/model_dl_ml/auto_reply.csv\")\n",
        "data.head()"
      ]
    },
    {
      "cell_type": "markdown",
      "metadata": {
        "id": "FJ1OI7_KFLsv"
      },
      "source": [
        "This dataset is created by us, which is where we collect all the Indonesian language sentiment analysis datasets from Kaggle. Then subtitute them into one and model them with tensorflow and become a Sentiment Analysis model."
      ]
    },
    {
      "cell_type": "code",
      "execution_count": 15,
      "metadata": {
        "colab": {
          "base_uri": "https://localhost:8080/"
        },
        "id": "5vMEHK4mZ61n",
        "outputId": "ea1e7f02-6219-4c36-805d-bfcbd8499f94"
      },
      "outputs": [
        {
          "data": {
            "text/plain": [
              "(13946, 3)"
            ]
          },
          "execution_count": 15,
          "metadata": {},
          "output_type": "execute_result"
        }
      ],
      "source": [
        "# Size\n",
        "data.shape"
      ]
    },
    {
      "cell_type": "code",
      "execution_count": 16,
      "metadata": {
        "colab": {
          "base_uri": "https://localhost:8080/"
        },
        "id": "CynS2BIMaGyP",
        "outputId": "f150207e-953e-4a1f-a1ed-4cf45b2819de"
      },
      "outputs": [
        {
          "name": "stdout",
          "output_type": "stream",
          "text": [
            "<class 'pandas.core.frame.DataFrame'>\n",
            "RangeIndex: 13946 entries, 0 to 13945\n",
            "Data columns (total 3 columns):\n",
            " #   Column      Non-Null Count  Dtype  \n",
            "---  ------      --------------  -----  \n",
            " 0   Unnamed: 0  3708 non-null   float64\n",
            " 1   sentimen    13946 non-null  object \n",
            " 2   text        13946 non-null  object \n",
            "dtypes: float64(1), object(2)\n",
            "memory usage: 327.0+ KB\n"
          ]
        }
      ],
      "source": [
        "data.info()"
      ]
    },
    {
      "cell_type": "markdown",
      "metadata": {
        "id": "SXt0gkY9FUFP"
      },
      "source": [
        "There's anomaly data the name si Unnamed: 0, we will drop later"
      ]
    },
    {
      "cell_type": "code",
      "execution_count": 17,
      "metadata": {
        "colab": {
          "base_uri": "https://localhost:8080/"
        },
        "id": "NCaYgOIRaIUM",
        "outputId": "e55b5fda-51db-49d9-cb48-41406c8873de"
      },
      "outputs": [
        {
          "name": "stdout",
          "output_type": "stream",
          "text": [
            "Unnamed: 0: [0.000e+00 1.000e+00 2.000e+00 ... 3.706e+03 3.707e+03       nan]\n",
            "sentimen: ['Positive' 'Neutral' 'Negative' 'negative']\n",
            "text: ['|@PrincessSuperC Hai Cici tersayang! Cuma mau memberitaukan kalau saya cinta kamu! OH! Dan akan berkunjung secepatnya? Fantasi berkendari 5 Mei!!!!|'\n",
            " '|@Msdebramaye Saya mendengar tentang kontes itu! Selamat teman!!|'\n",
            " '|UNC!!! Pemenang NCAA!! Franklin St.: I ADA DISANA!! SANGAT SERU!!!!!! Ini adalah yang terbaik...yang pernah ada http://tinyurl.com/49955t3|'\n",
            " ...\n",
            " 'Sudah sampai kabupaten sebelah kawan... Mari kita terapkan sosial distancing yang sudah di anjurkan pemerintah... Dalam upaya memutus Mata rantai pemularan covid 19... Anda di rumah saja yaa kawan....untuk kita, untuk semua, untuk Indonesia pic.twitter.com/fJEwCq5UG6'\n",
            " 'Berharap pemerintah Indonesia segara menutup penerbangan Internasional untuk mencegah COVID-19. #DiRumahAjaYa ##COVID19'\n",
            " 'Apapun agama dan kepercayaanmu, sblum tidur, yuk doakan mereka yg dalam prwatan COVID-19, nakes yg menangani, pemerintah dan warga Indonesia agar bersatu visi, bebas dari pandemi ini dalam waktu sesingkat-singkatnya.']\n"
          ]
        }
      ],
      "source": [
        "# Know about unique all columns in dataset\n",
        "for col in data:\n",
        "    print(f'{col}: {data[col].unique()}')"
      ]
    },
    {
      "cell_type": "code",
      "execution_count": 19,
      "metadata": {
        "id": "UqTLK3YhFmOE"
      },
      "outputs": [],
      "source": [
        "# Copy dataset that can use to modification dataset \n",
        "data_copy = data"
      ]
    },
    {
      "cell_type": "code",
      "execution_count": 20,
      "metadata": {
        "colab": {
          "base_uri": "https://localhost:8080/",
          "height": 206
        },
        "id": "U_SixC0daUIK",
        "outputId": "1e04c672-ff2e-454e-bd1c-b55daa32aaf1"
      },
      "outputs": [
        {
          "data": {
            "text/html": [
              "\n",
              "  <div id=\"df-91faca80-09c6-4f43-bf3e-ab5279fa0a61\">\n",
              "    <div class=\"colab-df-container\">\n",
              "      <div>\n",
              "<style scoped>\n",
              "    .dataframe tbody tr th:only-of-type {\n",
              "        vertical-align: middle;\n",
              "    }\n",
              "\n",
              "    .dataframe tbody tr th {\n",
              "        vertical-align: top;\n",
              "    }\n",
              "\n",
              "    .dataframe thead th {\n",
              "        text-align: right;\n",
              "    }\n",
              "</style>\n",
              "<table border=\"1\" class=\"dataframe\">\n",
              "  <thead>\n",
              "    <tr style=\"text-align: right;\">\n",
              "      <th></th>\n",
              "      <th>sentimen</th>\n",
              "      <th>text</th>\n",
              "    </tr>\n",
              "  </thead>\n",
              "  <tbody>\n",
              "    <tr>\n",
              "      <th>13941</th>\n",
              "      <td>Neutral</td>\n",
              "      <td>Semoga KTT luar biasa memberikan manfaat bg In...</td>\n",
              "    </tr>\n",
              "    <tr>\n",
              "      <th>13942</th>\n",
              "      <td>Negative</td>\n",
              "      <td>1. Corona sudah menyerang di berbagai Negative...</td>\n",
              "    </tr>\n",
              "    <tr>\n",
              "      <th>13943</th>\n",
              "      <td>Positive</td>\n",
              "      <td>Sudah sampai kabupaten sebelah kawan... Mari k...</td>\n",
              "    </tr>\n",
              "    <tr>\n",
              "      <th>13944</th>\n",
              "      <td>Neutral</td>\n",
              "      <td>Berharap pemerintah Indonesia segara menutup p...</td>\n",
              "    </tr>\n",
              "    <tr>\n",
              "      <th>13945</th>\n",
              "      <td>Positive</td>\n",
              "      <td>Apapun agama dan kepercayaanmu, sblum tidur, y...</td>\n",
              "    </tr>\n",
              "  </tbody>\n",
              "</table>\n",
              "</div>\n",
              "      <button class=\"colab-df-convert\" onclick=\"convertToInteractive('df-91faca80-09c6-4f43-bf3e-ab5279fa0a61')\"\n",
              "              title=\"Convert this dataframe to an interactive table.\"\n",
              "              style=\"display:none;\">\n",
              "        \n",
              "  <svg xmlns=\"http://www.w3.org/2000/svg\" height=\"24px\"viewBox=\"0 0 24 24\"\n",
              "       width=\"24px\">\n",
              "    <path d=\"M0 0h24v24H0V0z\" fill=\"none\"/>\n",
              "    <path d=\"M18.56 5.44l.94 2.06.94-2.06 2.06-.94-2.06-.94-.94-2.06-.94 2.06-2.06.94zm-11 1L8.5 8.5l.94-2.06 2.06-.94-2.06-.94L8.5 2.5l-.94 2.06-2.06.94zm10 10l.94 2.06.94-2.06 2.06-.94-2.06-.94-.94-2.06-.94 2.06-2.06.94z\"/><path d=\"M17.41 7.96l-1.37-1.37c-.4-.4-.92-.59-1.43-.59-.52 0-1.04.2-1.43.59L10.3 9.45l-7.72 7.72c-.78.78-.78 2.05 0 2.83L4 21.41c.39.39.9.59 1.41.59.51 0 1.02-.2 1.41-.59l7.78-7.78 2.81-2.81c.8-.78.8-2.07 0-2.86zM5.41 20L4 18.59l7.72-7.72 1.47 1.35L5.41 20z\"/>\n",
              "  </svg>\n",
              "      </button>\n",
              "      \n",
              "  <style>\n",
              "    .colab-df-container {\n",
              "      display:flex;\n",
              "      flex-wrap:wrap;\n",
              "      gap: 12px;\n",
              "    }\n",
              "\n",
              "    .colab-df-convert {\n",
              "      background-color: #E8F0FE;\n",
              "      border: none;\n",
              "      border-radius: 50%;\n",
              "      cursor: pointer;\n",
              "      display: none;\n",
              "      fill: #1967D2;\n",
              "      height: 32px;\n",
              "      padding: 0 0 0 0;\n",
              "      width: 32px;\n",
              "    }\n",
              "\n",
              "    .colab-df-convert:hover {\n",
              "      background-color: #E2EBFA;\n",
              "      box-shadow: 0px 1px 2px rgba(60, 64, 67, 0.3), 0px 1px 3px 1px rgba(60, 64, 67, 0.15);\n",
              "      fill: #174EA6;\n",
              "    }\n",
              "\n",
              "    [theme=dark] .colab-df-convert {\n",
              "      background-color: #3B4455;\n",
              "      fill: #D2E3FC;\n",
              "    }\n",
              "\n",
              "    [theme=dark] .colab-df-convert:hover {\n",
              "      background-color: #434B5C;\n",
              "      box-shadow: 0px 1px 3px 1px rgba(0, 0, 0, 0.15);\n",
              "      filter: drop-shadow(0px 1px 2px rgba(0, 0, 0, 0.3));\n",
              "      fill: #FFFFFF;\n",
              "    }\n",
              "  </style>\n",
              "\n",
              "      <script>\n",
              "        const buttonEl =\n",
              "          document.querySelector('#df-91faca80-09c6-4f43-bf3e-ab5279fa0a61 button.colab-df-convert');\n",
              "        buttonEl.style.display =\n",
              "          google.colab.kernel.accessAllowed ? 'block' : 'none';\n",
              "\n",
              "        async function convertToInteractive(key) {\n",
              "          const element = document.querySelector('#df-91faca80-09c6-4f43-bf3e-ab5279fa0a61');\n",
              "          const dataTable =\n",
              "            await google.colab.kernel.invokeFunction('convertToInteractive',\n",
              "                                                     [key], {});\n",
              "          if (!dataTable) return;\n",
              "\n",
              "          const docLinkHtml = 'Like what you see? Visit the ' +\n",
              "            '<a target=\"_blank\" href=https://colab.research.google.com/notebooks/data_table.ipynb>data table notebook</a>'\n",
              "            + ' to learn more about interactive tables.';\n",
              "          element.innerHTML = '';\n",
              "          dataTable['output_type'] = 'display_data';\n",
              "          await google.colab.output.renderOutput(dataTable, element);\n",
              "          const docLink = document.createElement('div');\n",
              "          docLink.innerHTML = docLinkHtml;\n",
              "          element.appendChild(docLink);\n",
              "        }\n",
              "      </script>\n",
              "    </div>\n",
              "  </div>\n",
              "  "
            ],
            "text/plain": [
              "       sentimen                                               text\n",
              "13941   Neutral  Semoga KTT luar biasa memberikan manfaat bg In...\n",
              "13942  Negative  1. Corona sudah menyerang di berbagai Negative...\n",
              "13943  Positive  Sudah sampai kabupaten sebelah kawan... Mari k...\n",
              "13944   Neutral  Berharap pemerintah Indonesia segara menutup p...\n",
              "13945  Positive  Apapun agama dan kepercayaanmu, sblum tidur, y..."
            ]
          },
          "execution_count": 20,
          "metadata": {},
          "output_type": "execute_result"
        }
      ],
      "source": [
        "# drop column Unnamed: 0\n",
        "data_copy = data_copy.drop(columns=[\"Unnamed: 0\"], axis=1) \n",
        "data_copy.tail()"
      ]
    },
    {
      "cell_type": "code",
      "execution_count": 21,
      "metadata": {
        "id": "RPO76rTEMG-0"
      },
      "outputs": [],
      "source": [
        "# Query data without unique 'negative' in column sentimen\n",
        "\n",
        "data_copy = data_copy[data_copy['sentimen']!='negative']"
      ]
    },
    {
      "cell_type": "markdown",
      "metadata": {
        "id": "7ci155HVabAc"
      },
      "source": [
        "# 4 - Exploratory Data Analysis (EDA)"
      ]
    },
    {
      "cell_type": "code",
      "execution_count": 22,
      "metadata": {
        "colab": {
          "base_uri": "https://localhost:8080/"
        },
        "id": "uFyMAn-CaWGh",
        "outputId": "ea00f6d0-f088-4c91-a32a-a00a131ceb71"
      },
      "outputs": [
        {
          "data": {
            "text/plain": [
              "Positive    6218\n",
              "Negative    5764\n",
              "Neutral     1962\n",
              "Name: sentimen, dtype: int64"
            ]
          },
          "execution_count": 22,
          "metadata": {},
          "output_type": "execute_result"
        }
      ],
      "source": [
        "data_copy['sentimen'].value_counts()"
      ]
    },
    {
      "cell_type": "code",
      "execution_count": 23,
      "metadata": {
        "colab": {
          "base_uri": "https://localhost:8080/",
          "height": 404
        },
        "id": "ua2NeqoWaf6k",
        "outputId": "cdfb9220-e5f6-401e-8e0f-1910ad171392"
      },
      "outputs": [
        {
          "data": {
            "image/png": "[encoded data removed]",
            "text/plain": [
              "<Figure size 1152x432 with 2 Axes>"
            ]
          },
          "metadata": {
            "needs_background": "light"
          },
          "output_type": "display_data"
        }
      ],
      "source": [
        "f,ax=plt.subplots(1,2,figsize=(16,6))\n",
        "data_copy['sentimen'].value_counts().plot.pie(autopct='%1.1f%%',ax=ax[0],shadow=True)\n",
        "ax[1].set_title('Count of Text Sentiment')\n",
        "ax[0].set_title('Count of text_sentiment')\n",
        "ax[0].set_ylabel('')\n",
        "sns.countplot('sentimen',data=data,ax=ax[1], palette = 'viridis')\n",
        "ax[1].set_title('Count of text_sentiment')\n",
        "plt.show()"
      ]
    },
    {
      "cell_type": "markdown",
      "metadata": {
        "id": "WR2I7tUKGKt8"
      },
      "source": [
        "As we can see from the graph we have 3 labels positive, neutral, and negative. they are imbalance with neutral label."
      ]
    },
    {
      "cell_type": "markdown",
      "metadata": {
        "id": "yiKVK4Hcby8X"
      },
      "source": [
        "# 5 - Data Preprocessing"
      ]
    },
    {
      "cell_type": "markdown",
      "metadata": {
        "id": "q6tpReCMb0U8"
      },
      "source": [
        "## Clean text\n"
      ]
    },
    {
      "cell_type": "markdown",
      "metadata": {
        "id": "VIKTOZe2b3st"
      },
      "source": [
        "In this Natural Language Program, the data is tabular which contains text and sentiment labels. The text will be cleaned of annoying noise such as punctuation marks, numbers, special words, links, and others. So below I will do data cleaning."
      ]
    },
    {
      "cell_type": "code",
      "execution_count": null,
      "metadata": {
        "colab": {
          "base_uri": "https://localhost:8080/",
          "height": 35
        },
        "id": "wtPMc6jIbzOJ",
        "outputId": "fb2a4968-0fb3-43c3-9341-b1e0b8802288"
      },
      "outputs": [
        {
          "data": {
            "application/vnd.google.colaboratory.intrinsic+json": {
              "type": "string"
            },
            "text/plain": [
              "'Kita perlu yakin kepada kewibawaan SPRM untuk menyelesaikan tanggungjawab mereka dan saya percaya kalau ada kes, kes tersebut akan diserahkan kepada pihak Peguam Negara.'"
            ]
          },
          "execution_count": 86,
          "metadata": {},
          "output_type": "execute_result"
        }
      ],
      "source": [
        "# let's take a sample one text\n",
        "data_copy['text'][5000]\n"
      ]
    },
    {
      "cell_type": "code",
      "execution_count": null,
      "metadata": {
        "id": "dD9iveURb7J-"
      },
      "outputs": [],
      "source": [
        "def clean_text(text):\n",
        "  '''\n",
        "  DESCRIPTION:\n",
        "  This function to clean text \n",
        "  INPUT: \n",
        "  text: string\n",
        "  OUTPUT: \n",
        "  text: string after clean it\n",
        "  ''' \n",
        "  text = text.lower() # convert letters to lower case\n",
        "  text = re.sub(\"@[A-Za-z0-9_]+\",\" \", text) #r emove mention\n",
        "  text = re.sub(\"#[A-Za-z0-9_]+\",\" \", text) # remove hashtag\n",
        "  text = re.sub(r\"\\\\n\",\" \",text) # remove \\n or enter\n",
        "  text = re.sub(\"[^a-zA-Z]\", \" \", text) # remove non-letters\n",
        "  text = re.sub(r'\\d+', '', text) # remove number\n",
        "  text = re.sub(r'http\\S+', '', text) # remove links\n",
        "  text = re.sub(r\"www.\\S+\", \" \", text) # remove link\n",
        "  text = re.sub(\"rt\",\" \",text) # remove RT\n",
        "  text = text.translate(str.maketrans('','', string.punctuation)) # remove punctuation\n",
        "  text = re.sub(' +', ' ',text) # remove extra space\n",
        "  text = text.strip() # remove whitespaces\n",
        "\n",
        "  # remove stopwords\n",
        "  stpwds_id = list(set(stopwords.words('indonesian')))\n",
        "  stpwds_id.append('oh')\n",
        "\n",
        "  tokens = word_tokenize(text)\n",
        "\n",
        "  text = ' '.join([word for word in tokens if word not in stpwds_id])\n",
        "\n",
        "  # Stemming\n",
        "  factory = StemmerFactory()\n",
        "  stemmer = factory.create_stemmer()\n",
        "  text = stemmer.stem(text)\n",
        "\n",
        "  return text"
      ]
    },
    {
      "cell_type": "markdown",
      "metadata": {
        "id": "SJ7s4znBcJKv"
      },
      "source": [
        "- Create functions with regex to convert letters to lowercase, remove numbers, punctuation marks, special words, links, stickers and others. so that the machine can read a text one by one word from a sentence which later the word is converted into numbers.\n",
        "\n",
        "- Then use stopwords, which is to eliminate affixes that often appear in English if the machine doesn't need to train it or you could say it reduces words to make the machine work more efficiently.\n",
        "\n",
        "- After removing noise by regex and reducing words with stopwords, word tokenize is done to make a sentence into a vector per word.\n",
        "\n",
        "- And be a function for cleaning text that serves to add results from training data created by deep learning models."
      ]
    },
    {
      "cell_type": "code",
      "execution_count": null,
      "metadata": {
        "colab": {
          "base_uri": "https://localhost:8080/"
        },
        "id": "OHVZiENRcEEw",
        "outputId": "0d3a5a4b-91ac-4c80-944c-c5c03d373d3f"
      },
      "outputs": [
        {
          "name": "stdout",
          "output_type": "stream",
          "text": [
            "CPU times: user 1min 47s, sys: 1.57 s, total: 1min 49s\n",
            "Wall time: 1min 48s\n"
          ]
        }
      ],
      "source": [
        "%%time\n",
        "# The cleaning function applied in all reviews\n",
        "data_copy['text_processed'] = data_copy['text'].apply(lambda x: clean_text(x))\n"
      ]
    },
    {
      "cell_type": "markdown",
      "metadata": {
        "id": "GhGNJ0MzcQj_"
      },
      "source": [
        "Apply function to dataset"
      ]
    },
    {
      "cell_type": "code",
      "execution_count": null,
      "metadata": {
        "colab": {
          "base_uri": "https://localhost:8080/",
          "height": 35
        },
        "id": "2Zf2mz3GcKhh",
        "outputId": "31755828-e4f2-4788-e00f-6b70a746f1d2"
      },
      "outputs": [
        {
          "data": {
            "application/vnd.google.colaboratory.intrinsic+json": {
              "type": "string"
            },
            "text/plain": [
              "'wibawa sprm selesai tanggungjawab percaya kes kes serah peguam negara'"
            ]
          },
          "execution_count": 87,
          "metadata": {},
          "output_type": "execute_result"
        }
      ],
      "source": [
        "data_copy['text_processed'][5000]"
      ]
    },
    {
      "cell_type": "markdown",
      "metadata": {
        "id": "0-4N0ZO4cT9t"
      },
      "source": [
        "Well all text it should be clean from regex, and stopwords library."
      ]
    },
    {
      "cell_type": "code",
      "execution_count": null,
      "metadata": {
        "colab": {
          "base_uri": "https://localhost:8080/"
        },
        "id": "ZblY9UYzcMv2",
        "outputId": "c1c2b28e-d04c-401e-9ab7-fdd818285857"
      },
      "outputs": [
        {
          "data": {
            "text/plain": [
              "array(['Positive', 'Neutral', 'Negative'], dtype=object)"
            ]
          },
          "execution_count": 88,
          "metadata": {},
          "output_type": "execute_result"
        }
      ],
      "source": [
        "data_copy.sentimen.unique()"
      ]
    },
    {
      "cell_type": "code",
      "execution_count": null,
      "metadata": {
        "colab": {
          "base_uri": "https://localhost:8080/",
          "height": 423
        },
        "id": "LWCSY5iScZWG",
        "outputId": "87aa7fcb-6e57-4697-c086-3fb3a9d56d7c"
      },
      "outputs": [
        {
          "data": {
            "text/html": [
              "\n",
              "  <div id=\"df-0ad51f88-f801-4081-bf72-804255610afe\">\n",
              "    <div class=\"colab-df-container\">\n",
              "      <div>\n",
              "<style scoped>\n",
              "    .dataframe tbody tr th:only-of-type {\n",
              "        vertical-align: middle;\n",
              "    }\n",
              "\n",
              "    .dataframe tbody tr th {\n",
              "        vertical-align: top;\n",
              "    }\n",
              "\n",
              "    .dataframe thead th {\n",
              "        text-align: right;\n",
              "    }\n",
              "</style>\n",
              "<table border=\"1\" class=\"dataframe\">\n",
              "  <thead>\n",
              "    <tr style=\"text-align: right;\">\n",
              "      <th></th>\n",
              "      <th>sentimen</th>\n",
              "      <th>text</th>\n",
              "      <th>text_processed</th>\n",
              "      <th>label</th>\n",
              "    </tr>\n",
              "  </thead>\n",
              "  <tbody>\n",
              "    <tr>\n",
              "      <th>0</th>\n",
              "      <td>Positive</td>\n",
              "      <td>|@PrincessSuperC Hai Cici tersayang! Cuma mau ...</td>\n",
              "      <td>hai cici sayang memberitaukan cinta kunjung ce...</td>\n",
              "      <td>2</td>\n",
              "    </tr>\n",
              "    <tr>\n",
              "      <th>1</th>\n",
              "      <td>Positive</td>\n",
              "      <td>|@Msdebramaye Saya mendengar tentang kontes it...</td>\n",
              "      <td>dengar kontes selamat teman</td>\n",
              "      <td>2</td>\n",
              "    </tr>\n",
              "    <tr>\n",
              "      <th>2</th>\n",
              "      <td>Positive</td>\n",
              "      <td>|UNC!!! Pemenang NCAA!! Franklin St.: I ADA DI...</td>\n",
              "      <td>unc menang ncaa franklin st i sana seru baik h...</td>\n",
              "      <td>2</td>\n",
              "    </tr>\n",
              "    <tr>\n",
              "      <th>3</th>\n",
              "      <td>Positive</td>\n",
              "      <td>|@DivHumas_Polri: Hoax dan Ujaran Kebencian da...</td>\n",
              "      <td>hoax ujar benci ancam satu lapor janban sebar ...</td>\n",
              "      <td>2</td>\n",
              "    </tr>\n",
              "    <tr>\n",
              "      <th>4</th>\n",
              "      <td>Positive</td>\n",
              "      <td>|@DivHumas_Polri: Polri : Reuni 212 Berjalan K...</td>\n",
              "      <td>polri reuni jalan kondusif t co dxwujk g</td>\n",
              "      <td>2</td>\n",
              "    </tr>\n",
              "    <tr>\n",
              "      <th>...</th>\n",
              "      <td>...</td>\n",
              "      <td>...</td>\n",
              "      <td>...</td>\n",
              "      <td>...</td>\n",
              "    </tr>\n",
              "    <tr>\n",
              "      <th>13941</th>\n",
              "      <td>Neutral</td>\n",
              "      <td>Semoga KTT luar biasa memberikan manfaat bg In...</td>\n",
              "      <td>moga ktt manfaat bg indonesia dlm bentuk ringa...</td>\n",
              "      <td>0</td>\n",
              "    </tr>\n",
              "    <tr>\n",
              "      <th>13942</th>\n",
              "      <td>Negative</td>\n",
              "      <td>1. Corona sudah menyerang di berbagai Negative...</td>\n",
              "      <td>corona serang negativeara perintah indonesia r...</td>\n",
              "      <td>1</td>\n",
              "    </tr>\n",
              "    <tr>\n",
              "      <th>13943</th>\n",
              "      <td>Positive</td>\n",
              "      <td>Sudah sampai kabupaten sebelah kawan... Mari k...</td>\n",
              "      <td>kabupaten belah kawan mari terap sosial distan...</td>\n",
              "      <td>2</td>\n",
              "    </tr>\n",
              "    <tr>\n",
              "      <th>13944</th>\n",
              "      <td>Neutral</td>\n",
              "      <td>Berharap pemerintah Indonesia segara menutup p...</td>\n",
              "      <td>harap perintah indonesia segara tutup terbang ...</td>\n",
              "      <td>0</td>\n",
              "    </tr>\n",
              "    <tr>\n",
              "      <th>13945</th>\n",
              "      <td>Positive</td>\n",
              "      <td>Apapun agama dan kepercayaanmu, sblum tidur, y...</td>\n",
              "      <td>apa agama percaya sblum tidur yuk doa yg prwat...</td>\n",
              "      <td>2</td>\n",
              "    </tr>\n",
              "  </tbody>\n",
              "</table>\n",
              "<p>13944 rows × 4 columns</p>\n",
              "</div>\n",
              "      <button class=\"colab-df-convert\" onclick=\"convertToInteractive('df-0ad51f88-f801-4081-bf72-804255610afe')\"\n",
              "              title=\"Convert this dataframe to an interactive table.\"\n",
              "              style=\"display:none;\">\n",
              "        \n",
              "  <svg xmlns=\"http://www.w3.org/2000/svg\" height=\"24px\"viewBox=\"0 0 24 24\"\n",
              "       width=\"24px\">\n",
              "    <path d=\"M0 0h24v24H0V0z\" fill=\"none\"/>\n",
              "    <path d=\"M18.56 5.44l.94 2.06.94-2.06 2.06-.94-2.06-.94-.94-2.06-.94 2.06-2.06.94zm-11 1L8.5 8.5l.94-2.06 2.06-.94-2.06-.94L8.5 2.5l-.94 2.06-2.06.94zm10 10l.94 2.06.94-2.06 2.06-.94-2.06-.94-.94-2.06-.94 2.06-2.06.94z\"/><path d=\"M17.41 7.96l-1.37-1.37c-.4-.4-.92-.59-1.43-.59-.52 0-1.04.2-1.43.59L10.3 9.45l-7.72 7.72c-.78.78-.78 2.05 0 2.83L4 21.41c.39.39.9.59 1.41.59.51 0 1.02-.2 1.41-.59l7.78-7.78 2.81-2.81c.8-.78.8-2.07 0-2.86zM5.41 20L4 18.59l7.72-7.72 1.47 1.35L5.41 20z\"/>\n",
              "  </svg>\n",
              "      </button>\n",
              "      \n",
              "  <style>\n",
              "    .colab-df-container {\n",
              "      display:flex;\n",
              "      flex-wrap:wrap;\n",
              "      gap: 12px;\n",
              "    }\n",
              "\n",
              "    .colab-df-convert {\n",
              "      background-color: #E8F0FE;\n",
              "      border: none;\n",
              "      border-radius: 50%;\n",
              "      cursor: pointer;\n",
              "      display: none;\n",
              "      fill: #1967D2;\n",
              "      height: 32px;\n",
              "      padding: 0 0 0 0;\n",
              "      width: 32px;\n",
              "    }\n",
              "\n",
              "    .colab-df-convert:hover {\n",
              "      background-color: #E2EBFA;\n",
              "      box-shadow: 0px 1px 2px rgba(60, 64, 67, 0.3), 0px 1px 3px 1px rgba(60, 64, 67, 0.15);\n",
              "      fill: #174EA6;\n",
              "    }\n",
              "\n",
              "    [theme=dark] .colab-df-convert {\n",
              "      background-color: #3B4455;\n",
              "      fill: #D2E3FC;\n",
              "    }\n",
              "\n",
              "    [theme=dark] .colab-df-convert:hover {\n",
              "      background-color: #434B5C;\n",
              "      box-shadow: 0px 1px 3px 1px rgba(0, 0, 0, 0.15);\n",
              "      filter: drop-shadow(0px 1px 2px rgba(0, 0, 0, 0.3));\n",
              "      fill: #FFFFFF;\n",
              "    }\n",
              "  </style>\n",
              "\n",
              "      <script>\n",
              "        const buttonEl =\n",
              "          document.querySelector('#df-0ad51f88-f801-4081-bf72-804255610afe button.colab-df-convert');\n",
              "        buttonEl.style.display =\n",
              "          google.colab.kernel.accessAllowed ? 'block' : 'none';\n",
              "\n",
              "        async function convertToInteractive(key) {\n",
              "          const element = document.querySelector('#df-0ad51f88-f801-4081-bf72-804255610afe');\n",
              "          const dataTable =\n",
              "            await google.colab.kernel.invokeFunction('convertToInteractive',\n",
              "                                                     [key], {});\n",
              "          if (!dataTable) return;\n",
              "\n",
              "          const docLinkHtml = 'Like what you see? Visit the ' +\n",
              "            '<a target=\"_blank\" href=https://colab.research.google.com/notebooks/data_table.ipynb>data table notebook</a>'\n",
              "            + ' to learn more about interactive tables.';\n",
              "          element.innerHTML = '';\n",
              "          dataTable['output_type'] = 'display_data';\n",
              "          await google.colab.output.renderOutput(dataTable, element);\n",
              "          const docLink = document.createElement('div');\n",
              "          docLink.innerHTML = docLinkHtml;\n",
              "          element.appendChild(docLink);\n",
              "        }\n",
              "      </script>\n",
              "    </div>\n",
              "  </div>\n",
              "  "
            ],
            "text/plain": [
              "       sentimen                                               text  \\\n",
              "0      Positive  |@PrincessSuperC Hai Cici tersayang! Cuma mau ...   \n",
              "1      Positive  |@Msdebramaye Saya mendengar tentang kontes it...   \n",
              "2      Positive  |UNC!!! Pemenang NCAA!! Franklin St.: I ADA DI...   \n",
              "3      Positive  |@DivHumas_Polri: Hoax dan Ujaran Kebencian da...   \n",
              "4      Positive  |@DivHumas_Polri: Polri : Reuni 212 Berjalan K...   \n",
              "...         ...                                                ...   \n",
              "13941   Neutral  Semoga KTT luar biasa memberikan manfaat bg In...   \n",
              "13942  Negative  1. Corona sudah menyerang di berbagai Negative...   \n",
              "13943  Positive  Sudah sampai kabupaten sebelah kawan... Mari k...   \n",
              "13944   Neutral  Berharap pemerintah Indonesia segara menutup p...   \n",
              "13945  Positive  Apapun agama dan kepercayaanmu, sblum tidur, y...   \n",
              "\n",
              "                                          text_processed  label  \n",
              "0      hai cici sayang memberitaukan cinta kunjung ce...      2  \n",
              "1                            dengar kontes selamat teman      2  \n",
              "2      unc menang ncaa franklin st i sana seru baik h...      2  \n",
              "3      hoax ujar benci ancam satu lapor janban sebar ...      2  \n",
              "4               polri reuni jalan kondusif t co dxwujk g      2  \n",
              "...                                                  ...    ...  \n",
              "13941  moga ktt manfaat bg indonesia dlm bentuk ringa...      0  \n",
              "13942  corona serang negativeara perintah indonesia r...      1  \n",
              "13943  kabupaten belah kawan mari terap sosial distan...      2  \n",
              "13944  harap perintah indonesia segara tutup terbang ...      0  \n",
              "13945  apa agama percaya sblum tidur yuk doa yg prwat...      2  \n",
              "\n",
              "[13944 rows x 4 columns]"
            ]
          },
          "execution_count": 89,
          "metadata": {},
          "output_type": "execute_result"
        }
      ],
      "source": [
        "data_copy['label'] = data_copy['sentimen'].replace({'Neutral' : 0, 'Negative' : 1, 'Positive' : 2})\n",
        "data_copy"
      ]
    },
    {
      "cell_type": "markdown",
      "metadata": {
        "id": "6nIfnoBocuAB"
      },
      "source": [
        "Replace the label be a numeric from categorical:\n",
        "- Neutral = 0\n",
        "- Negative = 1\n",
        "- Positive = 2\n"
      ]
    },
    {
      "cell_type": "markdown",
      "metadata": {
        "id": "eBh3LEjGcv7Q"
      },
      "source": [
        "## Splitting Dataset"
      ]
    },
    {
      "cell_type": "code",
      "execution_count": null,
      "metadata": {
        "colab": {
          "base_uri": "https://localhost:8080/"
        },
        "id": "XjbdbPJrcoBi",
        "outputId": "9d685f39-aa12-4300-e5d3-73b4c6201184"
      },
      "outputs": [
        {
          "name": "stdout",
          "output_type": "stream",
          "text": [
            "Training data shape: (7473,)\n",
            "Validation data shape: (3682,)\n",
            "Testing data shape: (2789,)\n"
          ]
        }
      ],
      "source": [
        "# random state\n",
        "random_state=5\n",
        "\n",
        "# Splitting dataset\n",
        "X_train_full, X_test,  y_train_full, y_test = train_test_split(data_copy.text_processed,\n",
        "                                                               data_copy.label,\n",
        "                                                               test_size=0.2, random_state=random_state)\n",
        "\n",
        "X_train, X_val, y_train, y_val = train_test_split(X_train_full,\n",
        "                                                  y_train_full,\n",
        "                                                  test_size=0.33, random_state=random_state)\n",
        "\n",
        "print(\"Training data shape: {}\".format(X_train.shape))\n",
        "print(\"Validation data shape: {}\".format(X_val.shape))\n",
        "print(\"Testing data shape: {}\".format(X_test.shape))"
      ]
    },
    {
      "cell_type": "markdown",
      "metadata": {
        "id": "cxcsj2zVHHcV"
      },
      "source": [
        "## Oversampling with RandomOverSampler"
      ]
    },
    {
      "cell_type": "code",
      "execution_count": null,
      "metadata": {
        "colab": {
          "base_uri": "https://localhost:8080/"
        },
        "id": "d8GuMN2ou9f3",
        "outputId": "433fb350-1d99-499a-e45d-16926b91d5b9"
      },
      "outputs": [
        {
          "name": "stdout",
          "output_type": "stream",
          "text": [
            "X_train shape berfore oversampling : (7473,)\n",
            "y_train shape berfore oversampling : (7473,)\n",
            "X_val shape berfore oversampling   : (3682,)\n",
            "y_val shape berfore oversampling   : (3682,)\n"
          ]
        }
      ],
      "source": [
        "ros = RandomOverSampler()\n",
        "X_train_balanced, y_train_balanced = ros.fit_resample(np.array(X_train).reshape(-1, 1), np.array(y_train).reshape(-1, 1));\n",
        "X_val_balanced, y_val_balanced = ros.fit_resample(np.array(X_val).reshape(-1, 1), np.array(y_val).reshape(-1, 1));\n",
        "\n",
        "print('X_train shape berfore oversampling :', X_train.shape)\n",
        "print('y_train shape berfore oversampling :', y_train.shape)\n",
        "print('X_val shape berfore oversampling   :', X_val.shape)\n",
        "print('y_val shape berfore oversampling   :', y_val.shape)"
      ]
    },
    {
      "cell_type": "code",
      "execution_count": null,
      "metadata": {
        "colab": {
          "base_uri": "https://localhost:8080/"
        },
        "id": "_unbh-caw6Dv",
        "outputId": "55d2f68a-c8c0-4131-f777-c10135c517e8"
      },
      "outputs": [
        {
          "name": "stdout",
          "output_type": "stream",
          "text": [
            "X_train_balanced shape after oversampling: (9900, 1)\n",
            "y_train_balanced shape after oversampling: (9900,)\n",
            "X_val_balanced shape after oversampling: (4977, 1)\n",
            "y_val_balanced shape after oversampling: (4977,)\n"
          ]
        }
      ],
      "source": [
        "# print shape after oversampling\n",
        "print('X_train_balanced shape after oversampling:', X_train_balanced.shape)\n",
        "print('y_train_balanced shape after oversampling:', y_train_balanced.shape)\n",
        "print('X_val_balanced shape after oversampling:', X_val_balanced.shape)\n",
        "print('y_val_balanced shape after oversampling:', y_val_balanced.shape)"
      ]
    },
    {
      "cell_type": "markdown",
      "metadata": {
        "id": "5PUVpYBLdd2q"
      },
      "source": [
        "## Embedding Layer in Deep Learning with Tensorflow"
      ]
    },
    {
      "cell_type": "code",
      "execution_count": null,
      "metadata": {
        "colab": {
          "base_uri": "https://localhost:8080/"
        },
        "id": "WfLvI77YdZ1O",
        "outputId": "77577c8a-38c2-40a3-c34a-16934f937dd4"
      },
      "outputs": [
        {
          "name": "stdout",
          "output_type": "stream",
          "text": [
            "Length vocab: 2059\n",
            "Length Maximum Text: 67 words\n"
          ]
        }
      ],
      "source": [
        "# Want to know how many vocab and maximum words in a text\n",
        "total_vocab = len(Vectorize.vocabulary_.keys())\n",
        "max_sen_len = max([len(i.split(\" \")) for i in X_train])\n",
        "\n",
        "print(\"Length vocab:\",total_vocab)\n",
        "print(\"Length Maximum Text:\",max_sen_len,\"words\")"
      ]
    },
    {
      "cell_type": "markdown",
      "metadata": {
        "id": "pnRzcGySdhYj"
      },
      "source": [
        "- Want to know size of total vocabulary that will be to input shape in model definition\n",
        "- Well there is 2559 vocabulary in dataset and theres 33  words in one text in the dataset."
      ]
    },
    {
      "cell_type": "code",
      "execution_count": null,
      "metadata": {
        "id": "qPfLd3zsdfCq"
      },
      "outputs": [],
      "source": [
        "# define vocab than convert to numeric\n",
        "text_vectorization = TextVectorization(max_tokens=total_vocab,\n",
        "                                       standardize=\"lower_and_strip_punctuation\",\n",
        "                                       split=\"whitespace\",\n",
        "                                       ngrams=None,\n",
        "                                       output_mode=\"int\",\n",
        "                                       output_sequence_length=max_sen_len,\n",
        "                                       input_shape=(1,) # if i want to use sequential API\n",
        "                                       )\n",
        "\n",
        "text_vectorization.adapt(X_train) # adapt looks like fit"
      ]
    },
    {
      "cell_type": "code",
      "execution_count": null,
      "metadata": {
        "colab": {
          "base_uri": "https://localhost:8080/",
          "height": 35
        },
        "id": "ch2TwyPedqGg",
        "outputId": "56f995ea-cc50-48ec-d0cd-552c165b6cdf"
      },
      "outputs": [
        {
          "data": {
            "application/vnd.google.colaboratory.intrinsic+json": {
              "type": "string"
            },
            "text/plain": [
              "'sdr perintah tni polri media sdng focus putus rantai tular covid saran sy sdr baik bekerjasamalah dgn dgn elemen negativeara utk putus tular covid indonesia'"
            ]
          },
          "execution_count": 97,
          "metadata": {},
          "output_type": "execute_result"
        }
      ],
      "source": [
        "# let's check the result vectorization\n",
        "data_copy.text_processed[12121]"
      ]
    },
    {
      "cell_type": "code",
      "execution_count": null,
      "metadata": {
        "colab": {
          "base_uri": "https://localhost:8080/"
        },
        "id": "Ehp-UwBpdrQ1",
        "outputId": "dc388002-b42f-41c1-b7a7-b203ff170bf8"
      },
      "outputs": [
        {
          "data": {
            "text/plain": [
              "<tf.Tensor: shape=(1, 67), dtype=int64, numpy=\n",
              "array([[   1,    1,  533,    1,  725, 1439,  185,    1,    1, 1570,    0,\n",
              "           0,    0,    0,    0,    0,    0,    0,    0,    0,    0,    0,\n",
              "           0,    0,    0,    0,    0,    0,    0,    0,    0,    0,    0,\n",
              "           0,    0,    0,    0,    0,    0,    0,    0,    0,    0,    0,\n",
              "           0,    0,    0,    0,    0,    0,    0,    0,    0,    0,    0,\n",
              "           0,    0,    0,    0,    0,    0,    0,    0,    0,    0,    0,\n",
              "           0]])>"
            ]
          },
          "execution_count": 98,
          "metadata": {},
          "output_type": "execute_result"
        }
      ],
      "source": [
        "# after convert it\n",
        "text_vectorization([data_copy.text_processed[0]])"
      ]
    },
    {
      "cell_type": "code",
      "execution_count": null,
      "metadata": {
        "id": "jlspho18dsse"
      },
      "outputs": [],
      "source": [
        "# Change the numerical to weight with embedding\n",
        "embedding = Embedding(input_dim=total_vocab,\n",
        "                      output_dim=256,\n",
        "                      embeddings_initializer=\"uniform\",\n",
        "                      input_length=max_sen_len\n",
        "                      )"
      ]
    },
    {
      "cell_type": "code",
      "execution_count": null,
      "metadata": {
        "colab": {
          "base_uri": "https://localhost:8080/"
        },
        "id": "P9hPD1q6dt07",
        "outputId": "0da9cfa3-24fb-41fb-eee3-6ba704e2d256"
      },
      "outputs": [
        {
          "data": {
            "text/plain": [
              "<tf.Tensor: shape=(1, 67, 256), dtype=float32, numpy=\n",
              "array([[[-0.04181858, -0.00717924,  0.0276329 , ...,  0.01790755,\n",
              "          0.01362551,  0.04527469],\n",
              "        [ 0.02502057, -0.00849206,  0.01966036, ...,  0.04785338,\n",
              "         -0.03058391, -0.02618172],\n",
              "        [-0.00306284, -0.03073263, -0.00417976, ...,  0.01878656,\n",
              "         -0.00145379, -0.01121069],\n",
              "        ...,\n",
              "        [ 0.04200996, -0.02586603, -0.04366267, ...,  0.0448379 ,\n",
              "         -0.02886525, -0.00592061],\n",
              "        [ 0.04200996, -0.02586603, -0.04366267, ...,  0.0448379 ,\n",
              "         -0.02886525, -0.00592061],\n",
              "        [ 0.04200996, -0.02586603, -0.04366267, ...,  0.0448379 ,\n",
              "         -0.02886525, -0.00592061]]], dtype=float32)>"
            ]
          },
          "execution_count": 100,
          "metadata": {},
          "output_type": "execute_result"
        }
      ],
      "source": [
        "# see the result\n",
        "emb_res = embedding(text_vectorization([data_copy.text_processed[50]]))\n",
        "emb_res"
      ]
    },
    {
      "cell_type": "markdown",
      "metadata": {
        "id": "Ed01dJz4dx7F"
      },
      "source": [
        "Dataset has converted. Embedding looks like scaling in feature engineering. "
      ]
    },
    {
      "cell_type": "code",
      "execution_count": null,
      "metadata": {
        "colab": {
          "base_uri": "https://localhost:8080/"
        },
        "id": "EyrPCny9dvAz",
        "outputId": "a3f977ba-04a4-4ba4-9ec9-41380dc30432"
      },
      "outputs": [
        {
          "data": {
            "text/plain": [
              "<tf.Tensor: shape=(256,), dtype=float32, numpy=\n",
              "array([ 0.00122008,  0.03954642, -0.02284892,  0.02267828, -0.0412886 ,\n",
              "       -0.03869846, -0.0371687 ,  0.01441881, -0.0343393 ,  0.0218263 ,\n",
              "        0.00154731, -0.04341732,  0.0322243 ,  0.04115373, -0.03265741,\n",
              "       -0.00947789, -0.04907118,  0.04014585, -0.01852617,  0.02275989,\n",
              "        0.01355273,  0.04051456,  0.04861584,  0.02533307,  0.02844546,\n",
              "        0.01379564,  0.0097808 ,  0.03306079,  0.02393867,  0.04150773,\n",
              "       -0.00572969, -0.00797009, -0.03834816, -0.03572985, -0.02517613,\n",
              "        0.00631214, -0.01538836, -0.04486803, -0.02786158,  0.04784994,\n",
              "        0.03359933, -0.04160787, -0.0214233 ,  0.0281121 , -0.01917952,\n",
              "        0.04841168,  0.01187217, -0.0009694 , -0.02563374, -0.04979267,\n",
              "        0.02135969, -0.04423647, -0.00548268, -0.04225801,  0.00301229,\n",
              "       -0.01829486,  0.02365687, -0.03737084,  0.03253884,  0.03520503,\n",
              "        0.0182194 , -0.038328  ,  0.02859956,  0.00451372,  0.02783861,\n",
              "        0.02242483, -0.0154588 ,  0.02788461, -0.00802691,  0.0411883 ,\n",
              "       -0.0369954 ,  0.01754235, -0.01979791, -0.0118084 ,  0.00989351,\n",
              "        0.02223407,  0.00562362,  0.01630013, -0.0482625 ,  0.03137204,\n",
              "       -0.01528735, -0.01304529, -0.03024117,  0.03478601, -0.02131442,\n",
              "       -0.00059322, -0.00931723,  0.04458766, -0.03682671, -0.00341632,\n",
              "       -0.00508074, -0.00265571,  0.0148623 , -0.02622067, -0.02649719,\n",
              "        0.04518712,  0.00371393, -0.03752019,  0.01474496, -0.0350493 ,\n",
              "       -0.03867459, -0.0404909 ,  0.01296603,  0.0368477 ,  0.04029224,\n",
              "       -0.01939025,  0.01673893,  0.01942476, -0.02808393, -0.00567075,\n",
              "        0.01086915,  0.03688768, -0.0369285 , -0.0278455 , -0.04838694,\n",
              "        0.00319425, -0.04128587, -0.04174485, -0.04324968, -0.01121335,\n",
              "       -0.0227798 , -0.02844874, -0.01297075, -0.02004432,  0.0036546 ,\n",
              "        0.03387985,  0.01043341,  0.00915847,  0.02183947,  0.00511165,\n",
              "       -0.04845369,  0.01348767, -0.00669347,  0.02248133,  0.03886184,\n",
              "       -0.02958384, -0.02574983,  0.01277295, -0.0358514 ,  0.00543922,\n",
              "       -0.00275608, -0.03530889,  0.03278111, -0.01948094,  0.0160207 ,\n",
              "        0.02972976,  0.03548113,  0.00687803, -0.03201778,  0.04478034,\n",
              "       -0.00509374,  0.01769347, -0.01887202,  0.02073069, -0.04839453,\n",
              "       -0.0300634 ,  0.01713258, -0.04024247, -0.02896793,  0.01164032,\n",
              "        0.02486607,  0.01648949,  0.01990714,  0.02022029,  0.00352724,\n",
              "        0.01847972,  0.01054274,  0.01936802,  0.00044993,  0.0417642 ,\n",
              "       -0.01697506,  0.03851878, -0.04852673,  0.0492483 , -0.04777447,\n",
              "       -0.01817684,  0.0123766 , -0.03952712,  0.02800903,  0.02972351,\n",
              "       -0.02187758, -0.01369351,  0.02884319,  0.04268629, -0.047746  ,\n",
              "        0.02429713, -0.00738971,  0.02798108, -0.02024674,  0.02942738,\n",
              "        0.03419996, -0.00301666,  0.03826547, -0.04063104,  0.02426774,\n",
              "        0.01291152, -0.03494366, -0.00275152, -0.0374648 , -0.01302468,\n",
              "        0.0056749 , -0.04128774,  0.03820581,  0.02471505,  0.04272964,\n",
              "        0.04107148, -0.04281248,  0.00871066, -0.02360382, -0.04229322,\n",
              "        0.03095447,  0.00808284, -0.03664377,  0.01926657, -0.02896344,\n",
              "        0.030836  ,  0.02024985,  0.00843252,  0.04755997,  0.04310903,\n",
              "        0.00176448,  0.00524694,  0.01834923, -0.0323283 ,  0.01010541,\n",
              "       -0.02012656, -0.03670248, -0.02607563,  0.04638575, -0.04852866,\n",
              "       -0.02118194,  0.01209465,  0.02492127, -0.02995951, -0.0066698 ,\n",
              "       -0.02983121,  0.04666665, -0.00347031, -0.02497673, -0.01902691,\n",
              "        0.04996135,  0.01705271, -0.00909338,  0.0035059 ,  0.02808192,\n",
              "       -0.01034391, -0.04289923,  0.00504048, -0.01613312,  0.02698878,\n",
              "        0.03850688,  0.04867362, -0.02360336, -0.04278673,  0.00039586,\n",
              "       -0.0141192 ], dtype=float32)>"
            ]
          },
          "execution_count": 101,
          "metadata": {},
          "output_type": "execute_result"
        }
      ],
      "source": [
        "# let's check weight word \"bulls\"\n",
        "emb_res[0][10]"
      ]
    },
    {
      "cell_type": "markdown",
      "metadata": {
        "id": "6w6iLnnKd6-T"
      },
      "source": [
        "well define the weight with embedding for each word in 256 dimensions."
      ]
    },
    {
      "cell_type": "markdown",
      "metadata": {
        "id": "k6_EBdIFeF4y"
      },
      "source": [
        "## Get Dummies\n",
        "\n",
        "Before we modeling, we will do dummy the target, this is looks like onehotencoder with manual coding. Labels will be a features after dummy according to its uniqueness, if a certain line is detected, the label will contain a value of 1"
      ]
    },
    {
      "cell_type": "code",
      "execution_count": null,
      "metadata": {
        "colab": {
          "base_uri": "https://localhost:8080/"
        },
        "id": "jSumFsEJdzz1",
        "outputId": "eaf2feaf-573c-41d2-adc7-e6e49b7ec1a9"
      },
      "outputs": [
        {
          "data": {
            "text/plain": [
              "array([[0., 1., 0.],\n",
              "       [1., 0., 0.],\n",
              "       [0., 1., 0.],\n",
              "       ...,\n",
              "       [1., 0., 0.],\n",
              "       [0., 0., 1.],\n",
              "       [0., 0., 1.]], dtype=float32)"
            ]
          },
          "execution_count": 102,
          "metadata": {},
          "output_type": "execute_result"
        }
      ],
      "source": [
        "# convert label\n",
        "y_train_ohe = to_categorical(y_train)\n",
        "y_val_ohe = to_categorical(y_val)\n",
        "y_train_balanced_ohe = to_categorical(y_train_balanced)\n",
        "y_val_balanced_ohe = to_categorical(y_val_balanced)\n",
        "\n",
        "y_test_ohe = to_categorical(y_test)\n",
        "\n",
        "y_train_ohe"
      ]
    },
    {
      "cell_type": "markdown",
      "metadata": {
        "id": "FJPxGGXUeJmk"
      },
      "source": [
        "The result will be an array."
      ]
    },
    {
      "cell_type": "code",
      "execution_count": null,
      "metadata": {
        "colab": {
          "base_uri": "https://localhost:8080/",
          "height": 423
        },
        "id": "2noJoJPYeHbS",
        "outputId": "8ce8828b-a51f-430b-ef34-31534779e28c"
      },
      "outputs": [
        {
          "data": {
            "text/html": [
              "\n",
              "  <div id=\"df-b9d82909-4dd8-453d-970c-49e7ae33bd08\">\n",
              "    <div class=\"colab-df-container\">\n",
              "      <div>\n",
              "<style scoped>\n",
              "    .dataframe tbody tr th:only-of-type {\n",
              "        vertical-align: middle;\n",
              "    }\n",
              "\n",
              "    .dataframe tbody tr th {\n",
              "        vertical-align: top;\n",
              "    }\n",
              "\n",
              "    .dataframe thead th {\n",
              "        text-align: right;\n",
              "    }\n",
              "</style>\n",
              "<table border=\"1\" class=\"dataframe\">\n",
              "  <thead>\n",
              "    <tr style=\"text-align: right;\">\n",
              "      <th></th>\n",
              "      <th>0</th>\n",
              "      <th>1</th>\n",
              "      <th>2</th>\n",
              "    </tr>\n",
              "  </thead>\n",
              "  <tbody>\n",
              "    <tr>\n",
              "      <th>2432</th>\n",
              "      <td>0</td>\n",
              "      <td>1</td>\n",
              "      <td>0</td>\n",
              "    </tr>\n",
              "    <tr>\n",
              "      <th>10516</th>\n",
              "      <td>1</td>\n",
              "      <td>0</td>\n",
              "      <td>0</td>\n",
              "    </tr>\n",
              "    <tr>\n",
              "      <th>11430</th>\n",
              "      <td>0</td>\n",
              "      <td>1</td>\n",
              "      <td>0</td>\n",
              "    </tr>\n",
              "    <tr>\n",
              "      <th>2500</th>\n",
              "      <td>0</td>\n",
              "      <td>1</td>\n",
              "      <td>0</td>\n",
              "    </tr>\n",
              "    <tr>\n",
              "      <th>9923</th>\n",
              "      <td>0</td>\n",
              "      <td>1</td>\n",
              "      <td>0</td>\n",
              "    </tr>\n",
              "    <tr>\n",
              "      <th>...</th>\n",
              "      <td>...</td>\n",
              "      <td>...</td>\n",
              "      <td>...</td>\n",
              "    </tr>\n",
              "    <tr>\n",
              "      <th>1548</th>\n",
              "      <td>0</td>\n",
              "      <td>1</td>\n",
              "      <td>0</td>\n",
              "    </tr>\n",
              "    <tr>\n",
              "      <th>8837</th>\n",
              "      <td>0</td>\n",
              "      <td>0</td>\n",
              "      <td>1</td>\n",
              "    </tr>\n",
              "    <tr>\n",
              "      <th>13064</th>\n",
              "      <td>1</td>\n",
              "      <td>0</td>\n",
              "      <td>0</td>\n",
              "    </tr>\n",
              "    <tr>\n",
              "      <th>12815</th>\n",
              "      <td>0</td>\n",
              "      <td>0</td>\n",
              "      <td>1</td>\n",
              "    </tr>\n",
              "    <tr>\n",
              "      <th>10964</th>\n",
              "      <td>0</td>\n",
              "      <td>0</td>\n",
              "      <td>1</td>\n",
              "    </tr>\n",
              "  </tbody>\n",
              "</table>\n",
              "<p>7473 rows × 3 columns</p>\n",
              "</div>\n",
              "      <button class=\"colab-df-convert\" onclick=\"convertToInteractive('df-b9d82909-4dd8-453d-970c-49e7ae33bd08')\"\n",
              "              title=\"Convert this dataframe to an interactive table.\"\n",
              "              style=\"display:none;\">\n",
              "        \n",
              "  <svg xmlns=\"http://www.w3.org/2000/svg\" height=\"24px\"viewBox=\"0 0 24 24\"\n",
              "       width=\"24px\">\n",
              "    <path d=\"M0 0h24v24H0V0z\" fill=\"none\"/>\n",
              "    <path d=\"M18.56 5.44l.94 2.06.94-2.06 2.06-.94-2.06-.94-.94-2.06-.94 2.06-2.06.94zm-11 1L8.5 8.5l.94-2.06 2.06-.94-2.06-.94L8.5 2.5l-.94 2.06-2.06.94zm10 10l.94 2.06.94-2.06 2.06-.94-2.06-.94-.94-2.06-.94 2.06-2.06.94z\"/><path d=\"M17.41 7.96l-1.37-1.37c-.4-.4-.92-.59-1.43-.59-.52 0-1.04.2-1.43.59L10.3 9.45l-7.72 7.72c-.78.78-.78 2.05 0 2.83L4 21.41c.39.39.9.59 1.41.59.51 0 1.02-.2 1.41-.59l7.78-7.78 2.81-2.81c.8-.78.8-2.07 0-2.86zM5.41 20L4 18.59l7.72-7.72 1.47 1.35L5.41 20z\"/>\n",
              "  </svg>\n",
              "      </button>\n",
              "      \n",
              "  <style>\n",
              "    .colab-df-container {\n",
              "      display:flex;\n",
              "      flex-wrap:wrap;\n",
              "      gap: 12px;\n",
              "    }\n",
              "\n",
              "    .colab-df-convert {\n",
              "      background-color: #E8F0FE;\n",
              "      border: none;\n",
              "      border-radius: 50%;\n",
              "      cursor: pointer;\n",
              "      display: none;\n",
              "      fill: #1967D2;\n",
              "      height: 32px;\n",
              "      padding: 0 0 0 0;\n",
              "      width: 32px;\n",
              "    }\n",
              "\n",
              "    .colab-df-convert:hover {\n",
              "      background-color: #E2EBFA;\n",
              "      box-shadow: 0px 1px 2px rgba(60, 64, 67, 0.3), 0px 1px 3px 1px rgba(60, 64, 67, 0.15);\n",
              "      fill: #174EA6;\n",
              "    }\n",
              "\n",
              "    [theme=dark] .colab-df-convert {\n",
              "      background-color: #3B4455;\n",
              "      fill: #D2E3FC;\n",
              "    }\n",
              "\n",
              "    [theme=dark] .colab-df-convert:hover {\n",
              "      background-color: #434B5C;\n",
              "      box-shadow: 0px 1px 3px 1px rgba(0, 0, 0, 0.15);\n",
              "      filter: drop-shadow(0px 1px 2px rgba(0, 0, 0, 0.3));\n",
              "      fill: #FFFFFF;\n",
              "    }\n",
              "  </style>\n",
              "\n",
              "      <script>\n",
              "        const buttonEl =\n",
              "          document.querySelector('#df-b9d82909-4dd8-453d-970c-49e7ae33bd08 button.colab-df-convert');\n",
              "        buttonEl.style.display =\n",
              "          google.colab.kernel.accessAllowed ? 'block' : 'none';\n",
              "\n",
              "        async function convertToInteractive(key) {\n",
              "          const element = document.querySelector('#df-b9d82909-4dd8-453d-970c-49e7ae33bd08');\n",
              "          const dataTable =\n",
              "            await google.colab.kernel.invokeFunction('convertToInteractive',\n",
              "                                                     [key], {});\n",
              "          if (!dataTable) return;\n",
              "\n",
              "          const docLinkHtml = 'Like what you see? Visit the ' +\n",
              "            '<a target=\"_blank\" href=https://colab.research.google.com/notebooks/data_table.ipynb>data table notebook</a>'\n",
              "            + ' to learn more about interactive tables.';\n",
              "          element.innerHTML = '';\n",
              "          dataTable['output_type'] = 'display_data';\n",
              "          await google.colab.output.renderOutput(dataTable, element);\n",
              "          const docLink = document.createElement('div');\n",
              "          docLink.innerHTML = docLinkHtml;\n",
              "          element.appendChild(docLink);\n",
              "        }\n",
              "      </script>\n",
              "    </div>\n",
              "  </div>\n",
              "  "
            ],
            "text/plain": [
              "       0  1  2\n",
              "2432   0  1  0\n",
              "10516  1  0  0\n",
              "11430  0  1  0\n",
              "2500   0  1  0\n",
              "9923   0  1  0\n",
              "...   .. .. ..\n",
              "1548   0  1  0\n",
              "8837   0  0  1\n",
              "13064  1  0  0\n",
              "12815  0  0  1\n",
              "10964  0  0  1\n",
              "\n",
              "[7473 rows x 3 columns]"
            ]
          },
          "execution_count": 103,
          "metadata": {},
          "output_type": "execute_result"
        }
      ],
      "source": [
        "# if we looks in dataframe will be like this\n",
        "pd.get_dummies(y_train)"
      ]
    },
    {
      "cell_type": "markdown",
      "metadata": {
        "id": "PaklrmMKeNYx"
      },
      "source": [
        "There are 3 uniques in column 'label' so will be define 3 features in dataframe."
      ]
    },
    {
      "cell_type": "markdown",
      "metadata": {
        "id": "niHvjNTvePAw"
      },
      "source": [
        "# 6 - Model Training"
      ]
    },
    {
      "cell_type": "markdown",
      "metadata": {
        "id": "2fTazmbz3bQk"
      },
      "source": [
        "## Model Gru"
      ]
    },
    {
      "cell_type": "code",
      "execution_count": null,
      "metadata": {
        "colab": {
          "base_uri": "https://localhost:8080/"
        },
        "id": "YlJHLRV8qIEn",
        "outputId": "63c6a968-c287-4559-9aba-a7145b23929c"
      },
      "outputs": [
        {
          "name": "stdout",
          "output_type": "stream",
          "text": [
            "Epoch 1/50\n",
            "310/310 [==============================] - 6s 11ms/step - loss: 1.1010 - accuracy: 0.3264 - val_loss: 1.0974 - val_accuracy: 0.4052\n",
            "Epoch 2/50\n",
            "310/310 [==============================] - 2s 8ms/step - loss: 1.0996 - accuracy: 0.3264 - val_loss: 1.0930 - val_accuracy: 0.4052\n",
            "Epoch 3/50\n",
            "310/310 [==============================] - 2s 8ms/step - loss: 1.0993 - accuracy: 0.3219 - val_loss: 1.0924 - val_accuracy: 0.4052\n",
            "Epoch 4/50\n",
            "310/310 [==============================] - 2s 8ms/step - loss: 1.0990 - accuracy: 0.3375 - val_loss: 1.1045 - val_accuracy: 0.1434\n",
            "Epoch 5/50\n",
            "310/310 [==============================] - 2s 8ms/step - loss: 1.0991 - accuracy: 0.3218 - val_loss: 1.0974 - val_accuracy: 0.4052\n",
            "Epoch 6/50\n",
            "310/310 [==============================] - 2s 8ms/step - loss: 1.0990 - accuracy: 0.3252 - val_loss: 1.0971 - val_accuracy: 0.4052\n",
            "Epoch 7/50\n",
            "310/310 [==============================] - 2s 8ms/step - loss: 1.0986 - accuracy: 0.3397 - val_loss: 1.1157 - val_accuracy: 0.1434\n",
            "Epoch 8/50\n",
            "310/310 [==============================] - 2s 8ms/step - loss: 1.0987 - accuracy: 0.3406 - val_loss: 1.0903 - val_accuracy: 0.4514\n",
            "Epoch 9/50\n",
            "310/310 [==============================] - 2s 8ms/step - loss: 1.0988 - accuracy: 0.3351 - val_loss: 1.0948 - val_accuracy: 0.4514\n",
            "Epoch 10/50\n",
            "310/310 [==============================] - 2s 8ms/step - loss: 1.0988 - accuracy: 0.3298 - val_loss: 1.0989 - val_accuracy: 0.4052\n",
            "Epoch 11/50\n",
            "310/310 [==============================] - 2s 8ms/step - loss: 1.0987 - accuracy: 0.3295 - val_loss: 1.0947 - val_accuracy: 0.4052\n",
            "Epoch 12/50\n",
            "310/310 [==============================] - 2s 8ms/step - loss: 1.0988 - accuracy: 0.3354 - val_loss: 1.1028 - val_accuracy: 0.1434\n",
            "Epoch 13/50\n",
            "310/310 [==============================] - 2s 8ms/step - loss: 1.0987 - accuracy: 0.3353 - val_loss: 1.0996 - val_accuracy: 0.1434\n",
            "Epoch 14/50\n",
            "310/310 [==============================] - 2s 8ms/step - loss: 1.0989 - accuracy: 0.3300 - val_loss: 1.0960 - val_accuracy: 0.4052\n",
            "Epoch 15/50\n",
            "310/310 [==============================] - 2s 8ms/step - loss: 1.0988 - accuracy: 0.3201 - val_loss: 1.0967 - val_accuracy: 0.4514\n",
            "Epoch 16/50\n",
            "310/310 [==============================] - 2s 8ms/step - loss: 1.0987 - accuracy: 0.3280 - val_loss: 1.0973 - val_accuracy: 0.4514\n",
            "Epoch 17/50\n",
            "310/310 [==============================] - 2s 8ms/step - loss: 1.0987 - accuracy: 0.3292 - val_loss: 1.1034 - val_accuracy: 0.1434\n",
            "Epoch 18/50\n",
            "310/310 [==============================] - 2s 8ms/step - loss: 1.0987 - accuracy: 0.3336 - val_loss: 1.1011 - val_accuracy: 0.1434\n",
            "Epoch 19/50\n",
            "310/310 [==============================] - 2s 8ms/step - loss: 1.0987 - accuracy: 0.3254 - val_loss: 1.0992 - val_accuracy: 0.4052\n",
            "Epoch 20/50\n",
            "310/310 [==============================] - 2s 8ms/step - loss: 1.0987 - accuracy: 0.3306 - val_loss: 1.0986 - val_accuracy: 0.4514\n",
            "Epoch 21/50\n",
            "310/310 [==============================] - 2s 8ms/step - loss: 1.0987 - accuracy: 0.3265 - val_loss: 1.0987 - val_accuracy: 0.4052\n",
            "Epoch 22/50\n",
            "310/310 [==============================] - 2s 8ms/step - loss: 1.0986 - accuracy: 0.3334 - val_loss: 1.0973 - val_accuracy: 0.4514\n",
            "Epoch 23/50\n",
            "310/310 [==============================] - 2s 8ms/step - loss: 1.0987 - accuracy: 0.3259 - val_loss: 1.1006 - val_accuracy: 0.1434\n",
            "Epoch 24/50\n",
            "310/310 [==============================] - 2s 8ms/step - loss: 1.0987 - accuracy: 0.3405 - val_loss: 1.0973 - val_accuracy: 0.4514\n",
            "Epoch 25/50\n",
            "310/310 [==============================] - 2s 8ms/step - loss: 1.0987 - accuracy: 0.3322 - val_loss: 1.0948 - val_accuracy: 0.4052\n",
            "Epoch 26/50\n",
            "310/310 [==============================] - 2s 8ms/step - loss: 1.0987 - accuracy: 0.3236 - val_loss: 1.0968 - val_accuracy: 0.4514\n",
            "Epoch 27/50\n",
            "310/310 [==============================] - 2s 8ms/step - loss: 1.0986 - accuracy: 0.3272 - val_loss: 1.0972 - val_accuracy: 0.4514\n",
            "Epoch 28/50\n",
            "310/310 [==============================] - 2s 8ms/step - loss: 1.0989 - accuracy: 0.3314 - val_loss: 1.1025 - val_accuracy: 0.1434\n",
            "Epoch 29/50\n",
            "310/310 [==============================] - 2s 8ms/step - loss: 1.0987 - accuracy: 0.3358 - val_loss: 1.0966 - val_accuracy: 0.4514\n",
            "Epoch 30/50\n",
            "310/310 [==============================] - 2s 8ms/step - loss: 1.0987 - accuracy: 0.3313 - val_loss: 1.0996 - val_accuracy: 0.4052\n",
            "Epoch 31/50\n",
            "310/310 [==============================] - 3s 8ms/step - loss: 1.0987 - accuracy: 0.3159 - val_loss: 1.0991 - val_accuracy: 0.4052\n",
            "Epoch 32/50\n",
            "310/310 [==============================] - 2s 8ms/step - loss: 1.0986 - accuracy: 0.3316 - val_loss: 1.0977 - val_accuracy: 0.4514\n",
            "Epoch 33/50\n",
            "310/310 [==============================] - 2s 8ms/step - loss: 1.0987 - accuracy: 0.3309 - val_loss: 1.0975 - val_accuracy: 0.4514\n",
            "Epoch 34/50\n",
            "310/310 [==============================] - 2s 8ms/step - loss: 1.0986 - accuracy: 0.3253 - val_loss: 1.0985 - val_accuracy: 0.4052\n",
            "Epoch 35/50\n",
            "310/310 [==============================] - 2s 8ms/step - loss: 1.0987 - accuracy: 0.3290 - val_loss: 1.0984 - val_accuracy: 0.4052\n",
            "Epoch 36/50\n",
            "310/310 [==============================] - 2s 8ms/step - loss: 1.0986 - accuracy: 0.3297 - val_loss: 1.0966 - val_accuracy: 0.4514\n",
            "Epoch 37/50\n",
            "310/310 [==============================] - 2s 8ms/step - loss: 1.0987 - accuracy: 0.3366 - val_loss: 1.0909 - val_accuracy: 0.4052\n",
            "Epoch 38/50\n",
            "310/310 [==============================] - 2s 8ms/step - loss: 1.0987 - accuracy: 0.3224 - val_loss: 1.0980 - val_accuracy: 0.4514\n",
            "Epoch 39/50\n",
            "310/310 [==============================] - 2s 8ms/step - loss: 1.0987 - accuracy: 0.3280 - val_loss: 1.0992 - val_accuracy: 0.1434\n",
            "Epoch 40/50\n",
            "310/310 [==============================] - 2s 8ms/step - loss: 1.0987 - accuracy: 0.3323 - val_loss: 1.0981 - val_accuracy: 0.4052\n",
            "Epoch 41/50\n",
            "310/310 [==============================] - 2s 8ms/step - loss: 1.0989 - accuracy: 0.3176 - val_loss: 1.0996 - val_accuracy: 0.1434\n",
            "Epoch 42/50\n",
            "310/310 [==============================] - 2s 8ms/step - loss: 1.0987 - accuracy: 0.3247 - val_loss: 1.0989 - val_accuracy: 0.4514\n",
            "Epoch 43/50\n",
            "310/310 [==============================] - 2s 8ms/step - loss: 1.0986 - accuracy: 0.3270 - val_loss: 1.0974 - val_accuracy: 0.4052\n",
            "Epoch 44/50\n",
            "310/310 [==============================] - 2s 8ms/step - loss: 1.0987 - accuracy: 0.3345 - val_loss: 1.1003 - val_accuracy: 0.1434\n",
            "Epoch 45/50\n",
            "310/310 [==============================] - 2s 8ms/step - loss: 1.0987 - accuracy: 0.3293 - val_loss: 1.0996 - val_accuracy: 0.4052\n",
            "Epoch 46/50\n",
            "310/310 [==============================] - 2s 8ms/step - loss: 1.0986 - accuracy: 0.3367 - val_loss: 1.1002 - val_accuracy: 0.4514\n",
            "Epoch 47/50\n",
            "310/310 [==============================] - 2s 8ms/step - loss: 1.0987 - accuracy: 0.3282 - val_loss: 1.0972 - val_accuracy: 0.4052\n",
            "Epoch 48/50\n",
            "310/310 [==============================] - 2s 8ms/step - loss: 1.0987 - accuracy: 0.3270 - val_loss: 1.0987 - val_accuracy: 0.4052\n",
            "Epoch 49/50\n",
            "310/310 [==============================] - 2s 8ms/step - loss: 1.0986 - accuracy: 0.3283 - val_loss: 1.0978 - val_accuracy: 0.4514\n",
            "Epoch 50/50\n",
            "310/310 [==============================] - 2s 8ms/step - loss: 1.0987 - accuracy: 0.3327 - val_loss: 1.0971 - val_accuracy: 0.4514\n"
          ]
        }
      ],
      "source": [
        "model = Sequential()\n",
        "model.add(text_vectorization)\n",
        "model.add(embedding)\n",
        "model.add(GRU(32))\n",
        "model.add(Dense(3,activation='softmax'))\n",
        "\n",
        "model.compile(loss='categorical_crossentropy',optimizer='adam',metrics='accuracy')\n",
        "\n",
        "model_gru_hist_1 = model.fit(X_train_balanced,\n",
        "                         y_train_balanced_ohe,\n",
        "                         epochs=50,\n",
        "                         validation_data=(X_test, y_test_ohe))"
      ]
    },
    {
      "cell_type": "code",
      "execution_count": null,
      "metadata": {
        "colab": {
          "base_uri": "https://localhost:8080/",
          "height": 336
        },
        "id": "e3I6CHIG0hoM",
        "outputId": "539f0749-0981-4bb3-ba0f-4560e45dcd3d"
      },
      "outputs": [
        {
          "data": {
            "image/png": "[encoded data removed]",
            "text/plain": [
              "<Figure size 576x360 with 1 Axes>"
            ]
          },
          "metadata": {
            "needs_background": "light"
          },
          "output_type": "display_data"
        }
      ],
      "source": [
        "pd.DataFrame(model_gru_hist_1.history).plot(figsize=(8, 5))\n",
        "plt.grid(True)\n",
        "plt.gca().set_ylim(0, 10)\n",
        "plt.title(\"Learning Curves GRU Improvement\")\n",
        "plt.show()"
      ]
    },
    {
      "cell_type": "markdown",
      "metadata": {
        "id": "o3p319wJKOU4"
      },
      "source": [
        "First our model tensorflow with Gru, with this model is bad result for data inference base on graph learning curve."
      ]
    },
    {
      "cell_type": "code",
      "execution_count": null,
      "metadata": {
        "colab": {
          "base_uri": "https://localhost:8080/"
        },
        "id": "VXrTrqGm0hoN",
        "outputId": "75eedd4a-a5dc-4bec-ec19-27988f647eea"
      },
      "outputs": [
        {
          "name": "stdout",
          "output_type": "stream",
          "text": [
            "44/44 [==============================] - 0s 5ms/step - loss: 1.0971 - accuracy: 0.4514\n"
          ]
        },
        {
          "data": {
            "text/plain": [
              "[1.0970852375030518, 0.4514162838459015]"
            ]
          },
          "execution_count": 106,
          "metadata": {},
          "output_type": "execute_result"
        }
      ],
      "source": [
        "model.evaluate(X_test, y_test_ohe, batch_size=64)"
      ]
    },
    {
      "cell_type": "code",
      "execution_count": null,
      "metadata": {
        "colab": {
          "base_uri": "https://localhost:8080/"
        },
        "id": "xCir-Khx0hoO",
        "outputId": "0cb2be68-8377-44c6-f677-995529df4491"
      },
      "outputs": [
        {
          "data": {
            "text/plain": [
              "array([[0.3319171 , 0.33155793, 0.33652493],\n",
              "       [0.3319171 , 0.33155793, 0.33652493],\n",
              "       [0.3319171 , 0.33155793, 0.33652493],\n",
              "       [0.3319171 , 0.33155793, 0.33652493],\n",
              "       [0.33191708, 0.33155793, 0.33652502],\n",
              "       [0.3319171 , 0.33155793, 0.33652493],\n",
              "       [0.3319171 , 0.33155793, 0.33652493],\n",
              "       [0.3319171 , 0.33155793, 0.33652493],\n",
              "       [0.3319171 , 0.33155793, 0.33652493],\n",
              "       [0.3319171 , 0.33155793, 0.33652493],\n",
              "       [0.3319171 , 0.33155793, 0.33652493],\n",
              "       [0.3319171 , 0.33155793, 0.33652493],\n",
              "       [0.3319171 , 0.33155793, 0.33652493],\n",
              "       [0.3319171 , 0.33155793, 0.33652493],\n",
              "       [0.3319171 , 0.33155793, 0.33652493],\n",
              "       [0.3319171 , 0.33155793, 0.33652493],\n",
              "       [0.3319171 , 0.33155793, 0.33652493],\n",
              "       [0.3319171 , 0.33155793, 0.33652493],\n",
              "       [0.3319171 , 0.33155793, 0.33652493],\n",
              "       [0.3319171 , 0.33155793, 0.33652493]], dtype=float32)"
            ]
          },
          "execution_count": 107,
          "metadata": {},
          "output_type": "execute_result"
        }
      ],
      "source": [
        "yp_seq_gru_imp = model.predict(X_test)\n",
        "yp_seq_gru_imp[:20]"
      ]
    },
    {
      "cell_type": "code",
      "execution_count": null,
      "metadata": {
        "colab": {
          "base_uri": "https://localhost:8080/"
        },
        "id": "J6iQbNNo0hoO",
        "outputId": "2ea3e45e-0a3a-41a8-ac36-f8041ba9d2e7"
      },
      "outputs": [
        {
          "name": "stdout",
          "output_type": "stream",
          "text": [
            "Classification Report (Model Sequential Improvement LSTM)\n",
            "              precision    recall  f1-score   support\n",
            "\n",
            "     Neutral       0.00      0.00      0.00       400\n",
            "    Negative       0.00      0.00      0.00      1130\n",
            "    Positive       0.45      1.00      0.62      1259\n",
            "\n",
            "    accuracy                           0.45      2789\n",
            "   macro avg       0.15      0.33      0.21      2789\n",
            "weighted avg       0.20      0.45      0.28      2789\n",
            "\n"
          ]
        }
      ],
      "source": [
        "# Test is the data right after splitting into train, test and val (shuffle was false in dataset so the order will match)\n",
        "# Classification report\n",
        "res_argmax_gru_imp = yp_seq_gru_imp.argmax(axis=1)\n",
        "print('Classification Report (Model Sequential Improvement LSTM)')\n",
        "print(classification_report(y_test, res_argmax_gru_imp, target_names=[\"Neutral\", \"Negative\", \"Positive\"]))"
      ]
    },
    {
      "cell_type": "markdown",
      "metadata": {
        "id": "9eQ8y7mjKfgz"
      },
      "source": [
        "Wow, it turns out that the results are very bad, the model can only predict the Positive label for this dataset, so it is true from the learning curve graph where the graph shows bad results. "
      ]
    },
    {
      "cell_type": "code",
      "execution_count": null,
      "metadata": {
        "colab": {
          "base_uri": "https://localhost:8080/",
          "height": 295
        },
        "id": "aNBPiGDw0hoP",
        "outputId": "a840167d-6eef-4949-abcc-40344cbb2cca"
      },
      "outputs": [
        {
          "data": {
            "image/png": "[encoded data removed]",
            "text/plain": [
              "<Figure size 432x288 with 2 Axes>"
            ]
          },
          "metadata": {
            "needs_background": "light"
          },
          "output_type": "display_data"
        }
      ],
      "source": [
        "cm = confusion_matrix(y_test, res_argmax_gru_imp)\n",
        "disp = ConfusionMatrixDisplay(confusion_matrix=cm)\n",
        "\n",
        "disp.plot()\n",
        "plt.title(\"GRU with Improvement\")\n",
        "plt.show()"
      ]
    },
    {
      "cell_type": "markdown",
      "metadata": {
        "id": "UFih-OW_K8I8"
      },
      "source": [
        "Of course the model just know label positive, so they just can predict label positive only."
      ]
    },
    {
      "cell_type": "markdown",
      "metadata": {
        "id": "-YgwNCQ23eU-"
      },
      "source": [
        "## Model LSTM x Conv1D x DNN"
      ]
    },
    {
      "cell_type": "code",
      "execution_count": null,
      "metadata": {
        "id": "f7bFQyAJfx4N"
      },
      "outputs": [],
      "source": [
        "model_lstm_1_imp = Sequential()\n",
        "model_lstm_1_imp.add(text_vectorization)\n",
        "model_lstm_1_imp.add(embedding)\n",
        "model_lstm_1_imp.add(Conv1D(64, 5, activation='relu'))\n",
        "model_lstm_1_imp.add(MaxPooling1D(pool_size=4))\n",
        "model_lstm_1_imp.add(LSTM(64))\n",
        "model_lstm_1_imp.add(Dense(256,activation='relu', kernel_regularizer=tf.keras.regularizers.L2(),\n",
        "                      kernel_initializer=keras.initializers.RandomNormal(stddev=0.5)))\n",
        "model_lstm_1_imp.add(BatchNormalization())\n",
        "model_lstm_1_imp.add(Dropout(0.5))\n",
        "model_lstm_1_imp.add(Dense(128,activation='relu', kernel_regularizer=tf.keras.regularizers.L2(),\n",
        "                      kernel_initializer=keras.initializers.RandomNormal(stddev=0.5)))\n",
        "model_lstm_1_imp.add(BatchNormalization())\n",
        "model_lstm_1_imp.add(Dropout(0.5))\n",
        "model_lstm_1_imp.add(Dense(3,activation='softmax'))\n",
        "\n",
        "model_lstm_1_imp.compile(loss=keras.losses.categorical_crossentropy,\n",
        "                    optimizer=tf.keras.optimizers.Adam(learning_rate=0.0001),\n",
        "                    metrics='accuracy')"
      ]
    },
    {
      "cell_type": "code",
      "execution_count": null,
      "metadata": {
        "colab": {
          "base_uri": "https://localhost:8080/"
        },
        "id": "a53eVHpCiKIp",
        "outputId": "79c37ec5-5f1a-4102-ac28-5e0e9a1ae854"
      },
      "outputs": [
        {
          "name": "stdout",
          "output_type": "stream",
          "text": [
            "Epoch 1/200\n",
            "155/155 [==============================] - 6s 14ms/step - loss: 121.1660 - accuracy: 0.3693 - val_loss: 117.9967 - val_accuracy: 0.3333\n",
            "Epoch 2/200\n",
            "155/155 [==============================] - 2s 10ms/step - loss: 115.7283 - accuracy: 0.4155 - val_loss: 112.7738 - val_accuracy: 0.3420\n",
            "Epoch 3/200\n",
            "155/155 [==============================] - 2s 10ms/step - loss: 110.3536 - accuracy: 0.5344 - val_loss: 107.7627 - val_accuracy: 0.4368\n",
            "Epoch 4/200\n",
            "155/155 [==============================] - 2s 10ms/step - loss: 105.2808 - accuracy: 0.6307 - val_loss: 102.9687 - val_accuracy: 0.5646\n",
            "Epoch 5/200\n",
            "155/155 [==============================] - 2s 10ms/step - loss: 100.4630 - accuracy: 0.7009 - val_loss: 98.4579 - val_accuracy: 0.6219\n",
            "Epoch 6/200\n",
            "155/155 [==============================] - 2s 10ms/step - loss: 95.8795 - accuracy: 0.7425 - val_loss: 94.0944 - val_accuracy: 0.6233\n",
            "Epoch 7/200\n",
            "155/155 [==============================] - 2s 10ms/step - loss: 91.5050 - accuracy: 0.7709 - val_loss: 89.9115 - val_accuracy: 0.6142\n",
            "Epoch 8/200\n",
            "155/155 [==============================] - 2s 10ms/step - loss: 87.2858 - accuracy: 0.8054 - val_loss: 86.2313 - val_accuracy: 0.5748\n",
            "Epoch 9/200\n",
            "155/155 [==============================] - 2s 10ms/step - loss: 83.2372 - accuracy: 0.8276 - val_loss: 82.0906 - val_accuracy: 0.6024\n",
            "Epoch 10/200\n",
            "155/155 [==============================] - 2s 10ms/step - loss: 79.3748 - accuracy: 0.8483 - val_loss: 78.2351 - val_accuracy: 0.6556\n",
            "Epoch 11/200\n",
            "155/155 [==============================] - 1s 10ms/step - loss: 75.6603 - accuracy: 0.8668 - val_loss: 75.2897 - val_accuracy: 0.6038\n",
            "Epoch 12/200\n",
            "155/155 [==============================] - 2s 10ms/step - loss: 72.1167 - accuracy: 0.8694 - val_loss: 71.4116 - val_accuracy: 0.6560\n",
            "Epoch 13/200\n",
            "155/155 [==============================] - 2s 10ms/step - loss: 68.6984 - accuracy: 0.8828 - val_loss: 67.9922 - val_accuracy: 0.6685\n",
            "Epoch 14/200\n",
            "155/155 [==============================] - 2s 10ms/step - loss: 65.4352 - accuracy: 0.8882 - val_loss: 64.8086 - val_accuracy: 0.6721\n",
            "Epoch 15/200\n",
            "155/155 [==============================] - 2s 10ms/step - loss: 62.2926 - accuracy: 0.9028 - val_loss: 61.8566 - val_accuracy: 0.6797\n",
            "Epoch 16/200\n",
            "155/155 [==============================] - 2s 10ms/step - loss: 59.2881 - accuracy: 0.9099 - val_loss: 59.1064 - val_accuracy: 0.6092\n",
            "Epoch 17/200\n",
            "155/155 [==============================] - 2s 10ms/step - loss: 56.4071 - accuracy: 0.9136 - val_loss: 56.1496 - val_accuracy: 0.6385\n",
            "Epoch 18/200\n",
            "155/155 [==============================] - 2s 10ms/step - loss: 53.6632 - accuracy: 0.9161 - val_loss: 53.7295 - val_accuracy: 0.6616\n",
            "Epoch 19/200\n",
            "155/155 [==============================] - 2s 10ms/step - loss: 51.0175 - accuracy: 0.9222 - val_loss: 51.1121 - val_accuracy: 0.6699\n",
            "Epoch 20/200\n",
            "155/155 [==============================] - 2s 10ms/step - loss: 48.4883 - accuracy: 0.9275 - val_loss: 48.6873 - val_accuracy: 0.6727\n",
            "Epoch 21/200\n",
            "155/155 [==============================] - 2s 10ms/step - loss: 46.0703 - accuracy: 0.9294 - val_loss: 46.2669 - val_accuracy: 0.6753\n",
            "Epoch 22/200\n",
            "155/155 [==============================] - 2s 10ms/step - loss: 43.7610 - accuracy: 0.9285 - val_loss: 44.0609 - val_accuracy: 0.6769\n",
            "Epoch 23/200\n",
            "155/155 [==============================] - 2s 10ms/step - loss: 41.5464 - accuracy: 0.9319 - val_loss: 42.2619 - val_accuracy: 0.6277\n",
            "Epoch 24/200\n",
            "155/155 [==============================] - 2s 10ms/step - loss: 39.4316 - accuracy: 0.9354 - val_loss: 39.7980 - val_accuracy: 0.6749\n",
            "Epoch 25/200\n",
            "155/155 [==============================] - 2s 10ms/step - loss: 37.4034 - accuracy: 0.9355 - val_loss: 37.7716 - val_accuracy: 0.6743\n",
            "Epoch 26/200\n",
            "155/155 [==============================] - 2s 10ms/step - loss: 35.4677 - accuracy: 0.9407 - val_loss: 36.2022 - val_accuracy: 0.6588\n",
            "Epoch 27/200\n",
            "155/155 [==============================] - 2s 10ms/step - loss: 33.6132 - accuracy: 0.9439 - val_loss: 34.1218 - val_accuracy: 0.6878\n",
            "Epoch 28/200\n",
            "155/155 [==============================] - 2s 10ms/step - loss: 31.8614 - accuracy: 0.9395 - val_loss: 32.4158 - val_accuracy: 0.6831\n",
            "Epoch 29/200\n",
            "155/155 [==============================] - 2s 10ms/step - loss: 30.1621 - accuracy: 0.9435 - val_loss: 31.0150 - val_accuracy: 0.6647\n",
            "Epoch 30/200\n",
            "155/155 [==============================] - 2s 10ms/step - loss: 28.5631 - accuracy: 0.9441 - val_loss: 29.2713 - val_accuracy: 0.6815\n",
            "Epoch 31/200\n",
            "155/155 [==============================] - 2s 10ms/step - loss: 27.0310 - accuracy: 0.9461 - val_loss: 27.8506 - val_accuracy: 0.6741\n",
            "Epoch 32/200\n",
            "155/155 [==============================] - 2s 10ms/step - loss: 25.5577 - accuracy: 0.9479 - val_loss: 26.2743 - val_accuracy: 0.6769\n",
            "Epoch 33/200\n",
            "155/155 [==============================] - 2s 10ms/step - loss: 24.1670 - accuracy: 0.9471 - val_loss: 24.9200 - val_accuracy: 0.6805\n",
            "Epoch 34/200\n",
            "155/155 [==============================] - 2s 10ms/step - loss: 22.8418 - accuracy: 0.9484 - val_loss: 23.7311 - val_accuracy: 0.6870\n",
            "Epoch 35/200\n",
            "155/155 [==============================] - 2s 10ms/step - loss: 21.5741 - accuracy: 0.9511 - val_loss: 22.5205 - val_accuracy: 0.6862\n",
            "Epoch 36/200\n",
            "155/155 [==============================] - 2s 10ms/step - loss: 20.3725 - accuracy: 0.9466 - val_loss: 21.4864 - val_accuracy: 0.6811\n",
            "Epoch 37/200\n",
            "155/155 [==============================] - 2s 10ms/step - loss: 19.2249 - accuracy: 0.9531 - val_loss: 20.4259 - val_accuracy: 0.6739\n",
            "Epoch 38/200\n",
            "155/155 [==============================] - 2s 10ms/step - loss: 18.1403 - accuracy: 0.9501 - val_loss: 19.5178 - val_accuracy: 0.6582\n",
            "Epoch 39/200\n",
            "155/155 [==============================] - 2s 10ms/step - loss: 17.1044 - accuracy: 0.9508 - val_loss: 18.2114 - val_accuracy: 0.6807\n",
            "Epoch 40/200\n",
            "155/155 [==============================] - 2s 10ms/step - loss: 16.1215 - accuracy: 0.9528 - val_loss: 17.2191 - val_accuracy: 0.6843\n",
            "Epoch 41/200\n",
            "155/155 [==============================] - 2s 10ms/step - loss: 15.1741 - accuracy: 0.9560 - val_loss: 16.3637 - val_accuracy: 0.6843\n",
            "Epoch 42/200\n",
            "155/155 [==============================] - 2s 10ms/step - loss: 14.2993 - accuracy: 0.9527 - val_loss: 15.3795 - val_accuracy: 0.6833\n",
            "Epoch 43/200\n",
            "155/155 [==============================] - 2s 10ms/step - loss: 13.4552 - accuracy: 0.9524 - val_loss: 14.6378 - val_accuracy: 0.6866\n",
            "Epoch 44/200\n",
            "155/155 [==============================] - 2s 10ms/step - loss: 12.6564 - accuracy: 0.9541 - val_loss: 13.8364 - val_accuracy: 0.6817\n",
            "Epoch 45/200\n",
            "155/155 [==============================] - 2s 10ms/step - loss: 11.9015 - accuracy: 0.9565 - val_loss: 13.0786 - val_accuracy: 0.6847\n",
            "Epoch 46/200\n",
            "155/155 [==============================] - 2s 10ms/step - loss: 11.1825 - accuracy: 0.9558 - val_loss: 12.3641 - val_accuracy: 0.6874\n",
            "Epoch 47/200\n",
            "155/155 [==============================] - 2s 10ms/step - loss: 10.5140 - accuracy: 0.9525 - val_loss: 11.9866 - val_accuracy: 0.6801\n",
            "Epoch 48/200\n",
            "155/155 [==============================] - 2s 10ms/step - loss: 9.8641 - accuracy: 0.9548 - val_loss: 11.2630 - val_accuracy: 0.6805\n",
            "Epoch 49/200\n",
            "155/155 [==============================] - 2s 10ms/step - loss: 9.2646 - accuracy: 0.9555 - val_loss: 10.5871 - val_accuracy: 0.6823\n",
            "Epoch 50/200\n",
            "155/155 [==============================] - 2s 10ms/step - loss: 8.6900 - accuracy: 0.9579 - val_loss: 10.0645 - val_accuracy: 0.6876\n",
            "Epoch 51/200\n",
            "155/155 [==============================] - 2s 10ms/step - loss: 8.1516 - accuracy: 0.9560 - val_loss: 9.5829 - val_accuracy: 0.6837\n",
            "Epoch 52/200\n",
            "155/155 [==============================] - 1s 10ms/step - loss: 7.6307 - accuracy: 0.9566 - val_loss: 8.9783 - val_accuracy: 0.6878\n",
            "Epoch 53/200\n",
            "155/155 [==============================] - 2s 10ms/step - loss: 7.1634 - accuracy: 0.9545 - val_loss: 8.5144 - val_accuracy: 0.6878\n",
            "Epoch 54/200\n",
            "155/155 [==============================] - 1s 10ms/step - loss: 6.7024 - accuracy: 0.9582 - val_loss: 8.2758 - val_accuracy: 0.6739\n",
            "Epoch 55/200\n",
            "155/155 [==============================] - 2s 10ms/step - loss: 6.2773 - accuracy: 0.9578 - val_loss: 7.7376 - val_accuracy: 0.6835\n",
            "Epoch 56/200\n",
            "155/155 [==============================] - 2s 10ms/step - loss: 5.8703 - accuracy: 0.9578 - val_loss: 7.2580 - val_accuracy: 0.6892\n",
            "Epoch 57/200\n",
            "155/155 [==============================] - 2s 10ms/step - loss: 5.4868 - accuracy: 0.9604 - val_loss: 6.9443 - val_accuracy: 0.6833\n",
            "Epoch 58/200\n",
            "155/155 [==============================] - 2s 10ms/step - loss: 5.1346 - accuracy: 0.9594 - val_loss: 6.6747 - val_accuracy: 0.6845\n",
            "Epoch 59/200\n",
            "155/155 [==============================] - 2s 10ms/step - loss: 4.7912 - accuracy: 0.9616 - val_loss: 6.2367 - val_accuracy: 0.6952\n",
            "Epoch 60/200\n",
            "155/155 [==============================] - 2s 10ms/step - loss: 4.4875 - accuracy: 0.9573 - val_loss: 6.1795 - val_accuracy: 0.6757\n",
            "Epoch 61/200\n",
            "155/155 [==============================] - 2s 10ms/step - loss: 4.1889 - accuracy: 0.9589 - val_loss: 5.6567 - val_accuracy: 0.6847\n",
            "Epoch 62/200\n",
            "155/155 [==============================] - 2s 10ms/step - loss: 3.9092 - accuracy: 0.9597 - val_loss: 5.4072 - val_accuracy: 0.6321\n",
            "Epoch 63/200\n",
            "155/155 [==============================] - 2s 10ms/step - loss: 3.6460 - accuracy: 0.9617 - val_loss: 5.2004 - val_accuracy: 0.6787\n",
            "Epoch 64/200\n",
            "155/155 [==============================] - 2s 10ms/step - loss: 3.3965 - accuracy: 0.9620 - val_loss: 4.8596 - val_accuracy: 0.6896\n",
            "Epoch 65/200\n",
            "155/155 [==============================] - 2s 10ms/step - loss: 3.1683 - accuracy: 0.9611 - val_loss: 4.7347 - val_accuracy: 0.6856\n",
            "Epoch 66/200\n",
            "155/155 [==============================] - 2s 10ms/step - loss: 2.9620 - accuracy: 0.9572 - val_loss: 4.8769 - val_accuracy: 0.6681\n",
            "Epoch 67/200\n",
            "155/155 [==============================] - 2s 10ms/step - loss: 2.7588 - accuracy: 0.9603 - val_loss: 4.3111 - val_accuracy: 0.6829\n",
            "Epoch 68/200\n",
            "155/155 [==============================] - 2s 11ms/step - loss: 2.5649 - accuracy: 0.9612 - val_loss: 4.1524 - val_accuracy: 0.6839\n",
            "Epoch 69/200\n",
            "155/155 [==============================] - 2s 10ms/step - loss: 2.4008 - accuracy: 0.9583 - val_loss: 4.4518 - val_accuracy: 0.6614\n",
            "Epoch 70/200\n",
            "155/155 [==============================] - 2s 10ms/step - loss: 2.2317 - accuracy: 0.9608 - val_loss: 3.9515 - val_accuracy: 0.6821\n",
            "Epoch 71/200\n",
            "155/155 [==============================] - 2s 10ms/step - loss: 2.0749 - accuracy: 0.9614 - val_loss: 3.6607 - val_accuracy: 0.6902\n",
            "Epoch 72/200\n",
            "155/155 [==============================] - 2s 10ms/step - loss: 1.9282 - accuracy: 0.9625 - val_loss: 3.6210 - val_accuracy: 0.6874\n",
            "Epoch 73/200\n",
            "155/155 [==============================] - 2s 10ms/step - loss: 1.8005 - accuracy: 0.9610 - val_loss: 3.5407 - val_accuracy: 0.6823\n",
            "Epoch 74/200\n",
            "155/155 [==============================] - 2s 10ms/step - loss: 1.6764 - accuracy: 0.9611 - val_loss: 3.1664 - val_accuracy: 0.6892\n",
            "Epoch 75/200\n",
            "155/155 [==============================] - 2s 10ms/step - loss: 1.5602 - accuracy: 0.9610 - val_loss: 3.3111 - val_accuracy: 0.6771\n",
            "Epoch 76/200\n",
            "155/155 [==============================] - 2s 10ms/step - loss: 1.4505 - accuracy: 0.9627 - val_loss: 3.1619 - val_accuracy: 0.6872\n",
            "Epoch 77/200\n",
            "155/155 [==============================] - 2s 10ms/step - loss: 1.3491 - accuracy: 0.9596 - val_loss: 3.2696 - val_accuracy: 0.6801\n",
            "Epoch 78/200\n",
            "155/155 [==============================] - 2s 10ms/step - loss: 1.2668 - accuracy: 0.9601 - val_loss: 3.2184 - val_accuracy: 0.6719\n",
            "Epoch 79/200\n",
            "155/155 [==============================] - 2s 10ms/step - loss: 1.1733 - accuracy: 0.9608 - val_loss: 2.8937 - val_accuracy: 0.6813\n",
            "Epoch 80/200\n",
            "155/155 [==============================] - 2s 10ms/step - loss: 1.0941 - accuracy: 0.9611 - val_loss: 2.8854 - val_accuracy: 0.6791\n",
            "Epoch 81/200\n",
            "155/155 [==============================] - 2s 10ms/step - loss: 1.0115 - accuracy: 0.9655 - val_loss: 2.6449 - val_accuracy: 0.6932\n",
            "Epoch 82/200\n",
            "155/155 [==============================] - 2s 10ms/step - loss: 0.9482 - accuracy: 0.9630 - val_loss: 2.5471 - val_accuracy: 0.6920\n",
            "Epoch 83/200\n",
            "155/155 [==============================] - 2s 10ms/step - loss: 0.8727 - accuracy: 0.9657 - val_loss: 2.7271 - val_accuracy: 0.6841\n",
            "Epoch 84/200\n",
            "155/155 [==============================] - 2s 10ms/step - loss: 0.8249 - accuracy: 0.9605 - val_loss: 2.4135 - val_accuracy: 0.6938\n",
            "Epoch 85/200\n",
            "155/155 [==============================] - 2s 10ms/step - loss: 0.7667 - accuracy: 0.9635 - val_loss: 2.3676 - val_accuracy: 0.6886\n",
            "Epoch 86/200\n",
            "155/155 [==============================] - 2s 10ms/step - loss: 0.7134 - accuracy: 0.9644 - val_loss: 2.4358 - val_accuracy: 0.6783\n",
            "Epoch 87/200\n",
            "155/155 [==============================] - 2s 10ms/step - loss: 0.6676 - accuracy: 0.9611 - val_loss: 2.3748 - val_accuracy: 0.6916\n",
            "Epoch 88/200\n",
            "155/155 [==============================] - 2s 10ms/step - loss: 0.6246 - accuracy: 0.9609 - val_loss: 2.3651 - val_accuracy: 0.6864\n",
            "Epoch 89/200\n",
            "155/155 [==============================] - 2s 10ms/step - loss: 0.5827 - accuracy: 0.9622 - val_loss: 2.5821 - val_accuracy: 0.6799\n",
            "Epoch 90/200\n",
            "155/155 [==============================] - 2s 10ms/step - loss: 0.5428 - accuracy: 0.9642 - val_loss: 2.2537 - val_accuracy: 0.6795\n",
            "Epoch 91/200\n",
            "155/155 [==============================] - 2s 10ms/step - loss: 0.5067 - accuracy: 0.9626 - val_loss: 2.3411 - val_accuracy: 0.6785\n",
            "Epoch 92/200\n",
            "155/155 [==============================] - 2s 10ms/step - loss: 0.4746 - accuracy: 0.9620 - val_loss: 2.2008 - val_accuracy: 0.6866\n",
            "Epoch 93/200\n",
            "155/155 [==============================] - 2s 10ms/step - loss: 0.4401 - accuracy: 0.9659 - val_loss: 2.0950 - val_accuracy: 0.6874\n",
            "Epoch 94/200\n",
            "155/155 [==============================] - 2s 10ms/step - loss: 0.4329 - accuracy: 0.9591 - val_loss: 2.1004 - val_accuracy: 0.6856\n",
            "Epoch 95/200\n",
            "155/155 [==============================] - 2s 10ms/step - loss: 0.3926 - accuracy: 0.9635 - val_loss: 2.1055 - val_accuracy: 0.6920\n",
            "Epoch 96/200\n",
            "155/155 [==============================] - 2s 10ms/step - loss: 0.3675 - accuracy: 0.9649 - val_loss: 2.1320 - val_accuracy: 0.6823\n",
            "Epoch 97/200\n",
            "155/155 [==============================] - 2s 10ms/step - loss: 0.3463 - accuracy: 0.9641 - val_loss: 2.1243 - val_accuracy: 0.6739\n",
            "Epoch 98/200\n",
            "155/155 [==============================] - 2s 10ms/step - loss: 0.3294 - accuracy: 0.9659 - val_loss: 2.0375 - val_accuracy: 0.6866\n",
            "Epoch 99/200\n",
            "155/155 [==============================] - 2s 10ms/step - loss: 0.3065 - accuracy: 0.9657 - val_loss: 1.8591 - val_accuracy: 0.6918\n",
            "Epoch 100/200\n",
            "155/155 [==============================] - 2s 11ms/step - loss: 0.2918 - accuracy: 0.9653 - val_loss: 2.1752 - val_accuracy: 0.6775\n",
            "Epoch 101/200\n",
            "155/155 [==============================] - 2s 10ms/step - loss: 0.2736 - accuracy: 0.9639 - val_loss: 1.9461 - val_accuracy: 0.6860\n",
            "Epoch 102/200\n",
            "155/155 [==============================] - 2s 10ms/step - loss: 0.2598 - accuracy: 0.9655 - val_loss: 1.8557 - val_accuracy: 0.6900\n",
            "Epoch 103/200\n",
            "155/155 [==============================] - 2s 10ms/step - loss: 0.2456 - accuracy: 0.9646 - val_loss: 2.1758 - val_accuracy: 0.6771\n",
            "Epoch 104/200\n",
            "155/155 [==============================] - 2s 10ms/step - loss: 0.2301 - accuracy: 0.9654 - val_loss: 1.9570 - val_accuracy: 0.6878\n",
            "Epoch 105/200\n",
            "155/155 [==============================] - 2s 10ms/step - loss: 0.2220 - accuracy: 0.9644 - val_loss: 1.9869 - val_accuracy: 0.6890\n",
            "Epoch 106/200\n",
            "155/155 [==============================] - 2s 10ms/step - loss: 0.2136 - accuracy: 0.9645 - val_loss: 1.8331 - val_accuracy: 0.6894\n",
            "Epoch 107/200\n",
            "155/155 [==============================] - 2s 10ms/step - loss: 0.2001 - accuracy: 0.9640 - val_loss: 1.8764 - val_accuracy: 0.6860\n",
            "Epoch 108/200\n",
            "155/155 [==============================] - 2s 10ms/step - loss: 0.2010 - accuracy: 0.9627 - val_loss: 1.9980 - val_accuracy: 0.6827\n",
            "Epoch 109/200\n",
            "155/155 [==============================] - 2s 10ms/step - loss: 0.1899 - accuracy: 0.9608 - val_loss: 1.9811 - val_accuracy: 0.6880\n",
            "Epoch 110/200\n",
            "155/155 [==============================] - 2s 10ms/step - loss: 0.1770 - accuracy: 0.9653 - val_loss: 1.9313 - val_accuracy: 0.6888\n",
            "Epoch 111/200\n",
            "155/155 [==============================] - 2s 10ms/step - loss: 0.1718 - accuracy: 0.9653 - val_loss: 1.8634 - val_accuracy: 0.6926\n",
            "Epoch 112/200\n",
            "155/155 [==============================] - 2s 10ms/step - loss: 0.1654 - accuracy: 0.9632 - val_loss: 1.8477 - val_accuracy: 0.6884\n",
            "Epoch 113/200\n",
            "155/155 [==============================] - 2s 10ms/step - loss: 0.1603 - accuracy: 0.9643 - val_loss: 1.8784 - val_accuracy: 0.6860\n",
            "Epoch 114/200\n",
            "155/155 [==============================] - 2s 10ms/step - loss: 0.1529 - accuracy: 0.9667 - val_loss: 1.9003 - val_accuracy: 0.6843\n",
            "Epoch 115/200\n",
            "155/155 [==============================] - 2s 10ms/step - loss: 0.1500 - accuracy: 0.9642 - val_loss: 1.9198 - val_accuracy: 0.6902\n",
            "Epoch 116/200\n",
            "155/155 [==============================] - 2s 10ms/step - loss: 0.1457 - accuracy: 0.9648 - val_loss: 1.8166 - val_accuracy: 0.6819\n",
            "Epoch 117/200\n",
            "155/155 [==============================] - 2s 10ms/step - loss: 0.1389 - accuracy: 0.9666 - val_loss: 1.8634 - val_accuracy: 0.6920\n",
            "Epoch 118/200\n",
            "155/155 [==============================] - 2s 10ms/step - loss: 0.1399 - accuracy: 0.9652 - val_loss: 1.8105 - val_accuracy: 0.6890\n",
            "Epoch 119/200\n",
            "155/155 [==============================] - 2s 10ms/step - loss: 0.1332 - accuracy: 0.9656 - val_loss: 1.8940 - val_accuracy: 0.6856\n",
            "Epoch 120/200\n",
            "155/155 [==============================] - 2s 10ms/step - loss: 0.1291 - accuracy: 0.9658 - val_loss: 1.8854 - val_accuracy: 0.6872\n",
            "Epoch 121/200\n",
            "155/155 [==============================] - 2s 10ms/step - loss: 0.1309 - accuracy: 0.9657 - val_loss: 1.9626 - val_accuracy: 0.6839\n",
            "Epoch 122/200\n",
            "155/155 [==============================] - 2s 10ms/step - loss: 0.1203 - accuracy: 0.9652 - val_loss: 1.9339 - val_accuracy: 0.6866\n",
            "Epoch 123/200\n",
            "155/155 [==============================] - 2s 10ms/step - loss: 0.1287 - accuracy: 0.9634 - val_loss: 1.8451 - val_accuracy: 0.6960\n",
            "Epoch 124/200\n",
            "155/155 [==============================] - 2s 10ms/step - loss: 0.1254 - accuracy: 0.9641 - val_loss: 1.8378 - val_accuracy: 0.6946\n",
            "Epoch 125/200\n",
            "155/155 [==============================] - 2s 10ms/step - loss: 0.1196 - accuracy: 0.9652 - val_loss: 1.9535 - val_accuracy: 0.6825\n",
            "Epoch 126/200\n",
            "155/155 [==============================] - 2s 10ms/step - loss: 0.1130 - accuracy: 0.9654 - val_loss: 1.9602 - val_accuracy: 0.6868\n",
            "Epoch 127/200\n",
            "155/155 [==============================] - 2s 10ms/step - loss: 0.1197 - accuracy: 0.9644 - val_loss: 2.0515 - val_accuracy: 0.6815\n",
            "Epoch 128/200\n",
            "155/155 [==============================] - 2s 10ms/step - loss: 0.1123 - accuracy: 0.9653 - val_loss: 2.0180 - val_accuracy: 0.6896\n",
            "Epoch 129/200\n",
            "155/155 [==============================] - 2s 10ms/step - loss: 0.1098 - accuracy: 0.9663 - val_loss: 1.8739 - val_accuracy: 0.6898\n",
            "Epoch 130/200\n",
            "155/155 [==============================] - 2s 10ms/step - loss: 0.1169 - accuracy: 0.9647 - val_loss: 1.9019 - val_accuracy: 0.6876\n",
            "Epoch 131/200\n",
            "155/155 [==============================] - 2s 10ms/step - loss: 0.1143 - accuracy: 0.9631 - val_loss: 1.9640 - val_accuracy: 0.6829\n",
            "Epoch 132/200\n",
            "155/155 [==============================] - 2s 10ms/step - loss: 0.1093 - accuracy: 0.9651 - val_loss: 2.0408 - val_accuracy: 0.6847\n",
            "Epoch 133/200\n",
            "155/155 [==============================] - 2s 10ms/step - loss: 0.1077 - accuracy: 0.9643 - val_loss: 1.8679 - val_accuracy: 0.6892\n",
            "Epoch 134/200\n",
            "155/155 [==============================] - 2s 10ms/step - loss: 0.1046 - accuracy: 0.9665 - val_loss: 1.9907 - val_accuracy: 0.6850\n",
            "Epoch 135/200\n",
            "155/155 [==============================] - 2s 10ms/step - loss: 0.1061 - accuracy: 0.9653 - val_loss: 1.7676 - val_accuracy: 0.6942\n",
            "Epoch 136/200\n",
            "155/155 [==============================] - 2s 10ms/step - loss: 0.1037 - accuracy: 0.9656 - val_loss: 1.9877 - val_accuracy: 0.6924\n",
            "Epoch 137/200\n",
            "155/155 [==============================] - 2s 10ms/step - loss: 0.1066 - accuracy: 0.9661 - val_loss: 1.8435 - val_accuracy: 0.6886\n",
            "Epoch 138/200\n",
            "155/155 [==============================] - 2s 10ms/step - loss: 0.1016 - accuracy: 0.9667 - val_loss: 1.8984 - val_accuracy: 0.6958\n",
            "Epoch 139/200\n",
            "155/155 [==============================] - 2s 10ms/step - loss: 0.1039 - accuracy: 0.9651 - val_loss: 1.9069 - val_accuracy: 0.6884\n",
            "Epoch 140/200\n",
            "155/155 [==============================] - 2s 10ms/step - loss: 0.1000 - accuracy: 0.9659 - val_loss: 1.8810 - val_accuracy: 0.6902\n",
            "Epoch 141/200\n",
            "155/155 [==============================] - 2s 10ms/step - loss: 0.1002 - accuracy: 0.9663 - val_loss: 1.7807 - val_accuracy: 0.6984\n",
            "Epoch 142/200\n",
            "155/155 [==============================] - 2s 10ms/step - loss: 0.1004 - accuracy: 0.9640 - val_loss: 1.8173 - val_accuracy: 0.6918\n",
            "Epoch 143/200\n",
            "155/155 [==============================] - 2s 10ms/step - loss: 0.1024 - accuracy: 0.9658 - val_loss: 1.8223 - val_accuracy: 0.6884\n",
            "Epoch 144/200\n",
            "155/155 [==============================] - 2s 10ms/step - loss: 0.1012 - accuracy: 0.9647 - val_loss: 1.7992 - val_accuracy: 0.6958\n",
            "Epoch 145/200\n",
            "155/155 [==============================] - 2s 10ms/step - loss: 0.1036 - accuracy: 0.9642 - val_loss: 1.8727 - val_accuracy: 0.6860\n",
            "Epoch 146/200\n",
            "155/155 [==============================] - 2s 10ms/step - loss: 0.1044 - accuracy: 0.9647 - val_loss: 2.0260 - val_accuracy: 0.6815\n",
            "Epoch 147/200\n",
            "155/155 [==============================] - 2s 10ms/step - loss: 0.1080 - accuracy: 0.9633 - val_loss: 2.0099 - val_accuracy: 0.6819\n",
            "Epoch 148/200\n",
            "155/155 [==============================] - 2s 10ms/step - loss: 0.1011 - accuracy: 0.9662 - val_loss: 1.9509 - val_accuracy: 0.6854\n",
            "Epoch 149/200\n",
            "155/155 [==============================] - 2s 10ms/step - loss: 0.0962 - accuracy: 0.9666 - val_loss: 1.7977 - val_accuracy: 0.6946\n",
            "Epoch 150/200\n",
            "155/155 [==============================] - 2s 10ms/step - loss: 0.0973 - accuracy: 0.9662 - val_loss: 1.8406 - val_accuracy: 0.6914\n",
            "Epoch 151/200\n",
            "155/155 [==============================] - 2s 10ms/step - loss: 0.0943 - accuracy: 0.9658 - val_loss: 1.9830 - val_accuracy: 0.6811\n",
            "Epoch 152/200\n",
            "155/155 [==============================] - 2s 10ms/step - loss: 0.0998 - accuracy: 0.9653 - val_loss: 1.8654 - val_accuracy: 0.6864\n",
            "Epoch 153/200\n",
            "155/155 [==============================] - 2s 10ms/step - loss: 0.1020 - accuracy: 0.9643 - val_loss: 1.9969 - val_accuracy: 0.6886\n",
            "Epoch 154/200\n",
            "155/155 [==============================] - 2s 10ms/step - loss: 0.0973 - accuracy: 0.9662 - val_loss: 1.9115 - val_accuracy: 0.6912\n",
            "Epoch 155/200\n",
            "155/155 [==============================] - 2s 10ms/step - loss: 0.0961 - accuracy: 0.9657 - val_loss: 1.9569 - val_accuracy: 0.6888\n",
            "Epoch 156/200\n",
            "155/155 [==============================] - 2s 10ms/step - loss: 0.0960 - accuracy: 0.9646 - val_loss: 1.9732 - val_accuracy: 0.6910\n",
            "Epoch 157/200\n",
            "155/155 [==============================] - 2s 10ms/step - loss: 0.0956 - accuracy: 0.9655 - val_loss: 2.0041 - val_accuracy: 0.6837\n",
            "Epoch 158/200\n",
            "155/155 [==============================] - 2s 10ms/step - loss: 0.0956 - accuracy: 0.9665 - val_loss: 1.9671 - val_accuracy: 0.6837\n",
            "Epoch 159/200\n",
            "155/155 [==============================] - 2s 10ms/step - loss: 0.0977 - accuracy: 0.9657 - val_loss: 1.9103 - val_accuracy: 0.6876\n",
            "Epoch 160/200\n",
            "155/155 [==============================] - 2s 10ms/step - loss: 0.0957 - accuracy: 0.9645 - val_loss: 2.1150 - val_accuracy: 0.6845\n",
            "Epoch 161/200\n",
            "155/155 [==============================] - 2s 10ms/step - loss: 0.0964 - accuracy: 0.9644 - val_loss: 1.8894 - val_accuracy: 0.6946\n",
            "Epoch 162/200\n",
            "155/155 [==============================] - 2s 10ms/step - loss: 0.0953 - accuracy: 0.9657 - val_loss: 1.8525 - val_accuracy: 0.6942\n",
            "Epoch 163/200\n",
            "155/155 [==============================] - 2s 10ms/step - loss: 0.0944 - accuracy: 0.9671 - val_loss: 2.0402 - val_accuracy: 0.6837\n",
            "Epoch 164/200\n",
            "155/155 [==============================] - 2s 10ms/step - loss: 0.0909 - accuracy: 0.9673 - val_loss: 1.9605 - val_accuracy: 0.6992\n",
            "Epoch 165/200\n",
            "155/155 [==============================] - 2s 10ms/step - loss: 0.0967 - accuracy: 0.9655 - val_loss: 1.9831 - val_accuracy: 0.6847\n",
            "Epoch 166/200\n",
            "155/155 [==============================] - 2s 10ms/step - loss: 0.0963 - accuracy: 0.9651 - val_loss: 1.9175 - val_accuracy: 0.6856\n",
            "Epoch 167/200\n",
            "155/155 [==============================] - 2s 10ms/step - loss: 0.0927 - accuracy: 0.9672 - val_loss: 1.9091 - val_accuracy: 0.6880\n",
            "Epoch 168/200\n",
            "155/155 [==============================] - 2s 10ms/step - loss: 0.0958 - accuracy: 0.9668 - val_loss: 1.9631 - val_accuracy: 0.6880\n",
            "Epoch 169/200\n",
            "155/155 [==============================] - 2s 10ms/step - loss: 0.0935 - accuracy: 0.9655 - val_loss: 1.9539 - val_accuracy: 0.6886\n",
            "Epoch 170/200\n",
            "155/155 [==============================] - 2s 10ms/step - loss: 0.0982 - accuracy: 0.9631 - val_loss: 1.8542 - val_accuracy: 0.6910\n",
            "Epoch 171/200\n",
            "155/155 [==============================] - 2s 10ms/step - loss: 0.0965 - accuracy: 0.9668 - val_loss: 1.9719 - val_accuracy: 0.6898\n",
            "Epoch 172/200\n",
            "155/155 [==============================] - 2s 10ms/step - loss: 0.0936 - accuracy: 0.9658 - val_loss: 2.0960 - val_accuracy: 0.6878\n",
            "Epoch 173/200\n",
            "155/155 [==============================] - 2s 10ms/step - loss: 0.0942 - accuracy: 0.9653 - val_loss: 1.8264 - val_accuracy: 0.6896\n",
            "Epoch 174/200\n",
            "155/155 [==============================] - 2s 10ms/step - loss: 0.0904 - accuracy: 0.9677 - val_loss: 1.8936 - val_accuracy: 0.6914\n",
            "Epoch 175/200\n",
            "155/155 [==============================] - 2s 10ms/step - loss: 0.0952 - accuracy: 0.9662 - val_loss: 1.9612 - val_accuracy: 0.6892\n",
            "Epoch 176/200\n",
            "155/155 [==============================] - 2s 10ms/step - loss: 0.0950 - accuracy: 0.9660 - val_loss: 2.1462 - val_accuracy: 0.6839\n",
            "Epoch 177/200\n",
            "155/155 [==============================] - 2s 10ms/step - loss: 0.1009 - accuracy: 0.9645 - val_loss: 1.8874 - val_accuracy: 0.6904\n",
            "Epoch 178/200\n",
            "155/155 [==============================] - 2s 10ms/step - loss: 0.0929 - accuracy: 0.9657 - val_loss: 1.9925 - val_accuracy: 0.6827\n",
            "Epoch 179/200\n",
            "155/155 [==============================] - 2s 10ms/step - loss: 0.0933 - accuracy: 0.9662 - val_loss: 1.8224 - val_accuracy: 0.6900\n",
            "Epoch 180/200\n",
            "155/155 [==============================] - 2s 10ms/step - loss: 0.0941 - accuracy: 0.9653 - val_loss: 1.9643 - val_accuracy: 0.6894\n",
            "Epoch 181/200\n",
            "155/155 [==============================] - 2s 10ms/step - loss: 0.0938 - accuracy: 0.9665 - val_loss: 1.8384 - val_accuracy: 0.6920\n",
            "Epoch 182/200\n",
            "155/155 [==============================] - 2s 10ms/step - loss: 0.0956 - accuracy: 0.9645 - val_loss: 1.8626 - val_accuracy: 0.6888\n",
            "Epoch 183/200\n",
            "155/155 [==============================] - 2s 10ms/step - loss: 0.0930 - accuracy: 0.9662 - val_loss: 2.0139 - val_accuracy: 0.6876\n",
            "Epoch 184/200\n",
            "155/155 [==============================] - 2s 10ms/step - loss: 0.0966 - accuracy: 0.9651 - val_loss: 1.8861 - val_accuracy: 0.6841\n",
            "Epoch 185/200\n",
            "155/155 [==============================] - 2s 10ms/step - loss: 0.0925 - accuracy: 0.9660 - val_loss: 1.9458 - val_accuracy: 0.6870\n",
            "Epoch 186/200\n",
            "155/155 [==============================] - 2s 10ms/step - loss: 0.1006 - accuracy: 0.9638 - val_loss: 1.8727 - val_accuracy: 0.6815\n",
            "Epoch 187/200\n",
            "155/155 [==============================] - 2s 10ms/step - loss: 0.0943 - accuracy: 0.9669 - val_loss: 2.0795 - val_accuracy: 0.6827\n",
            "Epoch 188/200\n",
            "155/155 [==============================] - 2s 10ms/step - loss: 0.0924 - accuracy: 0.9668 - val_loss: 1.8371 - val_accuracy: 0.6896\n",
            "Epoch 189/200\n",
            "155/155 [==============================] - 2s 10ms/step - loss: 0.0962 - accuracy: 0.9656 - val_loss: 2.0374 - val_accuracy: 0.6910\n",
            "Epoch 190/200\n",
            "155/155 [==============================] - 2s 10ms/step - loss: 0.0922 - accuracy: 0.9672 - val_loss: 1.8310 - val_accuracy: 0.6922\n",
            "Epoch 191/200\n",
            "155/155 [==============================] - 2s 10ms/step - loss: 0.0924 - accuracy: 0.9657 - val_loss: 1.9535 - val_accuracy: 0.6874\n",
            "Epoch 192/200\n",
            "155/155 [==============================] - 2s 10ms/step - loss: 0.0928 - accuracy: 0.9663 - val_loss: 2.0096 - val_accuracy: 0.6882\n",
            "Epoch 193/200\n",
            "155/155 [==============================] - 2s 10ms/step - loss: 0.0950 - accuracy: 0.9660 - val_loss: 2.0351 - val_accuracy: 0.6801\n",
            "Epoch 194/200\n",
            "155/155 [==============================] - 2s 10ms/step - loss: 0.0973 - accuracy: 0.9635 - val_loss: 1.9623 - val_accuracy: 0.6916\n",
            "Epoch 195/200\n",
            "155/155 [==============================] - 2s 10ms/step - loss: 0.0943 - accuracy: 0.9653 - val_loss: 1.9068 - val_accuracy: 0.6858\n",
            "Epoch 196/200\n",
            "155/155 [==============================] - 2s 10ms/step - loss: 0.0894 - accuracy: 0.9665 - val_loss: 1.9825 - val_accuracy: 0.6876\n",
            "Epoch 197/200\n",
            "155/155 [==============================] - 2s 10ms/step - loss: 0.0895 - accuracy: 0.9684 - val_loss: 2.0805 - val_accuracy: 0.6888\n",
            "Epoch 198/200\n",
            "155/155 [==============================] - 2s 10ms/step - loss: 0.0928 - accuracy: 0.9656 - val_loss: 2.0290 - val_accuracy: 0.6896\n",
            "Epoch 199/200\n",
            "155/155 [==============================] - 2s 10ms/step - loss: 0.0919 - accuracy: 0.9660 - val_loss: 1.9729 - val_accuracy: 0.6866\n",
            "Epoch 200/200\n",
            "155/155 [==============================] - 2s 10ms/step - loss: 0.0946 - accuracy: 0.9652 - val_loss: 1.8876 - val_accuracy: 0.6946\n",
            "CPU times: user 7min 38s, sys: 1min 15s, total: 8min 53s\n",
            "Wall time: 5min 11s\n"
          ]
        }
      ],
      "source": [
        "%%time\n",
        "model_lstm_hist_1_imp = model_lstm_1_imp.fit(X_train_balanced,\n",
        "                         y_train_balanced_ohe, \n",
        "                         batch_size=64,\n",
        "                         epochs=200,\n",
        "                         shuffle=True,\n",
        "                         validation_data=(X_val_balanced, y_val_balanced_ohe))"
      ]
    },
    {
      "cell_type": "code",
      "execution_count": null,
      "metadata": {
        "colab": {
          "base_uri": "https://localhost:8080/",
          "height": 336
        },
        "id": "8rKYXK3vkvr4",
        "outputId": "6119f0d6-bc73-47e2-d242-1f894989fcdf"
      },
      "outputs": [
        {
          "data": {
            "image/png": "[encoded data removed]",
            "text/plain": [
              "<Figure size 576x360 with 1 Axes>"
            ]
          },
          "metadata": {
            "needs_background": "light"
          },
          "output_type": "display_data"
        }
      ],
      "source": [
        "pd.DataFrame(model_lstm_hist_1_imp.history).plot(figsize=(8, 5))\n",
        "plt.grid(True)\n",
        "plt.gca().set_ylim(0, 10)\n",
        "plt.title(\"Learning Curves LSTM Improvement\")\n",
        "plt.show()"
      ]
    },
    {
      "cell_type": "markdown",
      "metadata": {
        "id": "p9XR_AUMLX_K"
      },
      "source": [
        "This is our second research for combination model with Convolutional 1 Dimension, Deep Neural Networks with MaxPooling1D, and Long Short-Term Memory. Produces very good graphics, which in these 200 epochs the loss and validation loss continues to decrease, and the accuracy results are fixed and good."
      ]
    },
    {
      "cell_type": "code",
      "execution_count": null,
      "metadata": {
        "colab": {
          "base_uri": "https://localhost:8080/"
        },
        "id": "-Lawjcj5spce",
        "outputId": "74922e3e-14d3-4d52-a557-13271baf97f0"
      },
      "outputs": [
        {
          "name": "stdout",
          "output_type": "stream",
          "text": [
            "44/44 [==============================] - 0s 5ms/step - loss: 1.5500 - accuracy: 0.7221\n"
          ]
        },
        {
          "data": {
            "text/plain": [
              "[1.5500236749649048, 0.7221226096153259]"
            ]
          },
          "execution_count": 141,
          "metadata": {},
          "output_type": "execute_result"
        }
      ],
      "source": [
        "model_lstm_1_imp.evaluate(X_test, y_test_ohe, batch_size=64)"
      ]
    },
    {
      "cell_type": "code",
      "execution_count": null,
      "metadata": {
        "colab": {
          "base_uri": "https://localhost:8080/"
        },
        "id": "UJbb8U_ktXeV",
        "outputId": "02a74943-3aa1-4216-d70d-12f60b581c56"
      },
      "outputs": [
        {
          "data": {
            "text/plain": [
              "array([[9.4825369e-01, 2.6630941e-03, 4.9083140e-02],\n",
              "       [6.8790774e-04, 1.2324503e-01, 8.7606710e-01],\n",
              "       [1.6203783e-05, 1.7925038e-04, 9.9980456e-01],\n",
              "       [9.9988282e-01, 7.8730802e-05, 3.8375048e-05],\n",
              "       [9.1520633e-05, 2.5138803e-04, 9.9965703e-01],\n",
              "       [1.0717102e-02, 8.1901205e-01, 1.7027090e-01],\n",
              "       [4.6726855e-05, 9.9981862e-01, 1.3473841e-04],\n",
              "       [5.4025797e-05, 9.9975294e-01, 1.9306316e-04],\n",
              "       [1.0717102e-02, 8.1901205e-01, 1.7027090e-01],\n",
              "       [3.4284050e-04, 7.1227713e-04, 9.9894494e-01],\n",
              "       [1.8054356e-03, 1.1159250e-03, 9.9707866e-01],\n",
              "       [1.6927336e-03, 1.0690909e-03, 9.9723816e-01],\n",
              "       [2.4893618e-04, 9.9607581e-01, 3.6752317e-03],\n",
              "       [9.4685942e-01, 9.8265307e-03, 4.3314058e-02],\n",
              "       [9.9998820e-01, 6.0201210e-06, 5.6961489e-06],\n",
              "       [1.7395183e-04, 5.2316580e-03, 9.9459440e-01],\n",
              "       [1.0760567e-04, 9.9903452e-01, 8.5784472e-04],\n",
              "       [1.8962188e-05, 1.8191717e-04, 9.9979919e-01],\n",
              "       [1.3428596e-05, 1.1034969e-04, 9.9987626e-01],\n",
              "       [2.3802435e-04, 9.9602556e-01, 3.7363963e-03]], dtype=float32)"
            ]
          },
          "execution_count": 142,
          "metadata": {},
          "output_type": "execute_result"
        }
      ],
      "source": [
        "yp_seq_lstm_imp = model_lstm_1_imp.predict(X_test)\n",
        "yp_seq_lstm_imp[:20]"
      ]
    },
    {
      "cell_type": "code",
      "execution_count": null,
      "metadata": {
        "colab": {
          "base_uri": "https://localhost:8080/"
        },
        "id": "IlE002NjtZqq",
        "outputId": "2737f8d7-1eb8-4e26-da41-cf3f6df98ff9"
      },
      "outputs": [
        {
          "name": "stdout",
          "output_type": "stream",
          "text": [
            "Classification Report (Model Sequential Improvement LSTM)\n",
            "              precision    recall  f1-score   support\n",
            "\n",
            "     Neutral       0.61      0.59      0.60       400\n",
            "    Negative       0.72      0.76      0.74      1130\n",
            "    Positive       0.75      0.73      0.74      1259\n",
            "\n",
            "    accuracy                           0.72      2789\n",
            "   macro avg       0.70      0.69      0.69      2789\n",
            "weighted avg       0.72      0.72      0.72      2789\n",
            "\n"
          ]
        }
      ],
      "source": [
        "# Test is the data right after splitting into train, test and val (shuffle was false in dataset so the order will match)\n",
        "# Classification report\n",
        "res_argmax_lstm_imp = yp_seq_lstm_imp.argmax(axis=1)\n",
        "print('Classification Report (Model Sequential Improvement LSTM)')\n",
        "print(classification_report(y_test, res_argmax_lstm_imp, target_names=[\"Neutral\", \"Negative\", \"Positive\"]))"
      ]
    },
    {
      "cell_type": "markdown",
      "metadata": {
        "id": "lQpWTQVHMzfv"
      },
      "source": [
        "Yess, model have good result base on classification report, after we do improvement with combination model and we did oversampling, have goodfit result, although the distribution of neutral labels is a little bit but the model learns it well. "
      ]
    },
    {
      "cell_type": "code",
      "execution_count": null,
      "metadata": {
        "colab": {
          "base_uri": "https://localhost:8080/",
          "height": 295
        },
        "id": "fv5ZIM9ptaZC",
        "outputId": "a276ec6d-2f37-4677-f2aa-2984a27d5c20"
      },
      "outputs": [
        {
          "data": {
            "image/png": "[encoded data removed]",
            "text/plain": [
              "<Figure size 432x288 with 2 Axes>"
            ]
          },
          "metadata": {
            "needs_background": "light"
          },
          "output_type": "display_data"
        }
      ],
      "source": [
        "cm = confusion_matrix(y_test, res_argmax_lstm_imp)\n",
        "disp = ConfusionMatrixDisplay(confusion_matrix=cm)\n",
        "\n",
        "disp.plot()\n",
        "plt.title(\"LSTM with Improvement\")\n",
        "plt.show()"
      ]
    },
    {
      "cell_type": "markdown",
      "metadata": {
        "id": "TRW6cc6hMFuB"
      },
      "source": [
        "The model still bias base on accuracy just 72% "
      ]
    },
    {
      "cell_type": "markdown",
      "metadata": {
        "id": "p-1T7K573o2w"
      },
      "source": [
        "# 7 - Saving Model\n",
        "\n",
        "Base on result we use model combination for data inference."
      ]
    },
    {
      "cell_type": "code",
      "execution_count": null,
      "metadata": {
        "id": "le2dlpjD3rPF"
      },
      "outputs": [],
      "source": [
        "# freeze model\n",
        "for layer in model_lstm_1_imp.layers:\n",
        "  layer.trainable = False\n"
      ]
    },
    {
      "cell_type": "code",
      "execution_count": null,
      "metadata": {
        "colab": {
          "base_uri": "https://localhost:8080/"
        },
        "id": "7gOgrEWA3y1O",
        "outputId": "f6260a93-bfe4-446d-9745-a3c0399dcc66"
      },
      "outputs": [
        {
          "name": "stderr",
          "output_type": "stream",
          "text": [
            "WARNING:absl:Found untraced functions such as lstm_cell_3_layer_call_fn, lstm_cell_3_layer_call_and_return_conditional_losses while saving (showing 2 of 2). These functions will not be directly callable after loading.\n"
          ]
        },
        {
          "name": "stdout",
          "output_type": "stream",
          "text": [
            "INFO:tensorflow:Assets written to: model_auto_reply_tf/assets\n"
          ]
        },
        {
          "name": "stderr",
          "output_type": "stream",
          "text": [
            "INFO:tensorflow:Assets written to: model_auto_reply_tf/assets\n",
            "WARNING:absl:<keras.layers.recurrent.LSTMCell object at 0x7f7f801a7a90> has the same name 'LSTMCell' as a built-in Keras object. Consider renaming <class 'keras.layers.recurrent.LSTMCell'> to avoid naming conflicts when loading with `tf.keras.models.load_model`. If renaming is not possible, pass the object in the `custom_objects` parameter of the load function.\n"
          ]
        }
      ],
      "source": [
        "# prepare directory for saving model\n",
        "model_lstm_1_imp.save('model_auto_reply_tf')\n"
      ]
    },
    {
      "cell_type": "markdown",
      "metadata": {
        "id": "CVS78qx_5kfw"
      },
      "source": [
        "# 8 - Model Inference\n",
        "\n",
        "Based on the classification report, the model that gets the best accuracy is the Model LSTM x Conv1D x DNN after improvement. So I will decide to use the Model LSTM x Conv1D x DNN for data inference later so that the model can predict sentiment correctly and better, but it is not perfect."
      ]
    },
    {
      "cell_type": "code",
      "execution_count": null,
      "metadata": {
        "id": "bBU-GlUn9nvN"
      },
      "outputs": [],
      "source": [
        "model_auto_reply_tf = tf.keras.models.load_model('model_auto_reply_tf')"
      ]
    },
    {
      "cell_type": "code",
      "execution_count": null,
      "metadata": {
        "colab": {
          "base_uri": "https://localhost:8080/"
        },
        "id": "-6dZJMsF37VU",
        "outputId": "bafa281d-1ec3-4ea5-9c05-d26dc4f1c9c9"
      },
      "outputs": [
        {
          "name": "stdout",
          "output_type": "stream",
          "text": [
            "Negative\n"
          ]
        }
      ],
      "source": [
        "twt = [\"banknya jelek banget sih\"]\n",
        "\n",
        "sentiment = model_auto_reply_tf.predict(twt)\n",
        "if(np.argmax(sentiment) == 0):\n",
        "    print(\"Neutral\")\n",
        "elif(np.argmax(sentiment) == 1):\n",
        "    print(\"Negative\")\n",
        "elif(np.argmax(sentiment) == 2):\n",
        "    print(\"Positive\")"
      ]
    },
    {
      "cell_type": "markdown",
      "metadata": {
        "id": "iW8OR3xQPtOV"
      },
      "source": [
        "Models work fine!"
      ]
    }
  ],
  "metadata": {
    "accelerator": "GPU",
    "colab": {
      "collapsed_sections": [],
      "machine_shape": "hm",
      "name": "auto_reply_sentiment_analysis.ipynb",
      "provenance": []
    },
    "gpuClass": "standard",
    "kernelspec": {
      "display_name": "Python 3.8.5 ('base')",
      "language": "python",
      "name": "python3"
    },
    "language_info": {
      "name": "python",
      "version": "3.8.5"
    },
    "vscode": {
      "interpreter": {
        "hash": "3313081f939a1cd2fc9e524e93ad175a39774b1d821a5d0f007e3e4c61533bad"
      }
    }
  },
  "nbformat": 4,
  "nbformat_minor": 0
}
