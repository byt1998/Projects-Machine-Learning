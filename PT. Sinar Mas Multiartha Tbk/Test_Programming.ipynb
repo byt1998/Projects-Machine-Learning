{
  "cells": [
    {
      "cell_type": "markdown",
      "metadata": {
        "id": "0J5pJLYCaZhp"
      },
      "source": [
        "# Introduction\n",
        "\n",
        "- Name : **Enggar Kristian**\n",
        "- Recruitment Process : assignments that we've provide in link https://drive.google.com/drive/folders/1x5LvX3BAthgT2K8zpRq1faZTY84Fu9bC?usp=sharing.\n",
        "- Company : PT. Sinar Mas Multiartha Tbk\n",
        "- Role : Data Scientist/Data Engineer\n",
        "\n",
        "## Objective : SOAL TEST PROGRAMMING\n",
        "\n",
        "Using data above, use any programming language to clean the messy data with rules below:\n",
        "\n",
        "- fullname can’t have symbol character except dot(.), But the dot(.) can’t be in the end of the sentence.\n",
        "- DOB (Date of birth) must have format dd-mm-yyyy (day-month-year)\n",
        "phone only consist of number and the beginning of the phone must be 0 (Format 62/+62 changed to 0).\n",
        "- KTP only consist number.\n",
        "- All of the data can’t have leading whitespace, trailing whitespace, tab (\\t) and newline (\\n)\n",
        "\n",
        "\n"
      ]
    },
    {
      "cell_type": "markdown",
      "metadata": {
        "id": "CJEmbUoob-LN"
      },
      "source": [
        "# Import Libraries"
      ]
    },
    {
      "cell_type": "markdown",
      "metadata": {
        "id": "pnR8FzlvcxrG"
      },
      "source": [
        "**Note: for programming language python I used in Google Colab, so the data connect to my personal gdrive.**"
      ]
    },
    {
      "cell_type": "code",
      "execution_count": 1,
      "metadata": {
        "colab": {
          "base_uri": "https://localhost:8080/"
        },
        "id": "ChCqtBMOKirl",
        "outputId": "cf6fbeef-5c24-4a32-f5b1-ed90eaf613c1"
      },
      "outputs": [
        {
          "name": "stdout",
          "output_type": "stream",
          "text": [
            "Mounted at /content/gdrive\n"
          ]
        }
      ],
      "source": [
        "# Come into my google colab\n",
        "from google.colab import drive\n",
        "\n",
        "drive.mount('/content/gdrive')"
      ]
    },
    {
      "cell_type": "code",
      "execution_count": 2,
      "metadata": {
        "colab": {
          "base_uri": "https://localhost:8080/"
        },
        "id": "SOEdHoc8OiO8",
        "outputId": "85f32840-d71e-4a4c-95ae-1ed0f1a705ca"
      },
      "outputs": [
        {
          "name": "stdout",
          "output_type": "stream",
          "text": [
            "gdrive\tsample_data\n"
          ]
        }
      ],
      "source": [
        "!ls"
      ]
    },
    {
      "cell_type": "code",
      "execution_count": 3,
      "metadata": {
        "colab": {
          "base_uri": "https://localhost:8080/"
        },
        "id": "78JgTYJwKxgd",
        "outputId": "f3396337-d779-44aa-b6f5-1b263151d51b"
      },
      "outputs": [
        {
          "name": "stdout",
          "output_type": "stream",
          "text": [
            "/content/gdrive/MyDrive/data_science_test/PT. Sinar Mas Multiartha Tbk/Task\n"
          ]
        }
      ],
      "source": [
        "# masuk folder \"model_ml_dl\"\n",
        "%cd /content/gdrive/MyDrive/data_science_test/PT. Sinar Mas Multiartha Tbk/Task"
      ]
    },
    {
      "cell_type": "code",
      "execution_count": 4,
      "metadata": {
        "colab": {
          "base_uri": "https://localhost:8080/"
        },
        "id": "ZWP14j5SLLME",
        "outputId": "c1c2c337-bfb6-4d0f-d94c-9f09538f9d1d"
      },
      "outputs": [
        {
          "name": "stdout",
          "output_type": "stream",
          "text": [
            "data_cif_bad.csv\n",
            "disaster_response_messages_test.csv\n",
            "disaster_response_messages_training.csv\n",
            "disaster_response_messages_validation.csv\n",
            "suicide.csv\n"
          ]
        }
      ],
      "source": [
        "# Check folder \n",
        "!ls"
      ]
    },
    {
      "cell_type": "code",
      "execution_count": 5,
      "metadata": {
        "colab": {
          "base_uri": "https://localhost:8080/"
        },
        "id": "OxUjrXGIaWm0",
        "outputId": "91378f8c-4a19-40c2-f149-e0357ded932a"
      },
      "outputs": [
        {
          "name": "stdout",
          "output_type": "stream",
          "text": [
            "Looking in indexes: https://pypi.org/simple, https://us-python.pkg.dev/colab-wheels/public/simple/\n",
            "Collecting phonenumbers\n",
            "  Downloading phonenumbers-8.12.53-py2.py3-none-any.whl (2.6 MB)\n",
            "\u001b[K     |████████████████████████████████| 2.6 MB 7.2 MB/s \n",
            "\u001b[?25hInstalling collected packages: phonenumbers\n",
            "Successfully installed phonenumbers-8.12.53\n"
          ]
        }
      ],
      "source": [
        "# Pandas libraries for dataframe\n",
        "import pandas as pd\n",
        "\n",
        "# Numpy for numeric\n",
        "import numpy as np\n",
        "pd.set_option (\"display.max_columns\", 10) \n",
        "\n",
        "# for preprocessing text\n",
        "import re\n",
        "import string\n",
        "\n",
        "# format datetime\n",
        "import datetime as dt\n",
        "\n",
        "# Cleaning for phone number\n",
        "!pip install phonenumbers\n",
        "import phonenumbers\n",
        "from phonenumbers import carrier, geocoder,timezone\n"
      ]
    },
    {
      "cell_type": "markdown",
      "metadata": {
        "id": "CKCZSS5zdrHu"
      },
      "source": [
        "# Data Loading"
      ]
    },
    {
      "cell_type": "code",
      "execution_count": 97,
      "metadata": {
        "colab": {
          "base_uri": "https://localhost:8080/",
          "height": 144
        },
        "id": "6thCbz3XcJTh",
        "outputId": "8268b340-c73d-4500-f5fe-2b1106bc7899"
      },
      "outputs": [
        {
          "data": {
            "text/html": [
              "\n",
              "  <div id=\"df-3471de02-459b-42d2-90c8-6ed6a63a251b\">\n",
              "    <div class=\"colab-df-container\">\n",
              "      <div>\n",
              "<style scoped>\n",
              "    .dataframe tbody tr th:only-of-type {\n",
              "        vertical-align: middle;\n",
              "    }\n",
              "\n",
              "    .dataframe tbody tr th {\n",
              "        vertical-align: top;\n",
              "    }\n",
              "\n",
              "    .dataframe thead th {\n",
              "        text-align: right;\n",
              "    }\n",
              "</style>\n",
              "<table border=\"1\" class=\"dataframe\">\n",
              "  <thead>\n",
              "    <tr style=\"text-align: right;\">\n",
              "      <th></th>\n",
              "      <th>cif_id</th>\n",
              "      <th>fullname</th>\n",
              "      <th>dob</th>\n",
              "      <th>phone</th>\n",
              "      <th>ktp</th>\n",
              "      <th>email</th>\n",
              "      <th>address</th>\n",
              "    </tr>\n",
              "  </thead>\n",
              "  <tbody>\n",
              "    <tr>\n",
              "      <th>0</th>\n",
              "      <td>11111</td>\n",
              "      <td>Susi Susanti.</td>\n",
              "      <td>07-15-1993</td>\n",
              "      <td>+628782666330</td>\n",
              "      <td>3766.9987683.30004</td>\n",
              "      <td>susi_susanti@gmail.com</td>\n",
              "      <td>Jl. Bulutangkis No.7  RT. 003 RW. 006 Kel. Jom...</td>\n",
              "    </tr>\n",
              "    <tr>\n",
              "      <th>1</th>\n",
              "      <td>11112</td>\n",
              "      <td>Dr. Rudi Hartono.</td>\n",
              "      <td>10-22-1990</td>\n",
              "      <td>62876-5099-8431</td>\n",
              "      <td>32324-2311111-2463</td>\n",
              "      <td>hartono.rudi@yahoo.co.id</td>\n",
              "      <td>Jl. Harimau No.9 RT. 001 RW 002\\t Kel. Sukamaj...</td>\n",
              "    </tr>\n",
              "    <tr>\n",
              "      <th>2</th>\n",
              "      <td>11113</td>\n",
              "      <td>Rani_Natalia-</td>\n",
              "      <td>08-17-1985</td>\n",
              "      <td>851993455690</td>\n",
              "      <td>36557498729O00002</td>\n",
              "      <td>rani.natalia@gmail.com</td>\n",
              "      <td>Jl. Mawar No.2 RT. 017 RW 005 \\r\\nKel. Cinere ...</td>\n",
              "    </tr>\n",
              "  </tbody>\n",
              "</table>\n",
              "</div>\n",
              "      <button class=\"colab-df-convert\" onclick=\"convertToInteractive('df-3471de02-459b-42d2-90c8-6ed6a63a251b')\"\n",
              "              title=\"Convert this dataframe to an interactive table.\"\n",
              "              style=\"display:none;\">\n",
              "        \n",
              "  <svg xmlns=\"http://www.w3.org/2000/svg\" height=\"24px\"viewBox=\"0 0 24 24\"\n",
              "       width=\"24px\">\n",
              "    <path d=\"M0 0h24v24H0V0z\" fill=\"none\"/>\n",
              "    <path d=\"M18.56 5.44l.94 2.06.94-2.06 2.06-.94-2.06-.94-.94-2.06-.94 2.06-2.06.94zm-11 1L8.5 8.5l.94-2.06 2.06-.94-2.06-.94L8.5 2.5l-.94 2.06-2.06.94zm10 10l.94 2.06.94-2.06 2.06-.94-2.06-.94-.94-2.06-.94 2.06-2.06.94z\"/><path d=\"M17.41 7.96l-1.37-1.37c-.4-.4-.92-.59-1.43-.59-.52 0-1.04.2-1.43.59L10.3 9.45l-7.72 7.72c-.78.78-.78 2.05 0 2.83L4 21.41c.39.39.9.59 1.41.59.51 0 1.02-.2 1.41-.59l7.78-7.78 2.81-2.81c.8-.78.8-2.07 0-2.86zM5.41 20L4 18.59l7.72-7.72 1.47 1.35L5.41 20z\"/>\n",
              "  </svg>\n",
              "      </button>\n",
              "      \n",
              "  <style>\n",
              "    .colab-df-container {\n",
              "      display:flex;\n",
              "      flex-wrap:wrap;\n",
              "      gap: 12px;\n",
              "    }\n",
              "\n",
              "    .colab-df-convert {\n",
              "      background-color: #E8F0FE;\n",
              "      border: none;\n",
              "      border-radius: 50%;\n",
              "      cursor: pointer;\n",
              "      display: none;\n",
              "      fill: #1967D2;\n",
              "      height: 32px;\n",
              "      padding: 0 0 0 0;\n",
              "      width: 32px;\n",
              "    }\n",
              "\n",
              "    .colab-df-convert:hover {\n",
              "      background-color: #E2EBFA;\n",
              "      box-shadow: 0px 1px 2px rgba(60, 64, 67, 0.3), 0px 1px 3px 1px rgba(60, 64, 67, 0.15);\n",
              "      fill: #174EA6;\n",
              "    }\n",
              "\n",
              "    [theme=dark] .colab-df-convert {\n",
              "      background-color: #3B4455;\n",
              "      fill: #D2E3FC;\n",
              "    }\n",
              "\n",
              "    [theme=dark] .colab-df-convert:hover {\n",
              "      background-color: #434B5C;\n",
              "      box-shadow: 0px 1px 3px 1px rgba(0, 0, 0, 0.15);\n",
              "      filter: drop-shadow(0px 1px 2px rgba(0, 0, 0, 0.3));\n",
              "      fill: #FFFFFF;\n",
              "    }\n",
              "  </style>\n",
              "\n",
              "      <script>\n",
              "        const buttonEl =\n",
              "          document.querySelector('#df-3471de02-459b-42d2-90c8-6ed6a63a251b button.colab-df-convert');\n",
              "        buttonEl.style.display =\n",
              "          google.colab.kernel.accessAllowed ? 'block' : 'none';\n",
              "\n",
              "        async function convertToInteractive(key) {\n",
              "          const element = document.querySelector('#df-3471de02-459b-42d2-90c8-6ed6a63a251b');\n",
              "          const dataTable =\n",
              "            await google.colab.kernel.invokeFunction('convertToInteractive',\n",
              "                                                     [key], {});\n",
              "          if (!dataTable) return;\n",
              "\n",
              "          const docLinkHtml = 'Like what you see? Visit the ' +\n",
              "            '<a target=\"_blank\" href=https://colab.research.google.com/notebooks/data_table.ipynb>data table notebook</a>'\n",
              "            + ' to learn more about interactive tables.';\n",
              "          element.innerHTML = '';\n",
              "          dataTable['output_type'] = 'display_data';\n",
              "          await google.colab.output.renderOutput(dataTable, element);\n",
              "          const docLink = document.createElement('div');\n",
              "          docLink.innerHTML = docLinkHtml;\n",
              "          element.appendChild(docLink);\n",
              "        }\n",
              "      </script>\n",
              "    </div>\n",
              "  </div>\n",
              "  "
            ],
            "text/plain": [
              "   cif_id           fullname         dob            phone                 ktp  \\\n",
              "0   11111      Susi Susanti.  07-15-1993    +628782666330  3766.9987683.30004   \n",
              "1   11112  Dr. Rudi Hartono.  10-22-1990  62876-5099-8431  32324-2311111-2463   \n",
              "2   11113      Rani_Natalia-  08-17-1985     851993455690   36557498729O00002   \n",
              "\n",
              "                        email  \\\n",
              "0      susi_susanti@gmail.com   \n",
              "1  hartono.rudi@yahoo.co.id     \n",
              "2    rani.natalia@gmail.com     \n",
              "\n",
              "                                             address  \n",
              "0  Jl. Bulutangkis No.7  RT. 003 RW. 006 Kel. Jom...  \n",
              "1  Jl. Harimau No.9 RT. 001 RW 002\\t Kel. Sukamaj...  \n",
              "2  Jl. Mawar No.2 RT. 017 RW 005 \\r\\nKel. Cinere ...  "
            ]
          },
          "execution_count": 97,
          "metadata": {},
          "output_type": "execute_result"
        }
      ],
      "source": [
        "df = pd.read_csv('data_cif_bad.csv',\n",
        "                   sep = '|',\n",
        "                   engine = 'python')\n",
        "df"
      ]
    },
    {
      "cell_type": "code",
      "execution_count": 98,
      "metadata": {
        "id": "OIRKoVDf8C15"
      },
      "outputs": [],
      "source": [
        "# copy data\n",
        "data_copy = df.copy()"
      ]
    },
    {
      "cell_type": "code",
      "execution_count": 99,
      "metadata": {
        "colab": {
          "base_uri": "https://localhost:8080/"
        },
        "id": "B40_Ot7SiTWt",
        "outputId": "d666d187-32af-4ac2-ea5b-317cbe28d0d7"
      },
      "outputs": [
        {
          "name": "stdout",
          "output_type": "stream",
          "text": [
            "<class 'pandas.core.frame.DataFrame'>\n",
            "RangeIndex: 3 entries, 0 to 2\n",
            "Data columns (total 7 columns):\n",
            " #   Column    Non-Null Count  Dtype \n",
            "---  ------    --------------  ----- \n",
            " 0   cif_id    3 non-null      int64 \n",
            " 1   fullname  3 non-null      object\n",
            " 2   dob       3 non-null      object\n",
            " 3   phone     3 non-null      object\n",
            " 4   ktp       3 non-null      object\n",
            " 5   email     3 non-null      object\n",
            " 6   address   3 non-null      object\n",
            "dtypes: int64(1), object(6)\n",
            "memory usage: 296.0+ bytes\n"
          ]
        }
      ],
      "source": [
        "# Want to know type each columns\n",
        "df.info()"
      ]
    },
    {
      "cell_type": "markdown",
      "metadata": {
        "id": "FDK9_pakVwkM"
      },
      "source": [
        "# Preprocessing"
      ]
    },
    {
      "cell_type": "code",
      "execution_count": 100,
      "metadata": {
        "id": "YToJVwzK3yVw"
      },
      "outputs": [],
      "source": [
        "# change column dob from object to date and will be format dd-mm-yyyy\n",
        "data_copy['dob'] = pd.to_datetime(data_copy['dob']).dt.strftime('%d-%m-%Y')"
      ]
    },
    {
      "cell_type": "code",
      "execution_count": 101,
      "metadata": {
        "colab": {
          "base_uri": "https://localhost:8080/"
        },
        "id": "1z-gBFba4jRb",
        "outputId": "4d0af3c1-d2d6-4deb-ebbf-344d731cf7a2"
      },
      "outputs": [
        {
          "name": "stdout",
          "output_type": "stream",
          "text": [
            "<class 'pandas.core.frame.DataFrame'>\n",
            "RangeIndex: 3 entries, 0 to 2\n",
            "Data columns (total 7 columns):\n",
            " #   Column    Non-Null Count  Dtype \n",
            "---  ------    --------------  ----- \n",
            " 0   cif_id    3 non-null      int64 \n",
            " 1   fullname  3 non-null      object\n",
            " 2   dob       3 non-null      object\n",
            " 3   phone     3 non-null      object\n",
            " 4   ktp       3 non-null      object\n",
            " 5   email     3 non-null      object\n",
            " 6   address   3 non-null      object\n",
            "dtypes: int64(1), object(6)\n",
            "memory usage: 296.0+ bytes\n"
          ]
        }
      ],
      "source": [
        "data_copy.info()"
      ]
    },
    {
      "cell_type": "markdown",
      "metadata": {
        "id": "OEv_ttxO4zew"
      },
      "source": [
        "Dtype of column dob has change to datetime"
      ]
    },
    {
      "cell_type": "code",
      "execution_count": 102,
      "metadata": {
        "id": "VARaJqia4pzd"
      },
      "outputs": [],
      "source": [
        "# Cleaning the name\n",
        "def clean_name(text):\n",
        "  text = re.sub(r'[^\\w]', ' ',text) # remove all symbols\n",
        "  text = re.sub(\"[^a-zA-Z]\", \" \", text) # remove non-letters\n",
        "  text = text.strip() # remove white space\n",
        "  # adding dot in abbreviation text\n",
        "  text = re.sub(r'(Dr)', r'\\1.', text)\n",
        "  text = re.sub(r'(Prof)', r'\\1.', text)\n",
        "  text = re.sub(r'(Mr)', r'\\1.', text)\n",
        "  text = re.sub(r'(Mrs)', r'\\1.', text)\n",
        "  text = re.sub(r'(Ms)', r'\\1.', text)\n",
        "  text = re.sub(r'(Jl)', r'\\1.', text)\n",
        "  text = re.sub(r'(No)', r'\\1.', text)\n",
        "  text = re.sub(r'(Kel)', r'\\1.', text)\n",
        "  text = re.sub(r'(Kec)', r'\\1.', text)\n",
        "  text = re.sub(\" +\" , \" \", text)# remove double space into single space\n",
        "  return text\n",
        "\n",
        "# Cleaning the address\n",
        "def clean_address(text):\n",
        "  # text = re.sub(r'[^\\w]', ' ',text) # remove all symbols\n",
        "  text = re.sub(r\"\\n\",\" \",text) # remove \\n\n",
        "  text = re.sub(r\"\\t\",\" \",text) # remove \\t\n",
        "  text = re.sub(r\"\\r\",\" \",text) # remove \\r\n",
        "  # adding dot in abbreviation text\n",
        "  # text = re.sub(r'(Jl)', r'\\1.', text)\n",
        "  # text = re.sub(r'(No)', r'\\1.', text)\n",
        "  # text = re.sub(r'(Kel)', r'\\1.', text)\n",
        "  # text = re.sub(r'(Kec)', r'\\1.', text)\n",
        "  # text = re.sub(\"No. \", \"No.\", text)# remove space after No.\n",
        "  text = re.sub(\" +\" , \" \", text)# remove double space into single space        \n",
        "  return text\n",
        "\n",
        "# Cleaning the phone numbers\n",
        "def clean_phone(text):\n",
        "  N = 1\n",
        "  text = text.replace(\"-\",\"\")\n",
        "  if text.startswith(\"62\")==True:\n",
        "    text = text.rjust(N + len(text), '+')\n",
        "    print(str(text))\n",
        "  elif text.startswith(\"8\")==True:\n",
        "    text = text.rjust(N + len(text), '2')\n",
        "    text = text.rjust(N + len(text), '6')\n",
        "    text = text.rjust(N + len(text), '+')\n",
        "    print(str(text))\n",
        "  else:\n",
        "    print(text)\n",
        "  text = phonenumbers.parse(text)\n",
        "  text = phonenumbers.format_number(text, phonenumbers.PhoneNumberFormat.NATIONAL)\n",
        "  text = text.replace(\"-\", \"\")\n",
        "  return text\n",
        "\n",
        "# Cleaning text ktp\n",
        "def clean_ktp(text):\n",
        "  text = re.sub(r'[^\\w]', ' ',text) # remove all symbols  text = text.replace\n",
        "  text = text.replace(\" \", \"\") # remove white space\n",
        "  text = text.replace(\"O\", \"\") # remove white space\n",
        "  return text"
      ]
    },
    {
      "cell_type": "code",
      "execution_count": 103,
      "metadata": {
        "colab": {
          "base_uri": "https://localhost:8080/"
        },
        "id": "4OOVyMN-YLIr",
        "outputId": "f6bbd701-147f-4ca7-d5d0-4863a4d3520f"
      },
      "outputs": [
        {
          "name": "stdout",
          "output_type": "stream",
          "text": [
            "Country of origin\t:  Indonesia\n",
            "Provider in country\t:  XL\n",
            "Timezone\t\t:  ('Asia/Jakarta',)\n"
          ]
        }
      ],
      "source": [
        "# want to know origin of phone numbers\n",
        "my_number = phonenumbers.parse(\"+6287786112081\")\n",
        "print(\"Country of origin\\t: \", geocoder.description_for_number(my_number, \"id\"))\n",
        "print(\"Provider in country\\t: \",carrier.name_for_number(my_number, \"id\"))\n",
        "print(\"Timezone\\t\\t: \", timezone.time_zones_for_number(my_number))"
      ]
    },
    {
      "cell_type": "code",
      "execution_count": 104,
      "metadata": {
        "colab": {
          "base_uri": "https://localhost:8080/"
        },
        "id": "Zx5UjGeL73By",
        "outputId": "1773918c-43c4-4959-9a48-82a04d1aa25a"
      },
      "outputs": [
        {
          "name": "stdout",
          "output_type": "stream",
          "text": [
            "+628782666330\n",
            "+6287650998431\n",
            "+62851993455690\n",
            "CPU times: user 8 ms, sys: 0 ns, total: 8 ms\n",
            "Wall time: 9.59 ms\n"
          ]
        }
      ],
      "source": [
        "%%time\n",
        "# The cleaning function applied in all reviews\n",
        "data_copy['fullname'] = data_copy['fullname'].apply(lambda x: clean_name(x))\n",
        "data_copy['phone'] = data_copy['phone'].apply(lambda x: clean_phone(x))\n",
        "data_copy['ktp'] = data_copy['ktp'].apply(lambda x: clean_ktp(x))\n",
        "data_copy['address'] = data_copy['address'].apply(lambda x: clean_address(x))\n"
      ]
    },
    {
      "cell_type": "code",
      "execution_count": 106,
      "metadata": {
        "colab": {
          "base_uri": "https://localhost:8080/",
          "height": 144
        },
        "id": "rAXl__7S8OI3",
        "outputId": "c22e4f5b-6c12-4a55-895c-75ebe537e5f6"
      },
      "outputs": [
        {
          "data": {
            "text/html": [
              "\n",
              "  <div id=\"df-88fe1751-1136-413d-ae6c-9b512dd4a452\">\n",
              "    <div class=\"colab-df-container\">\n",
              "      <div>\n",
              "<style scoped>\n",
              "    .dataframe tbody tr th:only-of-type {\n",
              "        vertical-align: middle;\n",
              "    }\n",
              "\n",
              "    .dataframe tbody tr th {\n",
              "        vertical-align: top;\n",
              "    }\n",
              "\n",
              "    .dataframe thead th {\n",
              "        text-align: right;\n",
              "    }\n",
              "</style>\n",
              "<table border=\"1\" class=\"dataframe\">\n",
              "  <thead>\n",
              "    <tr style=\"text-align: right;\">\n",
              "      <th></th>\n",
              "      <th>cif_id</th>\n",
              "      <th>fullname</th>\n",
              "      <th>dob</th>\n",
              "      <th>phone</th>\n",
              "      <th>ktp</th>\n",
              "      <th>email</th>\n",
              "      <th>address</th>\n",
              "    </tr>\n",
              "  </thead>\n",
              "  <tbody>\n",
              "    <tr>\n",
              "      <th>0</th>\n",
              "      <td>11111</td>\n",
              "      <td>Susi Susanti</td>\n",
              "      <td>15-07-1993</td>\n",
              "      <td>08782666330</td>\n",
              "      <td>3766998768330004</td>\n",
              "      <td>susi_susanti@gmail.com</td>\n",
              "      <td>Jl. Bulutangkis No.7 RT. 003 RW. 006 Kel. Jomb...</td>\n",
              "    </tr>\n",
              "    <tr>\n",
              "      <th>1</th>\n",
              "      <td>11112</td>\n",
              "      <td>Dr. Rudi Hartono</td>\n",
              "      <td>22-10-1990</td>\n",
              "      <td>087650998431</td>\n",
              "      <td>3232423111112463</td>\n",
              "      <td>hartono.rudi@yahoo.co.id</td>\n",
              "      <td>Jl. Harimau No.9 RT. 001 RW 002 Kel. Sukamaju ...</td>\n",
              "    </tr>\n",
              "    <tr>\n",
              "      <th>2</th>\n",
              "      <td>11113</td>\n",
              "      <td>Rani Natalia</td>\n",
              "      <td>17-08-1985</td>\n",
              "      <td>0851993455690</td>\n",
              "      <td>3655749872900002</td>\n",
              "      <td>rani.natalia@gmail.com</td>\n",
              "      <td>Jl. Mawar No.2 RT. 017 RW 005 Kel. Cinere Kec....</td>\n",
              "    </tr>\n",
              "  </tbody>\n",
              "</table>\n",
              "</div>\n",
              "      <button class=\"colab-df-convert\" onclick=\"convertToInteractive('df-88fe1751-1136-413d-ae6c-9b512dd4a452')\"\n",
              "              title=\"Convert this dataframe to an interactive table.\"\n",
              "              style=\"display:none;\">\n",
              "        \n",
              "  <svg xmlns=\"http://www.w3.org/2000/svg\" height=\"24px\"viewBox=\"0 0 24 24\"\n",
              "       width=\"24px\">\n",
              "    <path d=\"M0 0h24v24H0V0z\" fill=\"none\"/>\n",
              "    <path d=\"M18.56 5.44l.94 2.06.94-2.06 2.06-.94-2.06-.94-.94-2.06-.94 2.06-2.06.94zm-11 1L8.5 8.5l.94-2.06 2.06-.94-2.06-.94L8.5 2.5l-.94 2.06-2.06.94zm10 10l.94 2.06.94-2.06 2.06-.94-2.06-.94-.94-2.06-.94 2.06-2.06.94z\"/><path d=\"M17.41 7.96l-1.37-1.37c-.4-.4-.92-.59-1.43-.59-.52 0-1.04.2-1.43.59L10.3 9.45l-7.72 7.72c-.78.78-.78 2.05 0 2.83L4 21.41c.39.39.9.59 1.41.59.51 0 1.02-.2 1.41-.59l7.78-7.78 2.81-2.81c.8-.78.8-2.07 0-2.86zM5.41 20L4 18.59l7.72-7.72 1.47 1.35L5.41 20z\"/>\n",
              "  </svg>\n",
              "      </button>\n",
              "      \n",
              "  <style>\n",
              "    .colab-df-container {\n",
              "      display:flex;\n",
              "      flex-wrap:wrap;\n",
              "      gap: 12px;\n",
              "    }\n",
              "\n",
              "    .colab-df-convert {\n",
              "      background-color: #E8F0FE;\n",
              "      border: none;\n",
              "      border-radius: 50%;\n",
              "      cursor: pointer;\n",
              "      display: none;\n",
              "      fill: #1967D2;\n",
              "      height: 32px;\n",
              "      padding: 0 0 0 0;\n",
              "      width: 32px;\n",
              "    }\n",
              "\n",
              "    .colab-df-convert:hover {\n",
              "      background-color: #E2EBFA;\n",
              "      box-shadow: 0px 1px 2px rgba(60, 64, 67, 0.3), 0px 1px 3px 1px rgba(60, 64, 67, 0.15);\n",
              "      fill: #174EA6;\n",
              "    }\n",
              "\n",
              "    [theme=dark] .colab-df-convert {\n",
              "      background-color: #3B4455;\n",
              "      fill: #D2E3FC;\n",
              "    }\n",
              "\n",
              "    [theme=dark] .colab-df-convert:hover {\n",
              "      background-color: #434B5C;\n",
              "      box-shadow: 0px 1px 3px 1px rgba(0, 0, 0, 0.15);\n",
              "      filter: drop-shadow(0px 1px 2px rgba(0, 0, 0, 0.3));\n",
              "      fill: #FFFFFF;\n",
              "    }\n",
              "  </style>\n",
              "\n",
              "      <script>\n",
              "        const buttonEl =\n",
              "          document.querySelector('#df-88fe1751-1136-413d-ae6c-9b512dd4a452 button.colab-df-convert');\n",
              "        buttonEl.style.display =\n",
              "          google.colab.kernel.accessAllowed ? 'block' : 'none';\n",
              "\n",
              "        async function convertToInteractive(key) {\n",
              "          const element = document.querySelector('#df-88fe1751-1136-413d-ae6c-9b512dd4a452');\n",
              "          const dataTable =\n",
              "            await google.colab.kernel.invokeFunction('convertToInteractive',\n",
              "                                                     [key], {});\n",
              "          if (!dataTable) return;\n",
              "\n",
              "          const docLinkHtml = 'Like what you see? Visit the ' +\n",
              "            '<a target=\"_blank\" href=https://colab.research.google.com/notebooks/data_table.ipynb>data table notebook</a>'\n",
              "            + ' to learn more about interactive tables.';\n",
              "          element.innerHTML = '';\n",
              "          dataTable['output_type'] = 'display_data';\n",
              "          await google.colab.output.renderOutput(dataTable, element);\n",
              "          const docLink = document.createElement('div');\n",
              "          docLink.innerHTML = docLinkHtml;\n",
              "          element.appendChild(docLink);\n",
              "        }\n",
              "      </script>\n",
              "    </div>\n",
              "  </div>\n",
              "  "
            ],
            "text/plain": [
              "   cif_id          fullname         dob          phone               ktp  \\\n",
              "0   11111      Susi Susanti  15-07-1993    08782666330  3766998768330004   \n",
              "1   11112  Dr. Rudi Hartono  22-10-1990   087650998431  3232423111112463   \n",
              "2   11113      Rani Natalia  17-08-1985  0851993455690  3655749872900002   \n",
              "\n",
              "                        email  \\\n",
              "0      susi_susanti@gmail.com   \n",
              "1  hartono.rudi@yahoo.co.id     \n",
              "2    rani.natalia@gmail.com     \n",
              "\n",
              "                                             address  \n",
              "0  Jl. Bulutangkis No.7 RT. 003 RW. 006 Kel. Jomb...  \n",
              "1  Jl. Harimau No.9 RT. 001 RW 002 Kel. Sukamaju ...  \n",
              "2  Jl. Mawar No.2 RT. 017 RW 005 Kel. Cinere Kec....  "
            ]
          },
          "execution_count": 106,
          "metadata": {},
          "output_type": "execute_result"
        }
      ],
      "source": [
        "data_copy"
      ]
    },
    {
      "cell_type": "markdown",
      "metadata": {
        "id": "Emxep7jT26bJ"
      },
      "source": [
        "Well all data has been cleaned."
      ]
    },
    {
      "cell_type": "code",
      "execution_count": null,
      "metadata": {
        "id": "09ft-PgE9lpp"
      },
      "outputs": [],
      "source": []
    }
  ],
  "metadata": {
    "colab": {
      "collapsed_sections": [
        "0J5pJLYCaZhp"
      ],
      "name": "Test_Programming.ipynb",
      "provenance": []
    },
    "kernelspec": {
      "display_name": "Python 3.8.5 ('base')",
      "language": "python",
      "name": "python3"
    },
    "language_info": {
      "name": "python",
      "version": "3.8.5"
    },
    "vscode": {
      "interpreter": {
        "hash": "3313081f939a1cd2fc9e524e93ad175a39774b1d821a5d0f007e3e4c61533bad"
      }
    }
  },
  "nbformat": 4,
  "nbformat_minor": 0
}
