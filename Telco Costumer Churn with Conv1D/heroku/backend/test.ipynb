{
 "cells": [
  {
   "cell_type": "code",
   "execution_count": 1,
   "metadata": {},
   "outputs": [],
   "source": [
    "import pickle\n",
    "import joblib\n",
    "import pandas as pd\n",
    "import numpy as np\n",
    "import requests"
   ]
  },
  {
   "cell_type": "code",
   "execution_count": 3,
   "metadata": {},
   "outputs": [],
   "source": [
    "# Load smote\n",
    "with open('model_smote.pkl', 'rb') as file_1:\n",
    "  model_smote = pickle.load(file_1)\n",
    "\n",
    "with open('best_pipe_rf.pkl', 'rb') as file_2:\n",
    "  best_pipe_rf = pickle.load(file_2)\n",
    "\n",
    "with open('best_pipe_svm.pkl', 'rb') as file_3:\n",
    "  best_pipe_svm = pickle.load(file_3)\n",
    "   \n",
    "with open('best_pipe_xgb.pkl', 'rb') as file_4:\n",
    "  best_pipe_xgb = pickle.load(file_4)\n"
   ]
  },
  {
   "cell_type": "code",
   "execution_count": 5,
   "metadata": {},
   "outputs": [],
   "source": [
    "# data = pd.read_csv('predictive_maintenance.csv')"
   ]
  },
  {
   "cell_type": "code",
   "execution_count": 6,
   "metadata": {},
   "outputs": [
    {
     "data": {
      "text/html": [
       "<div>\n",
       "<style scoped>\n",
       "    .dataframe tbody tr th:only-of-type {\n",
       "        vertical-align: middle;\n",
       "    }\n",
       "\n",
       "    .dataframe tbody tr th {\n",
       "        vertical-align: top;\n",
       "    }\n",
       "\n",
       "    .dataframe thead th {\n",
       "        text-align: right;\n",
       "    }\n",
       "</style>\n",
       "<table border=\"1\" class=\"dataframe\">\n",
       "  <thead>\n",
       "    <tr style=\"text-align: right;\">\n",
       "      <th></th>\n",
       "      <th>air_temperature</th>\n",
       "      <th>process_temperature</th>\n",
       "      <th>rotational_speed</th>\n",
       "      <th>torque</th>\n",
       "      <th>tool_wear</th>\n",
       "      <th>Type_H</th>\n",
       "      <th>Type_L</th>\n",
       "      <th>Type_M</th>\n",
       "    </tr>\n",
       "  </thead>\n",
       "  <tbody>\n",
       "    <tr>\n",
       "      <th>0</th>\n",
       "      <td>330.3</td>\n",
       "      <td>360</td>\n",
       "      <td>1800</td>\n",
       "      <td>70.2</td>\n",
       "      <td>16</td>\n",
       "      <td>0</td>\n",
       "      <td>1</td>\n",
       "      <td>0</td>\n",
       "    </tr>\n",
       "  </tbody>\n",
       "</table>\n",
       "</div>"
      ],
      "text/plain": [
       "   air_temperature  process_temperature  rotational_speed  torque  tool_wear  \\\n",
       "0            330.3                  360              1800    70.2         16   \n",
       "\n",
       "   Type_H  Type_L  Type_M  \n",
       "0       0       1       0  "
      ]
     },
     "execution_count": 6,
     "metadata": {},
     "output_type": "execute_result"
    }
   ],
   "source": [
    "datacol = ['air_temperature', 'process_temperature', 'rotational_speed', 'torque',\n",
    "       'tool_wear', 'Type_H', 'Type_L', 'Type_M']\n",
    "new_var = [330.3,360,1800,70.2,16,0,1,0]\n",
    "new_data = pd.DataFrame([new_var], columns=datacol)\n",
    "new_data"
   ]
  },
  {
   "cell_type": "code",
   "execution_count": 7,
   "metadata": {},
   "outputs": [
    {
     "name": "stderr",
     "output_type": "stream",
     "text": [
      "c:\\Users\\Enggar\\anaconda3\\lib\\site-packages\\sklearn\\base.py:443: UserWarning: X has feature names, but RobustScaler was fitted without feature names\n",
      "  warnings.warn(\n"
     ]
    },
    {
     "data": {
      "text/plain": [
       "array([1], dtype=int64)"
      ]
     },
     "execution_count": 7,
     "metadata": {},
     "output_type": "execute_result"
    }
   ],
   "source": [
    "res = best_pipe_xgb.predict(new_data)\n",
    "res"
   ]
  },
  {
   "cell_type": "code",
   "execution_count": 14,
   "metadata": {},
   "outputs": [],
   "source": [
    "new_df = {'air_temperature': 320.3,\n",
    "                        'process_temperature': 353,\n",
    "                         'rotational_speed': 1780,\n",
    "                         'torque' : 50.2,\n",
    "                         'tool_wear': 14,\n",
    "                         'Type_H': 0,\n",
    "                         'Type_L': 1,\n",
    "                         'Type_M': 0}"
   ]
  },
  {
   "cell_type": "code",
   "execution_count": 15,
   "metadata": {},
   "outputs": [
    {
     "data": {
      "text/html": [
       "<div>\n",
       "<style scoped>\n",
       "    .dataframe tbody tr th:only-of-type {\n",
       "        vertical-align: middle;\n",
       "    }\n",
       "\n",
       "    .dataframe tbody tr th {\n",
       "        vertical-align: top;\n",
       "    }\n",
       "\n",
       "    .dataframe thead th {\n",
       "        text-align: right;\n",
       "    }\n",
       "</style>\n",
       "<table border=\"1\" class=\"dataframe\">\n",
       "  <thead>\n",
       "    <tr style=\"text-align: right;\">\n",
       "      <th></th>\n",
       "      <th>air_temperature</th>\n",
       "      <th>process_temperature</th>\n",
       "      <th>rotational_speed</th>\n",
       "      <th>torque</th>\n",
       "      <th>tool_wear</th>\n",
       "      <th>Type_H</th>\n",
       "      <th>Type_L</th>\n",
       "      <th>Type_M</th>\n",
       "    </tr>\n",
       "  </thead>\n",
       "  <tbody>\n",
       "    <tr>\n",
       "      <th>0</th>\n",
       "      <td>320.3</td>\n",
       "      <td>353</td>\n",
       "      <td>1780</td>\n",
       "      <td>50.2</td>\n",
       "      <td>14</td>\n",
       "      <td>0</td>\n",
       "      <td>1</td>\n",
       "      <td>0</td>\n",
       "    </tr>\n",
       "  </tbody>\n",
       "</table>\n",
       "</div>"
      ],
      "text/plain": [
       "   air_temperature  process_temperature  rotational_speed  torque  tool_wear  \\\n",
       "0            320.3                  353              1780    50.2         14   \n",
       "\n",
       "   Type_H  Type_L  Type_M  \n",
       "0       0       1       0  "
      ]
     },
     "execution_count": 15,
     "metadata": {},
     "output_type": "execute_result"
    }
   ],
   "source": [
    "pd.DataFrame([new_df])"
   ]
  },
  {
   "cell_type": "code",
   "execution_count": 21,
   "metadata": {},
   "outputs": [
    {
     "data": {
      "text/plain": [
       "{'result': {'class': '0', 'class_name': 'Not Failure'}, 'success': True}"
      ]
     },
     "execution_count": 21,
     "metadata": {},
     "output_type": "execute_result"
    }
   ],
   "source": [
    "URL = \"http://127.0.0.1:5000/predict\"\n",
    "data = {'air_temperature': 320.3,\n",
    "        'process_temperature': 353,\n",
    "        'rotational_speed': 1780,\n",
    "        'torque' : 50.2,\n",
    "        'tool_wear': 14,\n",
    "        'Type_H': 0,\n",
    "        'Type_L': 1,\n",
    "        'Type_M': 0}\n",
    "r = requests.post(URL, json=data)\n",
    "data = r.json()\n",
    "data"
   ]
  },
  {
   "cell_type": "code",
   "execution_count": 22,
   "metadata": {},
   "outputs": [
    {
     "data": {
      "text/plain": [
       "200"
      ]
     },
     "execution_count": 22,
     "metadata": {},
     "output_type": "execute_result"
    }
   ],
   "source": [
    "r.status_code"
   ]
  },
  {
   "cell_type": "code",
   "execution_count": null,
   "metadata": {},
   "outputs": [],
   "source": [
    "#  newdata = [\n",
    "#         content['Airline'], \n",
    "#         content['Flight'],\n",
    "#         content['AirportFrom'],\n",
    "#         content['AirportTo'],\n",
    "#         content['DayOfWeek'],\n",
    "#         content['Time'],\n",
    "#         content['Length']\n",
    "#                ]"
   ]
  },
  {
   "cell_type": "code",
   "execution_count": 6,
   "metadata": {},
   "outputs": [
    {
     "data": {
      "text/plain": [
       "{'result': {'label_idx': '0', 'label_name': 'On Time'}, 'success': True}"
      ]
     },
     "execution_count": 6,
     "metadata": {},
     "output_type": "execute_result"
    }
   ],
   "source": [
    "import requests\n",
    "URL = \"http://127.0.0.1:5000/predict\"\n",
    "data = {'Airline': 'OO',\n",
    "        'Flight': 6278,\n",
    "        'AirportFrom': \"DEN\",\n",
    "        'AirportTo' : \"GCC\",\n",
    "        'DayOfWeek': 7,\n",
    "        'Time': 675,\n",
    "        'Length': 7400}\n",
    "r = requests.post(URL, json=data)\n",
    "data = r.json()\n",
    "data"
   ]
  },
  {
   "cell_type": "code",
   "execution_count": 1,
   "metadata": {},
   "outputs": [],
   "source": [
    "data = [[0.00000000e+00, 1.00000000e+00, 1.00000000e+00, 0.00000000e+00,\n",
    "        1.00000000e+00, 0.00000000e+00, 0.00000000e+00, 1.00000000e+00,\n",
    "        0.00000000e+00, 0.00000000e+00, 1.00000000e+00, 0.00000000e+00,\n",
    "        0.00000000e+00, 1.00000000e+00, 0.00000000e+00, 1.00000000e+00,\n",
    "        0.00000000e+00, 0.00000000e+00, 1.00000000e+00, 0.00000000e+00,\n",
    "        0.00000000e+00, 1.00000000e+00, 0.00000000e+00, 0.00000000e+00,\n",
    "        1.00000000e+00, 0.00000000e+00, 0.00000000e+00, 1.00000000e+00,\n",
    "        0.00000000e+00, 0.00000000e+00, 1.00000000e+00, 0.00000000e+00,\n",
    "        1.00000000e+00, 0.00000000e+00, 0.00000000e+00, 0.00000000e+00,\n",
    "        1.00000000e+00, 0.00000000e+00, 0.00000000e+00, 1.00000000e+00,\n",
    "        0.00000000e+00, 0.00000000e+00, 4.86111111e-01, 7.31343284e-02,\n",
    "        1.01974311e-01]\n",
    "]"
   ]
  },
  {
   "cell_type": "code",
   "execution_count": null,
   "metadata": {},
   "outputs": [],
   "source": []
  },
  {
   "cell_type": "code",
   "execution_count": 3,
   "metadata": {},
   "outputs": [],
   "source": [
    "import json\n",
    "\n",
    "input_data_json = json.dumps({\n",
    "    'signature_name':'serving_default',\n",
    "    'instances': data\n",
    "})\n"
   ]
  },
  {
   "cell_type": "code",
   "execution_count": 6,
   "metadata": {},
   "outputs": [
    {
     "data": {
      "text/plain": [
       "{'predictions': [[0.00149554014]]}"
      ]
     },
     "execution_count": 6,
     "metadata": {},
     "output_type": "execute_result"
    }
   ],
   "source": [
    "import requests\n",
    "URL = \"http://tf-serving-backend.herokuapp.com/v1/models/churn:predict\"\n",
    "# r = requests.post(URL, json=data)\n",
    "# data = r.json()\n",
    "# data \n",
    "r = requests.post(URL, data=input_data_json)\n",
    "result = r.json()\n",
    "result\n",
    "\n",
    "\n"
   ]
  },
  {
   "cell_type": "code",
   "execution_count": 54,
   "metadata": {},
   "outputs": [],
   "source": [
    "import sklearn "
   ]
  },
  {
   "cell_type": "code",
   "execution_count": 55,
   "metadata": {},
   "outputs": [
    {
     "data": {
      "text/plain": [
       "'1.0.2'"
      ]
     },
     "execution_count": 55,
     "metadata": {},
     "output_type": "execute_result"
    }
   ],
   "source": [
    "sklearn.__version__"
   ]
  },
  {
   "cell_type": "code",
   "execution_count": 15,
   "metadata": {},
   "outputs": [],
   "source": [
    "import joblib\n",
    "with open('scale_mm.pkl', 'rb') as f:\n",
    "    model=joblib.load(f)\n",
    "\n",
    "with open('final_xgb_pipe.pkl', 'rb') as f:\n",
    "    model1=joblib.load(f)"
   ]
  },
  {
   "cell_type": "code",
   "execution_count": 16,
   "metadata": {},
   "outputs": [
    {
     "data": {
      "text/plain": [
       "ColumnTransformer(transformers=[('num_norm', StandardScaler(),\n",
       "                                 ['DayOfWeek', 'Time']),\n",
       "                                ('num_skew', MinMaxScaler(),\n",
       "                                 ['Flight', 'Length']),\n",
       "                                ('nom', 'passthrough',\n",
       "                                 ['Airline', 'AirportFrom', 'AirportTo'])])"
      ]
     },
     "execution_count": 16,
     "metadata": {},
     "output_type": "execute_result"
    }
   ],
   "source": [
    "model"
   ]
  },
  {
   "cell_type": "code",
   "execution_count": 17,
   "metadata": {},
   "outputs": [
    {
     "data": {
      "text/plain": [
       "Pipeline(steps=[('preprocessing',\n",
       "                 ColumnTransformer(transformers=[('num', 'passthrough',\n",
       "                                                  slice(0, 4, None)),\n",
       "                                                 ('nom',\n",
       "                                                  OneHotEncoder(handle_unknown='ignore'),\n",
       "                                                  slice(4, 6, None))])),\n",
       "                ('pca', TruncatedSVD(n_components=7, random_state=7)),\n",
       "                ('final_XGB',\n",
       "                 XGBClassifier(XGB__learning_rate=0.1, XGB__max_depth=2,\n",
       "                               XGB__n_estimators=60, base_score=0.5,\n",
       "                               booster='gbtree', colsample...\n",
       "                               enable_categorical=False, gamma=0, gpu_id=-1,\n",
       "                               importance_type=None, interaction_constraints='',\n",
       "                               learning_rate=0.02, max_delta_step=0,\n",
       "                               max_depth=6, min_child_weight=1, missing=nan,\n",
       "                               monotone_constraints='()', n_estimators=600,\n",
       "                               n_jobs=1, nthread=1, num_parallel_tree=1,\n",
       "                               predictor='auto', random_state=7, reg_alpha=0,\n",
       "                               reg_lambda=1, scale_pos_weight=1, silent=True,\n",
       "                               subsample=1, ...))])"
      ]
     },
     "execution_count": 17,
     "metadata": {},
     "output_type": "execute_result"
    }
   ],
   "source": [
    "model1"
   ]
  }
 ],
 "metadata": {
  "interpreter": {
   "hash": "3313081f939a1cd2fc9e524e93ad175a39774b1d821a5d0f007e3e4c61533bad"
  },
  "kernelspec": {
   "display_name": "Python 3.8.5 ('base')",
   "language": "python",
   "name": "python3"
  },
  "language_info": {
   "codemirror_mode": {
    "name": "ipython",
    "version": 3
   },
   "file_extension": ".py",
   "mimetype": "text/x-python",
   "name": "python",
   "nbconvert_exporter": "python",
   "pygments_lexer": "ipython3",
   "version": "3.8.5"
  },
  "orig_nbformat": 4
 },
 "nbformat": 4,
 "nbformat_minor": 2
}
